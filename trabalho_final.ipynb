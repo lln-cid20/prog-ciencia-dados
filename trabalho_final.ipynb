{
  "nbformat": 4,
  "nbformat_minor": 0,
  "metadata": {
    "colab": {
      "name": "trabalho-final.ipynb",
      "provenance": [],
      "collapsed_sections": [],
      "toc_visible": true,
      "include_colab_link": true
    },
    "kernelspec": {
      "name": "python3",
      "display_name": "Python 3"
    }
  },
  "cells": [
    {
      "cell_type": "markdown",
      "metadata": {
        "id": "view-in-github",
        "colab_type": "text"
      },
      "source": [
        "<a href=\"https://colab.research.google.com/github/lln-cid20/prog-ciencia-dados/blob/master/trabalho_final.ipynb\" target=\"_parent\"><img src=\"https://colab.research.google.com/assets/colab-badge.svg\" alt=\"Open In Colab\"/></a>"
      ]
    },
    {
      "cell_type": "markdown",
      "metadata": {
        "id": "YBTc5GVZCoy5",
        "colab_type": "text"
      },
      "source": [
        "# **APRESENTAÇÃO**"
      ]
    },
    {
      "cell_type": "markdown",
      "metadata": {
        "id": "3VXXHYd2C1Zv",
        "colab_type": "text"
      },
      "source": [
        "**Resumo**"
      ]
    },
    {
      "cell_type": "markdown",
      "metadata": {
        "id": "7MXTEHRzC6bK",
        "colab_type": "text"
      },
      "source": [
        "Este trabalho, realizado como atividade final da disciplina de Programação para Ciência de Dados, do curso de Pós-graduação em Ciência de Dados 2020/2021, apresenta os resultados da análise sobre uma base de dados de tweets, procurando identificar as diversas perguntas feitas em relação à COVID-19, bem como classificar as perguntas conforme os tipos a seguir: sintomas, tratamento, entidades e pessoas.\n"
      ]
    },
    {
      "cell_type": "markdown",
      "metadata": {
        "id": "G_jKKuuzDjlb",
        "colab_type": "text"
      },
      "source": [
        "**Autores**"
      ]
    },
    {
      "cell_type": "markdown",
      "metadata": {
        "id": "RjVTJ2kMDoC7",
        "colab_type": "text"
      },
      "source": [
        "\n",
        "\n",
        "*   Levi Delmiro De Souza Bessa\n",
        "*   Lelson Lopes Nascimento\n",
        "\n",
        "\n"
      ]
    },
    {
      "cell_type": "markdown",
      "metadata": {
        "id": "veZ2cB9MDwbB",
        "colab_type": "text"
      },
      "source": [
        "# **TRABALHO**"
      ]
    },
    {
      "cell_type": "markdown",
      "metadata": {
        "id": "JSHcbjlz2igV",
        "colab_type": "text"
      },
      "source": [
        "# 1 - Analise Inicial\n",
        "\n",
        "Aqui são carregadas as bibliotecas básicas usadas no projeto\n",
        "\n"
      ]
    },
    {
      "cell_type": "code",
      "metadata": {
        "id": "Jvp2OMPDiAX6",
        "colab_type": "code",
        "colab": {}
      },
      "source": [
        "import numpy as np\n",
        "import pandas as pd"
      ],
      "execution_count": null,
      "outputs": []
    },
    {
      "cell_type": "markdown",
      "metadata": {
        "id": "iYs_45kZ3pXS",
        "colab_type": "text"
      },
      "source": [
        "# 2 - Carga do arquivo com os tweetes"
      ]
    },
    {
      "cell_type": "markdown",
      "metadata": {
        "id": "5VpwT0dm4_M1",
        "colab_type": "text"
      },
      "source": [
        "Ler o arquivo usando o dataframe panda "
      ]
    },
    {
      "cell_type": "code",
      "metadata": {
        "id": "VGscx7DF98VI",
        "colab_type": "code",
        "colab": {}
      },
      "source": [
        "# Importa bibliotecas que permitem ler o CSV para o Google Drive\n",
        "from pydrive.auth import GoogleAuth\n",
        "from pydrive.drive import GoogleDrive\n",
        "from google.colab import auth\n",
        "from oauth2client.client import GoogleCredentials\n",
        "\n",
        "auth.authenticate_user()\n",
        "gauth = GoogleAuth()\n",
        "gauth.credentials = GoogleCredentials.get_application_default()\n",
        "drive = GoogleDrive(gauth)\n",
        "\n",
        "downloaded = drive.CreateFile({\"id\":\"19XzSWYcWbew7PHTCCb6QZXLKX0GSp7HC\"})\n",
        "downloaded.GetContentFile(\"dados-curso-completo.csv\")\n",
        "\n",
        "# https://drive.google.com/file/d/19XzSWYcWbew7PHTCCb6QZXLKX0GSp7HC/view?usp=sharing\n",
        "\n",
        "dados = pd.read_csv(\"dados-curso-completo.csv\")"
      ],
      "execution_count": null,
      "outputs": []
    },
    {
      "cell_type": "markdown",
      "metadata": {
        "id": "PRnrX6QU4xm-",
        "colab_type": "text"
      },
      "source": [
        "# 3 - Verificação inicial dos dados e Gráficos da base de dados bruta"
      ]
    },
    {
      "cell_type": "markdown",
      "metadata": {
        "id": "l14iqEk6MWzE",
        "colab_type": "text"
      },
      "source": [
        "Apresentar o tipo de dados"
      ]
    },
    {
      "cell_type": "code",
      "metadata": {
        "id": "Ab_SNNpq9UAS",
        "colab_type": "code",
        "colab": {
          "base_uri": "https://localhost:8080/",
          "height": 34
        },
        "outputId": "95e25692-eba0-4cd2-eceb-bfc382e977f6"
      },
      "source": [
        "type(dados)\n"
      ],
      "execution_count": null,
      "outputs": [
        {
          "output_type": "execute_result",
          "data": {
            "text/plain": [
              "pandas.core.frame.DataFrame"
            ]
          },
          "metadata": {
            "tags": []
          },
          "execution_count": 3
        }
      ]
    },
    {
      "cell_type": "markdown",
      "metadata": {
        "id": "o5S1H0IMMZ5C",
        "colab_type": "text"
      },
      "source": [
        "Mostrar os primeiros registros do banco de dados importado"
      ]
    },
    {
      "cell_type": "code",
      "metadata": {
        "id": "0X4culQz-Qrb",
        "colab_type": "code",
        "colab": {
          "base_uri": "https://localhost:8080/",
          "height": 289
        },
        "outputId": "fa403ef4-c03f-4625-94a5-0113cbd3883a"
      },
      "source": [
        "dados.head(5)\n"
      ],
      "execution_count": null,
      "outputs": [
        {
          "output_type": "execute_result",
          "data": {
            "text/html": [
              "<div>\n",
              "<style scoped>\n",
              "    .dataframe tbody tr th:only-of-type {\n",
              "        vertical-align: middle;\n",
              "    }\n",
              "\n",
              "    .dataframe tbody tr th {\n",
              "        vertical-align: top;\n",
              "    }\n",
              "\n",
              "    .dataframe thead th {\n",
              "        text-align: right;\n",
              "    }\n",
              "</style>\n",
              "<table border=\"1\" class=\"dataframe\">\n",
              "  <thead>\n",
              "    <tr style=\"text-align: right;\">\n",
              "      <th></th>\n",
              "      <th>data</th>\n",
              "      <th>usuario</th>\n",
              "      <th>apelido</th>\n",
              "      <th>texto</th>\n",
              "      <th>retweet</th>\n",
              "      <th>seguidores</th>\n",
              "      <th>idioma</th>\n",
              "      <th>lugar</th>\n",
              "      <th>pais</th>\n",
              "      <th>sigla</th>\n",
              "      <th>latitude</th>\n",
              "      <th>longitude</th>\n",
              "      <th>hashtags</th>\n",
              "      <th>data_inversa</th>\n",
              "    </tr>\n",
              "  </thead>\n",
              "  <tbody>\n",
              "    <tr>\n",
              "      <th>0</th>\n",
              "      <td>2020-03-23 18:51:14</td>\n",
              "      <td>Gaboardi</td>\n",
              "      <td>fraslee</td>\n",
              "      <td>@BolsonaroSP Cade o fundão deputado??? Congres...</td>\n",
              "      <td>0</td>\n",
              "      <td>138</td>\n",
              "      <td>pt</td>\n",
              "      <td>NaN</td>\n",
              "      <td>NaN</td>\n",
              "      <td>NaN</td>\n",
              "      <td>NaN</td>\n",
              "      <td>NaN</td>\n",
              "      <td>[]</td>\n",
              "      <td>2020-03-23 18:51:14</td>\n",
              "    </tr>\n",
              "    <tr>\n",
              "      <th>1</th>\n",
              "      <td>2020-03-18 03:18:14</td>\n",
              "      <td>Seu Zé da Farmácia</td>\n",
              "      <td>seuzedafarmacia</td>\n",
              "      <td>Em ação preventiva, o Governo do Estado suspen...</td>\n",
              "      <td>0</td>\n",
              "      <td>56</td>\n",
              "      <td>pt</td>\n",
              "      <td>NaN</td>\n",
              "      <td>NaN</td>\n",
              "      <td>NaN</td>\n",
              "      <td>NaN</td>\n",
              "      <td>NaN</td>\n",
              "      <td>[]</td>\n",
              "      <td>2020-03-18 03:18:14</td>\n",
              "    </tr>\n",
              "    <tr>\n",
              "      <th>2</th>\n",
              "      <td>2020-03-29 12:09:27</td>\n",
              "      <td>Marília Oliveira 🇧🇷</td>\n",
              "      <td>Marioliveira_gb</td>\n",
              "      <td>Incrível como os defensores do fim do distanci...</td>\n",
              "      <td>0</td>\n",
              "      <td>5</td>\n",
              "      <td>pt</td>\n",
              "      <td>NaN</td>\n",
              "      <td>NaN</td>\n",
              "      <td>NaN</td>\n",
              "      <td>NaN</td>\n",
              "      <td>NaN</td>\n",
              "      <td>[]</td>\n",
              "      <td>2020-03-29 12:09:27</td>\n",
              "    </tr>\n",
              "    <tr>\n",
              "      <th>3</th>\n",
              "      <td>2020-04-01 21:11:07</td>\n",
              "      <td>🚩</td>\n",
              "      <td>santosodeto</td>\n",
              "      <td>Fumaça de cigarro pode propagar coronavírus? h...</td>\n",
              "      <td>0</td>\n",
              "      <td>1885</td>\n",
              "      <td>pt</td>\n",
              "      <td>NaN</td>\n",
              "      <td>NaN</td>\n",
              "      <td>NaN</td>\n",
              "      <td>NaN</td>\n",
              "      <td>NaN</td>\n",
              "      <td>[]</td>\n",
              "      <td>2020-04-01 21:11:07</td>\n",
              "    </tr>\n",
              "    <tr>\n",
              "      <th>4</th>\n",
              "      <td>2020-03-19 17:49:40</td>\n",
              "      <td>Nova Impressão</td>\n",
              "      <td>novaimpressao_</td>\n",
              "      <td>🚨Todos juntos contra COVID-19💪\\n\\nSolicite seu...</td>\n",
              "      <td>0</td>\n",
              "      <td>124</td>\n",
              "      <td>pt</td>\n",
              "      <td>Brasília</td>\n",
              "      <td>Brazil</td>\n",
              "      <td>BR</td>\n",
              "      <td>-47.8778</td>\n",
              "      <td>-15.77691</td>\n",
              "      <td>[]</td>\n",
              "      <td>2020-03-19 17:49:40</td>\n",
              "    </tr>\n",
              "  </tbody>\n",
              "</table>\n",
              "</div>"
            ],
            "text/plain": [
              "                  data              usuario  ... hashtags        data_inversa\n",
              "0  2020-03-23 18:51:14             Gaboardi  ...       [] 2020-03-23 18:51:14\n",
              "1  2020-03-18 03:18:14   Seu Zé da Farmácia  ...       [] 2020-03-18 03:18:14\n",
              "2  2020-03-29 12:09:27  Marília Oliveira 🇧🇷  ...       [] 2020-03-29 12:09:27\n",
              "3  2020-04-01 21:11:07                    🚩  ...       [] 2020-04-01 21:11:07\n",
              "4  2020-03-19 17:49:40       Nova Impressão  ...       [] 2020-03-19 17:49:40\n",
              "\n",
              "[5 rows x 14 columns]"
            ]
          },
          "metadata": {
            "tags": []
          },
          "execution_count": 26
        }
      ]
    },
    {
      "cell_type": "markdown",
      "metadata": {
        "id": "VQRbJRLOMp-I",
        "colab_type": "text"
      },
      "source": [
        "Criação de uma coluna para agrupar tweets de forma diária"
      ]
    },
    {
      "cell_type": "code",
      "metadata": {
        "id": "M_Q-A-r48R4X",
        "colab_type": "code",
        "colab": {}
      },
      "source": [
        "dados['data_inversa'] = pd.to_datetime(dados['data'],yearfirst=True, format='%Y-%m-%d')"
      ],
      "execution_count": null,
      "outputs": []
    },
    {
      "cell_type": "markdown",
      "metadata": {
        "id": "8Qp-9tR9NLvb",
        "colab_type": "text"
      },
      "source": [
        "Agrupar os dados com base na nova coluna, criando um dataframe com os dados agrupados"
      ]
    },
    {
      "cell_type": "code",
      "metadata": {
        "id": "RaeerM-iJ4YQ",
        "colab_type": "code",
        "colab": {}
      },
      "source": [
        "dados_sumario = dados['data_inversa'].groupby(dados['data_inversa'].dt.to_period('D')).agg('count').to_frame()\n"
      ],
      "execution_count": null,
      "outputs": []
    },
    {
      "cell_type": "markdown",
      "metadata": {
        "id": "Ib5av-2QNRIC",
        "colab_type": "text"
      },
      "source": [
        "Criar coluna para contagem de tweets"
      ]
    },
    {
      "cell_type": "code",
      "metadata": {
        "id": "BoMKJp2WLLnw",
        "colab_type": "code",
        "colab": {}
      },
      "source": [
        "dados_sumario.columns = ['cont_tweets']\n"
      ],
      "execution_count": null,
      "outputs": []
    },
    {
      "cell_type": "markdown",
      "metadata": {
        "id": "v5OMEePbNum5",
        "colab_type": "text"
      },
      "source": [
        "Mostrar os primeiros registros do dataframe de valores agregados por dia"
      ]
    },
    {
      "cell_type": "code",
      "metadata": {
        "id": "cunZR_GXLeUI",
        "colab_type": "code",
        "colab": {
          "base_uri": "https://localhost:8080/",
          "height": 233
        },
        "outputId": "68745e5c-ae13-4574-d268-71557ce88c9a"
      },
      "source": [
        "dados_sumario.head(5)"
      ],
      "execution_count": null,
      "outputs": [
        {
          "output_type": "execute_result",
          "data": {
            "text/html": [
              "<div>\n",
              "<style scoped>\n",
              "    .dataframe tbody tr th:only-of-type {\n",
              "        vertical-align: middle;\n",
              "    }\n",
              "\n",
              "    .dataframe tbody tr th {\n",
              "        vertical-align: top;\n",
              "    }\n",
              "\n",
              "    .dataframe thead th {\n",
              "        text-align: right;\n",
              "    }\n",
              "</style>\n",
              "<table border=\"1\" class=\"dataframe\">\n",
              "  <thead>\n",
              "    <tr style=\"text-align: right;\">\n",
              "      <th></th>\n",
              "      <th>cont_tweets</th>\n",
              "    </tr>\n",
              "    <tr>\n",
              "      <th>data_inversa</th>\n",
              "      <th></th>\n",
              "    </tr>\n",
              "  </thead>\n",
              "  <tbody>\n",
              "    <tr>\n",
              "      <th>2020-01-01</th>\n",
              "      <td>28</td>\n",
              "    </tr>\n",
              "    <tr>\n",
              "      <th>2020-01-02</th>\n",
              "      <td>70</td>\n",
              "    </tr>\n",
              "    <tr>\n",
              "      <th>2020-01-03</th>\n",
              "      <td>71</td>\n",
              "    </tr>\n",
              "    <tr>\n",
              "      <th>2020-01-04</th>\n",
              "      <td>79</td>\n",
              "    </tr>\n",
              "    <tr>\n",
              "      <th>2020-01-05</th>\n",
              "      <td>69</td>\n",
              "    </tr>\n",
              "  </tbody>\n",
              "</table>\n",
              "</div>"
            ],
            "text/plain": [
              "              cont_tweets\n",
              "data_inversa             \n",
              "2020-01-01             28\n",
              "2020-01-02             70\n",
              "2020-01-03             71\n",
              "2020-01-04             79\n",
              "2020-01-05             69"
            ]
          },
          "metadata": {
            "tags": []
          },
          "execution_count": 8
        }
      ]
    },
    {
      "cell_type": "markdown",
      "metadata": {
        "id": "P3A3FzQSO4gU",
        "colab_type": "text"
      },
      "source": [
        "Apresentar um gráfico de linhas visando mostrar a evolução do número de tweets ao longo do tempo"
      ]
    },
    {
      "cell_type": "code",
      "metadata": {
        "id": "uiEVUPHmL4og",
        "colab_type": "code",
        "colab": {
          "base_uri": "https://localhost:8080/",
          "height": 364
        },
        "outputId": "9f9ff844-3952-4c18-f81b-dafbc0b68520"
      },
      "source": [
        "dados_sumario.plot(figsize=(12,5))"
      ],
      "execution_count": null,
      "outputs": [
        {
          "output_type": "execute_result",
          "data": {
            "text/plain": [
              "<matplotlib.axes._subplots.AxesSubplot at 0x7f8182575c88>"
            ]
          },
          "metadata": {
            "tags": []
          },
          "execution_count": 9
        },
        {
          "output_type": "display_data",
          "data": {
            "image/png": "[encoded data removed]",
            "text/plain": [
              "<Figure size 864x360 with 1 Axes>"
            ]
          },
          "metadata": {
            "tags": [],
            "needs_background": "light"
          }
        }
      ]
    },
    {
      "cell_type": "markdown",
      "metadata": {
        "id": "1LxZIOtu7kkF",
        "colab_type": "text"
      },
      "source": [
        "Criando um dataframe com base no total de tweets por lugar e Ordenando as cidades em ordem decrescente de número de tweets"
      ]
    },
    {
      "cell_type": "code",
      "metadata": {
        "id": "3KD8WO6W7j1u",
        "colab_type": "code",
        "colab": {}
      },
      "source": [
        "dados_cidades = dados['lugar'].groupby(dados['lugar']).agg('count').to_frame()\n",
        "dados_cidades.columns = ['cont_tweets']\n",
        "\n",
        "dados_cidades = dados_cidades.sort_values(['cont_tweets','lugar'], ascending=False)"
      ],
      "execution_count": null,
      "outputs": []
    },
    {
      "cell_type": "markdown",
      "metadata": {
        "id": "T2SUCmj171ec",
        "colab_type": "text"
      },
      "source": [
        "Exibindo as cidades com maiores números de tweets"
      ]
    },
    {
      "cell_type": "code",
      "metadata": {
        "id": "ja7zONJK6mAG",
        "colab_type": "code",
        "colab": {
          "base_uri": "https://localhost:8080/",
          "height": 386
        },
        "outputId": "63c0d645-6634-44b0-d56d-c1eb4019f894"
      },
      "source": [
        "dados_cidades.head(10)"
      ],
      "execution_count": null,
      "outputs": [
        {
          "output_type": "execute_result",
          "data": {
            "text/html": [
              "<div>\n",
              "<style scoped>\n",
              "    .dataframe tbody tr th:only-of-type {\n",
              "        vertical-align: middle;\n",
              "    }\n",
              "\n",
              "    .dataframe tbody tr th {\n",
              "        vertical-align: top;\n",
              "    }\n",
              "\n",
              "    .dataframe thead th {\n",
              "        text-align: right;\n",
              "    }\n",
              "</style>\n",
              "<table border=\"1\" class=\"dataframe\">\n",
              "  <thead>\n",
              "    <tr style=\"text-align: right;\">\n",
              "      <th></th>\n",
              "      <th>cont_tweets</th>\n",
              "    </tr>\n",
              "    <tr>\n",
              "      <th>lugar</th>\n",
              "      <th></th>\n",
              "    </tr>\n",
              "  </thead>\n",
              "  <tbody>\n",
              "    <tr>\n",
              "      <th>Rio de Janeiro</th>\n",
              "      <td>8443</td>\n",
              "    </tr>\n",
              "    <tr>\n",
              "      <th>Sao Paulo</th>\n",
              "      <td>7469</td>\n",
              "    </tr>\n",
              "    <tr>\n",
              "      <th>Brasília</th>\n",
              "      <td>2822</td>\n",
              "    </tr>\n",
              "    <tr>\n",
              "      <th>Porto Alegre</th>\n",
              "      <td>1866</td>\n",
              "    </tr>\n",
              "    <tr>\n",
              "      <th>Belo Horizonte</th>\n",
              "      <td>1764</td>\n",
              "    </tr>\n",
              "    <tr>\n",
              "      <th>Curitiba</th>\n",
              "      <td>1418</td>\n",
              "    </tr>\n",
              "    <tr>\n",
              "      <th>Recife</th>\n",
              "      <td>1361</td>\n",
              "    </tr>\n",
              "    <tr>\n",
              "      <th>Fortaleza</th>\n",
              "      <td>1282</td>\n",
              "    </tr>\n",
              "    <tr>\n",
              "      <th>Belém</th>\n",
              "      <td>1246</td>\n",
              "    </tr>\n",
              "    <tr>\n",
              "      <th>Salvador</th>\n",
              "      <td>1201</td>\n",
              "    </tr>\n",
              "  </tbody>\n",
              "</table>\n",
              "</div>"
            ],
            "text/plain": [
              "                cont_tweets\n",
              "lugar                      \n",
              "Rio de Janeiro         8443\n",
              "Sao Paulo              7469\n",
              "Brasília               2822\n",
              "Porto Alegre           1866\n",
              "Belo Horizonte         1764\n",
              "Curitiba               1418\n",
              "Recife                 1361\n",
              "Fortaleza              1282\n",
              "Belém                  1246\n",
              "Salvador               1201"
            ]
          },
          "metadata": {
            "tags": []
          },
          "execution_count": 11
        }
      ]
    },
    {
      "cell_type": "markdown",
      "metadata": {
        "id": "cxKzczCHeG2Y",
        "colab_type": "text"
      },
      "source": [
        "Selecionar as 10 primeiras cidades para exibição em um gráfico"
      ]
    },
    {
      "cell_type": "code",
      "metadata": {
        "id": "xpnHZDu1eE-a",
        "colab_type": "code",
        "colab": {
          "base_uri": "https://localhost:8080/",
          "height": 208
        },
        "outputId": "e03d8d38-9138-4afa-a389-79dec2af19fb"
      },
      "source": [
        "dados_cidades = dados_cidades[0:9]\n",
        "\n",
        "print(dados_cidades.count)"
      ],
      "execution_count": null,
      "outputs": [
        {
          "output_type": "stream",
          "text": [
            "<bound method DataFrame.count of                 cont_tweets\n",
            "lugar                      \n",
            "Rio de Janeiro         8443\n",
            "Sao Paulo              7469\n",
            "Brasília               2822\n",
            "Porto Alegre           1866\n",
            "Belo Horizonte         1764\n",
            "Curitiba               1418\n",
            "Recife                 1361\n",
            "Fortaleza              1282\n",
            "Belém                  1246>\n"
          ],
          "name": "stdout"
        }
      ]
    },
    {
      "cell_type": "markdown",
      "metadata": {
        "id": "IdFzWfN6JjWm",
        "colab_type": "text"
      },
      "source": [
        "Apresentação do gráfico"
      ]
    },
    {
      "cell_type": "code",
      "metadata": {
        "id": "Ngi2jr4s_bLu",
        "colab_type": "code",
        "colab": {
          "base_uri": "https://localhost:8080/",
          "height": 414
        },
        "outputId": "bcc10b9f-56b0-4739-b979-cb3d5090835e"
      },
      "source": [
        "dados_cidades.plot(kind= 'bar',figsize=(12,5))"
      ],
      "execution_count": null,
      "outputs": [
        {
          "output_type": "execute_result",
          "data": {
            "text/plain": [
              "<matplotlib.axes._subplots.AxesSubplot at 0x7f81811b5e10>"
            ]
          },
          "metadata": {
            "tags": []
          },
          "execution_count": 13
        },
        {
          "output_type": "display_data",
          "data": {
            "image/png": "[encoded data removed]",
            "text/plain": [
              "<Figure size 864x360 with 1 Axes>"
            ]
          },
          "metadata": {
            "tags": [],
            "needs_background": "light"
          }
        }
      ]
    },
    {
      "cell_type": "code",
      "metadata": {
        "id": "28_IBTVstsNt",
        "colab_type": "code",
        "colab": {
          "base_uri": "https://localhost:8080/",
          "height": 225
        },
        "outputId": "de8c4a48-bf04-4549-c225-d68befbe10b1"
      },
      "source": [
        "!pip install mplleaflet"
      ],
      "execution_count": null,
      "outputs": [
        {
          "output_type": "stream",
          "text": [
            "Collecting mplleaflet\n",
            "  Downloading https://files.pythonhosted.org/packages/05/b3/e68ff575ef0872e096878c75f602e76b06ca44d7038d69d867c7b800745b/mplleaflet-0.0.5.tar.gz\n",
            "Requirement already satisfied: jinja2 in /usr/local/lib/python3.6/dist-packages (from mplleaflet) (2.11.2)\n",
            "Requirement already satisfied: six in /usr/local/lib/python3.6/dist-packages (from mplleaflet) (1.15.0)\n",
            "Requirement already satisfied: MarkupSafe>=0.23 in /usr/local/lib/python3.6/dist-packages (from jinja2->mplleaflet) (1.1.1)\n",
            "Building wheels for collected packages: mplleaflet\n",
            "  Building wheel for mplleaflet (setup.py) ... \u001b[?25l\u001b[?25hdone\n",
            "  Created wheel for mplleaflet: filename=mplleaflet-0.0.5-cp36-none-any.whl size=28555 sha256=8365c452d9d5f727b3c6864e832ef80a77c7c2b8140f832f585dc66d61d6ff27\n",
            "  Stored in directory: /root/.cache/pip/wheels/bf/fd/0b/0513de62c339c4a56e2234aa42a5d06e6660a4446fdae7b796\n",
            "Successfully built mplleaflet\n",
            "Installing collected packages: mplleaflet\n",
            "Successfully installed mplleaflet-0.0.5\n"
          ],
          "name": "stdout"
        }
      ]
    },
    {
      "cell_type": "code",
      "metadata": {
        "id": "xU_XAB0utTGB",
        "colab_type": "code",
        "colab": {
          "base_uri": "https://localhost:8080/",
          "height": 202
        },
        "outputId": "74b1feb2-b7c1-4bd9-90b0-0051aa29cf9c"
      },
      "source": [
        "import mplleaflet as mll\n",
        "\n",
        "\n",
        "# Importa bibliotecas que permitem ler o CSV para o Google Drive\n",
        "from pydrive.auth import GoogleAuth\n",
        "from pydrive.drive import GoogleDrive\n",
        "from google.colab import auth\n",
        "from oauth2client.client import GoogleCredentials\n",
        "\n",
        "auth.authenticate_user()\n",
        "gauth = GoogleAuth()\n",
        "gauth.credentials = GoogleCredentials.get_application_default()\n",
        "drive = GoogleDrive(gauth)\n",
        "\n",
        "downloaded = drive.CreateFile({\"id\":\"1lw4fMtQKWezaFlRNzzAU2HltdnFcE88g\"})\n",
        "downloaded.GetContentFile(\"cidades_brasil.csv\")  \n",
        "cidades = pd.read_csv('cidades_brasil.csv')\n",
        "#cidades = pd.read_csv('https://drive.google.com/file/d/1lw4fMtQKWezaFlRNzzAU2HltdnFcE88g/view?usp=sharing') \n",
        "\n",
        "cidades['LATITUDE'] = cidades.LATITUDE.replace(\".\",\",\")\n",
        "cidades['LONGITUDE'] = cidades.LONGITUDE.replace(\".\",\",\")\n",
        "\n",
        "cidades['LATITUDE'] = cidades.LATITUDE.astype('float')\n",
        "cidades['LONGITUDE'] = cidades.LONGITUDE.astype('float')\n",
        "\n",
        "\n",
        "merged_df = pd.merge(left=dados_cidades, right=cidades, left_on='lugar', right_on='nome')\n",
        "\n",
        "# dados_cidades = dados_cidades[dados_cidades['']]\n",
        "\n",
        "merged_df.head(5)\n",
        "\n"
      ],
      "execution_count": null,
      "outputs": [
        {
          "output_type": "execute_result",
          "data": {
            "text/html": [
              "<div>\n",
              "<style scoped>\n",
              "    .dataframe tbody tr th:only-of-type {\n",
              "        vertical-align: middle;\n",
              "    }\n",
              "\n",
              "    .dataframe tbody tr th {\n",
              "        vertical-align: top;\n",
              "    }\n",
              "\n",
              "    .dataframe thead th {\n",
              "        text-align: right;\n",
              "    }\n",
              "</style>\n",
              "<table border=\"1\" class=\"dataframe\">\n",
              "  <thead>\n",
              "    <tr style=\"text-align: right;\">\n",
              "      <th></th>\n",
              "      <th>cont_tweets</th>\n",
              "      <th>nome</th>\n",
              "      <th>LATITUDE</th>\n",
              "      <th>LONGITUDE</th>\n",
              "    </tr>\n",
              "  </thead>\n",
              "  <tbody>\n",
              "    <tr>\n",
              "      <th>0</th>\n",
              "      <td>8443</td>\n",
              "      <td>Rio de Janeiro</td>\n",
              "      <td>-22.913868</td>\n",
              "      <td>-43.201041</td>\n",
              "    </tr>\n",
              "    <tr>\n",
              "      <th>1</th>\n",
              "      <td>2822</td>\n",
              "      <td>Brasília</td>\n",
              "      <td>-15.780421</td>\n",
              "      <td>-47.930434</td>\n",
              "    </tr>\n",
              "    <tr>\n",
              "      <th>2</th>\n",
              "      <td>1866</td>\n",
              "      <td>Porto Alegre</td>\n",
              "      <td>-30.032732</td>\n",
              "      <td>-51.207441</td>\n",
              "    </tr>\n",
              "    <tr>\n",
              "      <th>3</th>\n",
              "      <td>1764</td>\n",
              "      <td>Belo Horizonte</td>\n",
              "      <td>-19.911129</td>\n",
              "      <td>-43.927314</td>\n",
              "    </tr>\n",
              "    <tr>\n",
              "      <th>4</th>\n",
              "      <td>1418</td>\n",
              "      <td>Curitiba</td>\n",
              "      <td>-25.420501</td>\n",
              "      <td>-49.265468</td>\n",
              "    </tr>\n",
              "  </tbody>\n",
              "</table>\n",
              "</div>"
            ],
            "text/plain": [
              "   cont_tweets            nome   LATITUDE  LONGITUDE\n",
              "0         8443  Rio de Janeiro -22.913868 -43.201041\n",
              "1         2822        Brasília -15.780421 -47.930434\n",
              "2         1866    Porto Alegre -30.032732 -51.207441\n",
              "3         1764  Belo Horizonte -19.911129 -43.927314\n",
              "4         1418        Curitiba -25.420501 -49.265468"
            ]
          },
          "metadata": {
            "tags": []
          },
          "execution_count": 15
        }
      ]
    },
    {
      "cell_type": "code",
      "metadata": {
        "id": "vcOjE9kBuw8T",
        "colab_type": "code",
        "colab": {
          "base_uri": "https://localhost:8080/",
          "height": 225
        },
        "outputId": "51e9c843-5f63-423c-b09e-4a688a03a24c"
      },
      "source": [
        "print(merged_df.count)"
      ],
      "execution_count": null,
      "outputs": [
        {
          "output_type": "stream",
          "text": [
            "<bound method DataFrame.count of     cont_tweets            nome   LATITUDE  LONGITUDE\n",
            "0          8443  Rio de Janeiro -22.913868 -43.201041\n",
            "1          2822        Brasília -15.780421 -47.930434\n",
            "2          1866    Porto Alegre -30.032732 -51.207441\n",
            "3          1764  Belo Horizonte -19.911129 -43.927314\n",
            "4          1418        Curitiba -25.420501 -49.265468\n",
            "5          1361          Recife  -8.047509 -34.877641\n",
            "6          1282       Fortaleza  -9.805604 -65.526657\n",
            "7          1282       Fortaleza  -3.717430 -38.542923\n",
            "8          1246           Belém  -6.743460 -35.517221\n",
            "9          1246           Belém  -9.570906 -36.490700\n",
            "10         1246           Belém  -1.456154 -48.490511>\n"
          ],
          "name": "stdout"
        }
      ]
    },
    {
      "cell_type": "code",
      "metadata": {
        "id": "kRtXKJKMupio",
        "colab_type": "code",
        "colab": {}
      },
      "source": [
        "import matplotlib.pyplot as plt\n",
        "\n",
        "plt.scatter(merged_df['LONGITUDE'], merged_df['LATITUDE'], marker='.',)\n",
        "mll.show()"
      ],
      "execution_count": null,
      "outputs": []
    },
    {
      "cell_type": "markdown",
      "metadata": {
        "id": "le3Zgm57nQIA",
        "colab_type": "text"
      },
      "source": [
        "# 4 - Extração da Base de dados de perguntas dentre os tweets"
      ]
    },
    {
      "cell_type": "code",
      "metadata": {
        "id": "ZDFcirJW0kOT",
        "colab_type": "code",
        "colab": {
          "base_uri": "https://localhost:8080/",
          "height": 34
        },
        "outputId": "fb7b261e-c588-43f4-fd68-b3f9cde1d41a"
      },
      "source": [
        "print(type(dados['texto']))"
      ],
      "execution_count": null,
      "outputs": [
        {
          "output_type": "stream",
          "text": [
            "<class 'pandas.core.series.Series'>\n"
          ],
          "name": "stdout"
        }
      ]
    },
    {
      "cell_type": "code",
      "metadata": {
        "id": "GU2F-WiCb_65",
        "colab_type": "code",
        "colab": {
          "base_uri": "https://localhost:8080/",
          "height": 260
        },
        "outputId": "fec6bf2e-5115-42dd-ab55-67220bff5227"
      },
      "source": [
        "print(dados.count)"
      ],
      "execution_count": null,
      "outputs": [
        {
          "output_type": "stream",
          "text": [
            "<bound method DataFrame.count of                         data  ...        data_inversa\n",
            "0        2020-03-23 18:51:14  ... 2020-03-23 18:51:14\n",
            "1        2020-03-18 03:18:14  ... 2020-03-18 03:18:14\n",
            "2        2020-03-29 12:09:27  ... 2020-03-29 12:09:27\n",
            "3        2020-04-01 21:11:07  ... 2020-04-01 21:11:07\n",
            "4        2020-03-19 17:49:40  ... 2020-03-19 17:49:40\n",
            "...                      ...  ...                 ...\n",
            "1658820  2020-03-13 17:26:18  ... 2020-03-13 17:26:18\n",
            "1658821  2020-05-12 13:02:34  ... 2020-05-12 13:02:34\n",
            "1658822  2020-03-19 18:16:30  ... 2020-03-19 18:16:30\n",
            "1658823  2020-04-07 18:14:45  ... 2020-04-07 18:14:45\n",
            "1658824  2020-06-02 16:04:51  ... 2020-06-02 16:04:51\n",
            "\n",
            "[1658825 rows x 14 columns]>\n"
          ],
          "name": "stdout"
        }
      ]
    },
    {
      "cell_type": "code",
      "metadata": {
        "id": "at3vSsQGbkyh",
        "colab_type": "code",
        "colab": {}
      },
      "source": [
        "dados2 = dados.loc[dados.texto.str.find('?') >= 0 ]"
      ],
      "execution_count": null,
      "outputs": []
    },
    {
      "cell_type": "code",
      "metadata": {
        "id": "qI6kOlsKZMk9",
        "colab_type": "code",
        "colab": {
          "base_uri": "https://localhost:8080/",
          "height": 260
        },
        "outputId": "6a2e9fa9-6c79-4b3f-d431-c0c6246eb5cf"
      },
      "source": [
        "print(dados2.count)"
      ],
      "execution_count": null,
      "outputs": [
        {
          "output_type": "stream",
          "text": [
            "<bound method DataFrame.count of                         data  ...        data_inversa\n",
            "0        2020-03-23 18:51:14  ... 2020-03-23 18:51:14\n",
            "3        2020-04-01 21:11:07  ... 2020-04-01 21:11:07\n",
            "38       2020-06-25 11:09:19  ... 2020-06-25 11:09:19\n",
            "45       2020-04-06 15:44:36  ... 2020-04-06 15:44:36\n",
            "57       2020-03-30 00:43:36  ... 2020-03-30 00:43:36\n",
            "...                      ...  ...                 ...\n",
            "1658795  2020-03-24 23:50:14  ... 2020-03-24 23:50:14\n",
            "1658810  2020-03-26 21:43:24  ... 2020-03-26 21:43:24\n",
            "1658818  2020-05-25 22:53:13  ... 2020-05-25 22:53:13\n",
            "1658820  2020-03-13 17:26:18  ... 2020-03-13 17:26:18\n",
            "1658821  2020-05-12 13:02:34  ... 2020-05-12 13:02:34\n",
            "\n",
            "[172501 rows x 14 columns]>\n"
          ],
          "name": "stdout"
        }
      ]
    },
    {
      "cell_type": "code",
      "metadata": {
        "id": "whAiICHub_nS",
        "colab_type": "code",
        "colab": {
          "base_uri": "https://localhost:8080/",
          "height": 702
        },
        "outputId": "a8fbc37c-4895-4240-c9dd-f98e70ac5d8d"
      },
      "source": [
        "dados2.head(10)"
      ],
      "execution_count": null,
      "outputs": [
        {
          "output_type": "execute_result",
          "data": {
            "text/html": [
              "<div>\n",
              "<style scoped>\n",
              "    .dataframe tbody tr th:only-of-type {\n",
              "        vertical-align: middle;\n",
              "    }\n",
              "\n",
              "    .dataframe tbody tr th {\n",
              "        vertical-align: top;\n",
              "    }\n",
              "\n",
              "    .dataframe thead th {\n",
              "        text-align: right;\n",
              "    }\n",
              "</style>\n",
              "<table border=\"1\" class=\"dataframe\">\n",
              "  <thead>\n",
              "    <tr style=\"text-align: right;\">\n",
              "      <th></th>\n",
              "      <th>data</th>\n",
              "      <th>usuario</th>\n",
              "      <th>apelido</th>\n",
              "      <th>texto</th>\n",
              "      <th>retweet</th>\n",
              "      <th>seguidores</th>\n",
              "      <th>idioma</th>\n",
              "      <th>lugar</th>\n",
              "      <th>pais</th>\n",
              "      <th>sigla</th>\n",
              "      <th>latitude</th>\n",
              "      <th>longitude</th>\n",
              "      <th>hashtags</th>\n",
              "      <th>data_inversa</th>\n",
              "    </tr>\n",
              "  </thead>\n",
              "  <tbody>\n",
              "    <tr>\n",
              "      <th>0</th>\n",
              "      <td>2020-03-23 18:51:14</td>\n",
              "      <td>Gaboardi</td>\n",
              "      <td>fraslee</td>\n",
              "      <td>@BolsonaroSP Cade o fundão deputado??? Congres...</td>\n",
              "      <td>0</td>\n",
              "      <td>138</td>\n",
              "      <td>pt</td>\n",
              "      <td>NaN</td>\n",
              "      <td>NaN</td>\n",
              "      <td>NaN</td>\n",
              "      <td>NaN</td>\n",
              "      <td>NaN</td>\n",
              "      <td>[]</td>\n",
              "      <td>2020-03-23 18:51:14</td>\n",
              "    </tr>\n",
              "    <tr>\n",
              "      <th>3</th>\n",
              "      <td>2020-04-01 21:11:07</td>\n",
              "      <td>🚩</td>\n",
              "      <td>santosodeto</td>\n",
              "      <td>Fumaça de cigarro pode propagar coronavírus? h...</td>\n",
              "      <td>0</td>\n",
              "      <td>1885</td>\n",
              "      <td>pt</td>\n",
              "      <td>NaN</td>\n",
              "      <td>NaN</td>\n",
              "      <td>NaN</td>\n",
              "      <td>NaN</td>\n",
              "      <td>NaN</td>\n",
              "      <td>[]</td>\n",
              "      <td>2020-04-01 21:11:07</td>\n",
              "    </tr>\n",
              "    <tr>\n",
              "      <th>38</th>\n",
              "      <td>2020-06-25 11:09:19</td>\n",
              "      <td>Andreia Peraro</td>\n",
              "      <td>AndreiaPeraro</td>\n",
              "      <td>@ipratesMD @dr_pampers Será que corremos o ris...</td>\n",
              "      <td>0</td>\n",
              "      <td>86</td>\n",
              "      <td>pt</td>\n",
              "      <td>NaN</td>\n",
              "      <td>NaN</td>\n",
              "      <td>NaN</td>\n",
              "      <td>NaN</td>\n",
              "      <td>NaN</td>\n",
              "      <td>[]</td>\n",
              "      <td>2020-06-25 11:09:19</td>\n",
              "    </tr>\n",
              "    <tr>\n",
              "      <th>45</th>\n",
              "      <td>2020-04-06 15:44:36</td>\n",
              "      <td>Diorgenes Pandini</td>\n",
              "      <td>diorpandini</td>\n",
              "      <td>Prioridade ?!\\n\\n #COVID19 #floripa #isolament...</td>\n",
              "      <td>0</td>\n",
              "      <td>219</td>\n",
              "      <td>pt</td>\n",
              "      <td>NaN</td>\n",
              "      <td>NaN</td>\n",
              "      <td>NaN</td>\n",
              "      <td>NaN</td>\n",
              "      <td>NaN</td>\n",
              "      <td>['COVID19', 'floripa', 'isolamento']</td>\n",
              "      <td>2020-04-06 15:44:36</td>\n",
              "    </tr>\n",
              "    <tr>\n",
              "      <th>57</th>\n",
              "      <td>2020-03-30 00:43:36</td>\n",
              "      <td>Valnei do Val</td>\n",
              "      <td>vdoval</td>\n",
              "      <td>Que tal uma notícia boa, indo na contramão do ...</td>\n",
              "      <td>0</td>\n",
              "      <td>201</td>\n",
              "      <td>pt</td>\n",
              "      <td>NaN</td>\n",
              "      <td>NaN</td>\n",
              "      <td>NaN</td>\n",
              "      <td>NaN</td>\n",
              "      <td>NaN</td>\n",
              "      <td>[]</td>\n",
              "      <td>2020-03-30 00:43:36</td>\n",
              "    </tr>\n",
              "    <tr>\n",
              "      <th>73</th>\n",
              "      <td>2020-04-07 23:19:44</td>\n",
              "      <td>Mauricio Ligabo</td>\n",
              "      <td>LigaboMauricio</td>\n",
              "      <td>@JoseMedeirosMT Seria isso algum tipo aleatóri...</td>\n",
              "      <td>0</td>\n",
              "      <td>23</td>\n",
              "      <td>pt</td>\n",
              "      <td>NaN</td>\n",
              "      <td>NaN</td>\n",
              "      <td>NaN</td>\n",
              "      <td>NaN</td>\n",
              "      <td>NaN</td>\n",
              "      <td>[]</td>\n",
              "      <td>2020-04-07 23:19:44</td>\n",
              "    </tr>\n",
              "    <tr>\n",
              "      <th>77</th>\n",
              "      <td>2020-04-13 19:16:51</td>\n",
              "      <td>Gus</td>\n",
              "      <td>arrombagus</td>\n",
              "      <td>\"Nova York é o novo epicentro da pandemia de c...</td>\n",
              "      <td>3</td>\n",
              "      <td>253</td>\n",
              "      <td>pt</td>\n",
              "      <td>Santos</td>\n",
              "      <td>Brazil</td>\n",
              "      <td>BR</td>\n",
              "      <td>NaN</td>\n",
              "      <td>NaN</td>\n",
              "      <td>[]</td>\n",
              "      <td>2020-04-13 19:16:51</td>\n",
              "    </tr>\n",
              "    <tr>\n",
              "      <th>116</th>\n",
              "      <td>2020-05-15 18:15:33</td>\n",
              "      <td>Silveacyr Maria Coelho Santos</td>\n",
              "      <td>silveacyr</td>\n",
              "      <td>@mitags Será por que o Bolsonaro não fez propa...</td>\n",
              "      <td>0</td>\n",
              "      <td>67</td>\n",
              "      <td>pt</td>\n",
              "      <td>NaN</td>\n",
              "      <td>NaN</td>\n",
              "      <td>NaN</td>\n",
              "      <td>NaN</td>\n",
              "      <td>NaN</td>\n",
              "      <td>[]</td>\n",
              "      <td>2020-05-15 18:15:33</td>\n",
              "    </tr>\n",
              "    <tr>\n",
              "      <th>118</th>\n",
              "      <td>2020-04-08 22:04:51</td>\n",
              "      <td>lulleitao</td>\n",
              "      <td>lulleitao</td>\n",
              "      <td>@JeanSCorrea7 Mas ele não deu a entender que o...</td>\n",
              "      <td>0</td>\n",
              "      <td>2315</td>\n",
              "      <td>pt</td>\n",
              "      <td>NaN</td>\n",
              "      <td>NaN</td>\n",
              "      <td>NaN</td>\n",
              "      <td>NaN</td>\n",
              "      <td>NaN</td>\n",
              "      <td>[]</td>\n",
              "      <td>2020-04-08 22:04:51</td>\n",
              "    </tr>\n",
              "    <tr>\n",
              "      <th>119</th>\n",
              "      <td>2020-04-02 13:04:55</td>\n",
              "      <td>Luizcarlosdospatetas@hotmail.com</td>\n",
              "      <td>Luizcarlosdosp5</td>\n",
              "      <td>#perguntacorona \\nQuero saber se a covid tem c...</td>\n",
              "      <td>0</td>\n",
              "      <td>0</td>\n",
              "      <td>pt</td>\n",
              "      <td>NaN</td>\n",
              "      <td>NaN</td>\n",
              "      <td>NaN</td>\n",
              "      <td>NaN</td>\n",
              "      <td>NaN</td>\n",
              "      <td>['perguntacorona']</td>\n",
              "      <td>2020-04-02 13:04:55</td>\n",
              "    </tr>\n",
              "  </tbody>\n",
              "</table>\n",
              "</div>"
            ],
            "text/plain": [
              "                    data  ...        data_inversa\n",
              "0    2020-03-23 18:51:14  ... 2020-03-23 18:51:14\n",
              "3    2020-04-01 21:11:07  ... 2020-04-01 21:11:07\n",
              "38   2020-06-25 11:09:19  ... 2020-06-25 11:09:19\n",
              "45   2020-04-06 15:44:36  ... 2020-04-06 15:44:36\n",
              "57   2020-03-30 00:43:36  ... 2020-03-30 00:43:36\n",
              "73   2020-04-07 23:19:44  ... 2020-04-07 23:19:44\n",
              "77   2020-04-13 19:16:51  ... 2020-04-13 19:16:51\n",
              "116  2020-05-15 18:15:33  ... 2020-05-15 18:15:33\n",
              "118  2020-04-08 22:04:51  ... 2020-04-08 22:04:51\n",
              "119  2020-04-02 13:04:55  ... 2020-04-02 13:04:55\n",
              "\n",
              "[10 rows x 14 columns]"
            ]
          },
          "metadata": {
            "tags": []
          },
          "execution_count": 23
        }
      ]
    },
    {
      "cell_type": "markdown",
      "metadata": {
        "id": "ITE7gu9RKvkZ",
        "colab_type": "text"
      },
      "source": [
        "Extrair as perguntas dos tweets que apresentam perguntas\n"
      ]
    },
    {
      "cell_type": "code",
      "metadata": {
        "id": "7j-mEmNbK2XP",
        "colab_type": "code",
        "colab": {
          "base_uri": "https://localhost:8080/",
          "height": 277
        },
        "outputId": "037ef637-726b-433b-9682-f8b4a8e5b6e0"
      },
      "source": [
        "print(dados2.dtypes)"
      ],
      "execution_count": null,
      "outputs": [
        {
          "output_type": "stream",
          "text": [
            "data                    object\n",
            "usuario                 object\n",
            "apelido                 object\n",
            "texto                   object\n",
            "retweet                  int64\n",
            "seguidores               int64\n",
            "idioma                  object\n",
            "lugar                   object\n",
            "pais                    object\n",
            "sigla                   object\n",
            "latitude               float64\n",
            "longitude              float64\n",
            "hashtags                object\n",
            "data_inversa    datetime64[ns]\n",
            "dtype: object\n"
          ],
          "name": "stdout"
        }
      ]
    },
    {
      "cell_type": "code",
      "metadata": {
        "id": "Gm99KNYRXzHY",
        "colab_type": "code",
        "colab": {
          "base_uri": "https://localhost:8080/",
          "height": 69
        },
        "outputId": "22256092-be55-4339-c388-4dc747348525"
      },
      "source": [
        "import nltk\n",
        "\n",
        "from nltk import sent_tokenize\n",
        "\n",
        "nltk.download('punkt')"
      ],
      "execution_count": null,
      "outputs": [
        {
          "output_type": "stream",
          "text": [
            "[nltk_data] Downloading package punkt to /root/nltk_data...\n",
            "[nltk_data]   Unzipping tokenizers/punkt.zip.\n"
          ],
          "name": "stdout"
        },
        {
          "output_type": "execute_result",
          "data": {
            "text/plain": [
              "True"
            ]
          },
          "metadata": {
            "tags": []
          },
          "execution_count": 25
        }
      ]
    },
    {
      "cell_type": "code",
      "metadata": {
        "id": "ml3h9AZLTuZq",
        "colab_type": "code",
        "colab": {
          "base_uri": "https://localhost:8080/",
          "height": 35
        },
        "outputId": "9441eba3-7192-4523-c6ff-63f440c0fc85"
      },
      "source": [
        "\n",
        "#dados2['pergunta_extraida'] = sent_tokenize(dados2.texto.str)\n",
        "\n",
        "#print(dados2.dtypes)\n",
        "\n",
        "print(type(dados2.texto.str.))"
      ],
      "execution_count": null,
      "outputs": [
        {
          "output_type": "stream",
          "text": [
            "<class 'pandas.core.strings.StringMethods'>\n"
          ],
          "name": "stdout"
        }
      ]
    },
    {
      "cell_type": "markdown",
      "metadata": {
        "id": "g9X8-7w9nt0i",
        "colab_type": "text"
      },
      "source": [
        "# 5 - Classificação das perguntas conforme o foco\n"
      ]
    },
    {
      "cell_type": "markdown",
      "metadata": {
        "id": "AAtHLgVXoA-P",
        "colab_type": "text"
      },
      "source": [
        "# 6 - Gráficos da Base Classificada"
      ]
    },
    {
      "cell_type": "markdown",
      "metadata": {
        "id": "KJhMGUH0oLY3",
        "colab_type": "text"
      },
      "source": [
        "# 7 - Conclusões"
      ]
    }
  ]
}