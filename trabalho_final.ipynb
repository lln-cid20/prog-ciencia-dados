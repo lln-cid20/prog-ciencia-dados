{
  "nbformat": 4,
  "nbformat_minor": 0,
  "metadata": {
    "colab": {
      "name": "trabalho-final.ipynb",
      "provenance": [],
      "collapsed_sections": [],
      "authorship_tag": "ABX9TyPQCUXF+TUBJ/qj+smfZv82",
      "include_colab_link": true
    },
    "kernelspec": {
      "name": "python3",
      "display_name": "Python 3"
    }
  },
  "cells": [
    {
      "cell_type": "markdown",
      "metadata": {
        "id": "view-in-github",
        "colab_type": "text"
      },
      "source": [
        "<a href=\"https://colab.research.google.com/github/lln-cid20/prog-ciencia-dados/blob/master/trabalho_final.ipynb\" target=\"_parent\"><img src=\"https://colab.research.google.com/assets/colab-badge.svg\" alt=\"Open In Colab\"/></a>"
      ]
    },
    {
      "cell_type": "markdown",
      "metadata": {
        "id": "YBTc5GVZCoy5",
        "colab_type": "text"
      },
      "source": [
        "# **APRESENTAÇÃO**"
      ]
    },
    {
      "cell_type": "markdown",
      "metadata": {
        "id": "3VXXHYd2C1Zv",
        "colab_type": "text"
      },
      "source": [
        "**Resumo**"
      ]
    },
    {
      "cell_type": "markdown",
      "metadata": {
        "id": "7MXTEHRzC6bK",
        "colab_type": "text"
      },
      "source": [
        "Este trabalho, realizado como trabalho final da disciplina de Programação para Ciência de Dados, do curso de Pós-graduação em Ciência de Dados, apresenta os resultados da análise sobre uma base de dados de tweets, procurando identificar as diversas perguntas feitas no período da coleta, bem como classificar as perguntas conforme os tipos a seguir: sintomas, tratamento, entidades e pessoas.\n"
      ]
    },
    {
      "cell_type": "markdown",
      "metadata": {
        "id": "G_jKKuuzDjlb",
        "colab_type": "text"
      },
      "source": [
        "**Autores**"
      ]
    },
    {
      "cell_type": "markdown",
      "metadata": {
        "id": "RjVTJ2kMDoC7",
        "colab_type": "text"
      },
      "source": [
        "\n",
        "\n",
        "*   Levi Delmiro De Souza Bessa\n",
        "*   Lelson Lopes Nascimento\n",
        "\n",
        "\n"
      ]
    },
    {
      "cell_type": "markdown",
      "metadata": {
        "id": "veZ2cB9MDwbB",
        "colab_type": "text"
      },
      "source": [
        "# **TRABALHO**"
      ]
    },
    {
      "cell_type": "markdown",
      "metadata": {
        "id": "JSHcbjlz2igV",
        "colab_type": "text"
      },
      "source": [
        "# 1 - Importação de Bibliotecas\n",
        "\n",
        "Aqui são carregadas as bibliotecas básicas usadas no projeto\n",
        "\n"
      ]
    },
    {
      "cell_type": "code",
      "metadata": {
        "id": "Jvp2OMPDiAX6",
        "colab_type": "code",
        "colab": {}
      },
      "source": [
        "import numpy as np\n",
        "import pandas as pd\n"
      ],
      "execution_count": 1,
      "outputs": []
    },
    {
      "cell_type": "markdown",
      "metadata": {
        "id": "IyGCBz0C23Mi",
        "colab_type": "text"
      },
      "source": [
        "Instalamos a biblioteca PyDrive para manipular arquivos no Google Drive"
      ]
    },
    {
      "cell_type": "code",
      "metadata": {
        "id": "GZaMjwX2jAaK",
        "colab_type": "code",
        "colab": {}
      },
      "source": [
        "!pip install -U -q PyDrive"
      ],
      "execution_count": 2,
      "outputs": []
    },
    {
      "cell_type": "code",
      "metadata": {
        "id": "do7Lo6AmjMvI",
        "colab_type": "code",
        "colab": {}
      },
      "source": [
        "# importa a biblioteca de manipulação de arquivos CSV\n",
        "import csv\n",
        "# Importa bibliotecas que permitem ler o CSV para o Google Drive\n",
        "from pydrive.auth import GoogleAuth\n",
        "from pydrive.drive import GoogleDrive\n",
        "from google.colab import auth\n",
        "from oauth2client.client import GoogleCredentials"
      ],
      "execution_count": 3,
      "outputs": []
    },
    {
      "cell_type": "markdown",
      "metadata": {
        "id": "iYs_45kZ3pXS",
        "colab_type": "text"
      },
      "source": [
        "# 2 - Carga do arquivo com os tweetes"
      ]
    },
    {
      "cell_type": "markdown",
      "metadata": {
        "id": "qrrYqP4H5Kpv",
        "colab_type": "text"
      },
      "source": [
        "Autenticar e criar o PyDrive client."
      ]
    },
    {
      "cell_type": "code",
      "metadata": {
        "id": "1uE7Qokwdo0n",
        "colab_type": "code",
        "colab": {}
      },
      "source": [
        "auth.authenticate_user()\n",
        "gauth = GoogleAuth()\n",
        "gauth.credentials = GoogleCredentials.get_application_default()\n",
        "drive = GoogleDrive(gauth)"
      ],
      "execution_count": 4,
      "outputs": []
    },
    {
      "cell_type": "markdown",
      "metadata": {
        "id": "pkzD6rOT5FJ-",
        "colab_type": "text"
      },
      "source": [
        "Obter o arquivo do Google Drive usando o id do documento"
      ]
    },
    {
      "cell_type": "code",
      "metadata": {
        "id": "3nG2h1HL9TL_",
        "colab_type": "code",
        "colab": {}
      },
      "source": [
        "\n",
        "downloaded = drive.CreateFile({\"id\":\"19XzSWYcWbew7PHTCCb6QZXLKX0GSp7HC\"})\n",
        "downloaded.GetContentFile(\"dados-curso-completo.csv\")  "
      ],
      "execution_count": 5,
      "outputs": []
    },
    {
      "cell_type": "markdown",
      "metadata": {
        "id": "5VpwT0dm4_M1",
        "colab_type": "text"
      },
      "source": [
        "Ler o arquivo usando o dataframe panda "
      ]
    },
    {
      "cell_type": "code",
      "metadata": {
        "id": "VGscx7DF98VI",
        "colab_type": "code",
        "colab": {}
      },
      "source": [
        "\n",
        "\n",
        "dados = pd.read_csv(\"dados-curso-completo.csv\") "
      ],
      "execution_count": 7,
      "outputs": []
    },
    {
      "cell_type": "markdown",
      "metadata": {
        "id": "PRnrX6QU4xm-",
        "colab_type": "text"
      },
      "source": [
        "# 3 - Verificação inicial dos dados"
      ]
    },
    {
      "cell_type": "markdown",
      "metadata": {
        "id": "l14iqEk6MWzE",
        "colab_type": "text"
      },
      "source": [
        "Apresentar o tipo de dados"
      ]
    },
    {
      "cell_type": "code",
      "metadata": {
        "id": "Ab_SNNpq9UAS",
        "colab_type": "code",
        "colab": {
          "base_uri": "https://localhost:8080/",
          "height": 34
        },
        "outputId": "021d08ee-6a46-4ce4-dc04-8521d143ddf4"
      },
      "source": [
        "type(dados)\n"
      ],
      "execution_count": 8,
      "outputs": [
        {
          "output_type": "execute_result",
          "data": {
            "text/plain": [
              "pandas.core.frame.DataFrame"
            ]
          },
          "metadata": {
            "tags": []
          },
          "execution_count": 8
        }
      ]
    },
    {
      "cell_type": "markdown",
      "metadata": {
        "id": "o5S1H0IMMZ5C",
        "colab_type": "text"
      },
      "source": [
        "Mostrar os primeiros registros do banco de dados importado"
      ]
    },
    {
      "cell_type": "code",
      "metadata": {
        "id": "0X4culQz-Qrb",
        "colab_type": "code",
        "colab": {
          "base_uri": "https://localhost:8080/",
          "height": 202
        },
        "outputId": "01821fdd-0e84-4c1e-8757-10d86335a6a7"
      },
      "source": [
        "dados.head(5)\n"
      ],
      "execution_count": 9,
      "outputs": [
        {
          "output_type": "execute_result",
          "data": {
            "text/html": [
              "<div>\n",
              "<style scoped>\n",
              "    .dataframe tbody tr th:only-of-type {\n",
              "        vertical-align: middle;\n",
              "    }\n",
              "\n",
              "    .dataframe tbody tr th {\n",
              "        vertical-align: top;\n",
              "    }\n",
              "\n",
              "    .dataframe thead th {\n",
              "        text-align: right;\n",
              "    }\n",
              "</style>\n",
              "<table border=\"1\" class=\"dataframe\">\n",
              "  <thead>\n",
              "    <tr style=\"text-align: right;\">\n",
              "      <th></th>\n",
              "      <th>data</th>\n",
              "      <th>usuario</th>\n",
              "      <th>apelido</th>\n",
              "      <th>texto</th>\n",
              "      <th>retweet</th>\n",
              "      <th>seguidores</th>\n",
              "      <th>idioma</th>\n",
              "      <th>lugar</th>\n",
              "      <th>pais</th>\n",
              "      <th>sigla</th>\n",
              "      <th>latitude</th>\n",
              "      <th>longitude</th>\n",
              "      <th>hashtags</th>\n",
              "    </tr>\n",
              "  </thead>\n",
              "  <tbody>\n",
              "    <tr>\n",
              "      <th>0</th>\n",
              "      <td>2020-03-23 18:51:14</td>\n",
              "      <td>Gaboardi</td>\n",
              "      <td>fraslee</td>\n",
              "      <td>@BolsonaroSP Cade o fundão deputado??? Congres...</td>\n",
              "      <td>0</td>\n",
              "      <td>138</td>\n",
              "      <td>pt</td>\n",
              "      <td>NaN</td>\n",
              "      <td>NaN</td>\n",
              "      <td>NaN</td>\n",
              "      <td>NaN</td>\n",
              "      <td>NaN</td>\n",
              "      <td>[]</td>\n",
              "    </tr>\n",
              "    <tr>\n",
              "      <th>1</th>\n",
              "      <td>2020-03-18 03:18:14</td>\n",
              "      <td>Seu Zé da Farmácia</td>\n",
              "      <td>seuzedafarmacia</td>\n",
              "      <td>Em ação preventiva, o Governo do Estado suspen...</td>\n",
              "      <td>0</td>\n",
              "      <td>56</td>\n",
              "      <td>pt</td>\n",
              "      <td>NaN</td>\n",
              "      <td>NaN</td>\n",
              "      <td>NaN</td>\n",
              "      <td>NaN</td>\n",
              "      <td>NaN</td>\n",
              "      <td>[]</td>\n",
              "    </tr>\n",
              "    <tr>\n",
              "      <th>2</th>\n",
              "      <td>2020-03-29 12:09:27</td>\n",
              "      <td>Marília Oliveira 🇧🇷</td>\n",
              "      <td>Marioliveira_gb</td>\n",
              "      <td>Incrível como os defensores do fim do distanci...</td>\n",
              "      <td>0</td>\n",
              "      <td>5</td>\n",
              "      <td>pt</td>\n",
              "      <td>NaN</td>\n",
              "      <td>NaN</td>\n",
              "      <td>NaN</td>\n",
              "      <td>NaN</td>\n",
              "      <td>NaN</td>\n",
              "      <td>[]</td>\n",
              "    </tr>\n",
              "    <tr>\n",
              "      <th>3</th>\n",
              "      <td>2020-04-01 21:11:07</td>\n",
              "      <td>🚩</td>\n",
              "      <td>santosodeto</td>\n",
              "      <td>Fumaça de cigarro pode propagar coronavírus? h...</td>\n",
              "      <td>0</td>\n",
              "      <td>1885</td>\n",
              "      <td>pt</td>\n",
              "      <td>NaN</td>\n",
              "      <td>NaN</td>\n",
              "      <td>NaN</td>\n",
              "      <td>NaN</td>\n",
              "      <td>NaN</td>\n",
              "      <td>[]</td>\n",
              "    </tr>\n",
              "    <tr>\n",
              "      <th>4</th>\n",
              "      <td>2020-03-19 17:49:40</td>\n",
              "      <td>Nova Impressão</td>\n",
              "      <td>novaimpressao_</td>\n",
              "      <td>🚨Todos juntos contra COVID-19💪\\n\\nSolicite seu...</td>\n",
              "      <td>0</td>\n",
              "      <td>124</td>\n",
              "      <td>pt</td>\n",
              "      <td>Brasília</td>\n",
              "      <td>Brazil</td>\n",
              "      <td>BR</td>\n",
              "      <td>-47.8778</td>\n",
              "      <td>-15.77691</td>\n",
              "      <td>[]</td>\n",
              "    </tr>\n",
              "  </tbody>\n",
              "</table>\n",
              "</div>"
            ],
            "text/plain": [
              "                  data              usuario  ... longitude hashtags\n",
              "0  2020-03-23 18:51:14             Gaboardi  ...       NaN       []\n",
              "1  2020-03-18 03:18:14   Seu Zé da Farmácia  ...       NaN       []\n",
              "2  2020-03-29 12:09:27  Marília Oliveira 🇧🇷  ...       NaN       []\n",
              "3  2020-04-01 21:11:07                    🚩  ...       NaN       []\n",
              "4  2020-03-19 17:49:40       Nova Impressão  ... -15.77691       []\n",
              "\n",
              "[5 rows x 13 columns]"
            ]
          },
          "metadata": {
            "tags": []
          },
          "execution_count": 9
        }
      ]
    },
    {
      "cell_type": "markdown",
      "metadata": {
        "id": "VQRbJRLOMp-I",
        "colab_type": "text"
      },
      "source": [
        "Criação de uma coluna para agrupar tweets de forma diária"
      ]
    },
    {
      "cell_type": "code",
      "metadata": {
        "id": "M_Q-A-r48R4X",
        "colab_type": "code",
        "colab": {}
      },
      "source": [
        "dados['data_inversa'] = pd.to_datetime(dados['data'],yearfirst=True, format='%Y-%m-%d')"
      ],
      "execution_count": 10,
      "outputs": []
    },
    {
      "cell_type": "markdown",
      "metadata": {
        "id": "8Qp-9tR9NLvb",
        "colab_type": "text"
      },
      "source": [
        "Agrupar os dados com base na nova coluna, criando um dataframe com os dados agrupados"
      ]
    },
    {
      "cell_type": "code",
      "metadata": {
        "id": "RaeerM-iJ4YQ",
        "colab_type": "code",
        "colab": {}
      },
      "source": [
        "dados_sumario = dados['data_inversa'].groupby(dados['data_inversa'].dt.to_period('D')).agg('count').to_frame()"
      ],
      "execution_count": 11,
      "outputs": []
    },
    {
      "cell_type": "markdown",
      "metadata": {
        "id": "Ib5av-2QNRIC",
        "colab_type": "text"
      },
      "source": [
        "Criar coluna para contagem de tweets"
      ]
    },
    {
      "cell_type": "code",
      "metadata": {
        "id": "BoMKJp2WLLnw",
        "colab_type": "code",
        "colab": {}
      },
      "source": [
        "dados_sumario.columns = ['cont_tweets']"
      ],
      "execution_count": 12,
      "outputs": []
    },
    {
      "cell_type": "markdown",
      "metadata": {
        "id": "v5OMEePbNum5",
        "colab_type": "text"
      },
      "source": [
        "Mostrar os primeiros registros do dataframe de valores agregados por dia"
      ]
    },
    {
      "cell_type": "code",
      "metadata": {
        "id": "cunZR_GXLeUI",
        "colab_type": "code",
        "colab": {
          "base_uri": "https://localhost:8080/",
          "height": 233
        },
        "outputId": "5884b2df-b1ba-4a69-a56c-23ad8b431007"
      },
      "source": [
        "dados_sumario.head(5)"
      ],
      "execution_count": 13,
      "outputs": [
        {
          "output_type": "execute_result",
          "data": {
            "text/html": [
              "<div>\n",
              "<style scoped>\n",
              "    .dataframe tbody tr th:only-of-type {\n",
              "        vertical-align: middle;\n",
              "    }\n",
              "\n",
              "    .dataframe tbody tr th {\n",
              "        vertical-align: top;\n",
              "    }\n",
              "\n",
              "    .dataframe thead th {\n",
              "        text-align: right;\n",
              "    }\n",
              "</style>\n",
              "<table border=\"1\" class=\"dataframe\">\n",
              "  <thead>\n",
              "    <tr style=\"text-align: right;\">\n",
              "      <th></th>\n",
              "      <th>cont_tweets</th>\n",
              "    </tr>\n",
              "    <tr>\n",
              "      <th>data_inversa</th>\n",
              "      <th></th>\n",
              "    </tr>\n",
              "  </thead>\n",
              "  <tbody>\n",
              "    <tr>\n",
              "      <th>2020-01-01</th>\n",
              "      <td>28</td>\n",
              "    </tr>\n",
              "    <tr>\n",
              "      <th>2020-01-02</th>\n",
              "      <td>70</td>\n",
              "    </tr>\n",
              "    <tr>\n",
              "      <th>2020-01-03</th>\n",
              "      <td>71</td>\n",
              "    </tr>\n",
              "    <tr>\n",
              "      <th>2020-01-04</th>\n",
              "      <td>79</td>\n",
              "    </tr>\n",
              "    <tr>\n",
              "      <th>2020-01-05</th>\n",
              "      <td>69</td>\n",
              "    </tr>\n",
              "  </tbody>\n",
              "</table>\n",
              "</div>"
            ],
            "text/plain": [
              "              cont_tweets\n",
              "data_inversa             \n",
              "2020-01-01             28\n",
              "2020-01-02             70\n",
              "2020-01-03             71\n",
              "2020-01-04             79\n",
              "2020-01-05             69"
            ]
          },
          "metadata": {
            "tags": []
          },
          "execution_count": 13
        }
      ]
    },
    {
      "cell_type": "markdown",
      "metadata": {
        "id": "cxKzczCHeG2Y",
        "colab_type": "text"
      },
      "source": [
        "Total de registros na base de dados"
      ]
    },
    {
      "cell_type": "code",
      "metadata": {
        "id": "xpnHZDu1eE-a",
        "colab_type": "code",
        "colab": {
          "base_uri": "https://localhost:8080/",
          "height": 260
        },
        "outputId": "f33c3b3c-8e7e-4516-853e-599c67de6b38"
      },
      "source": [
        "print(dados.count)"
      ],
      "execution_count": 14,
      "outputs": [
        {
          "output_type": "stream",
          "text": [
            "<bound method DataFrame.count of                         data  ...        data_inversa\n",
            "0        2020-03-23 18:51:14  ... 2020-03-23 18:51:14\n",
            "1        2020-03-18 03:18:14  ... 2020-03-18 03:18:14\n",
            "2        2020-03-29 12:09:27  ... 2020-03-29 12:09:27\n",
            "3        2020-04-01 21:11:07  ... 2020-04-01 21:11:07\n",
            "4        2020-03-19 17:49:40  ... 2020-03-19 17:49:40\n",
            "...                      ...  ...                 ...\n",
            "1658820  2020-03-13 17:26:18  ... 2020-03-13 17:26:18\n",
            "1658821  2020-05-12 13:02:34  ... 2020-05-12 13:02:34\n",
            "1658822  2020-03-19 18:16:30  ... 2020-03-19 18:16:30\n",
            "1658823  2020-04-07 18:14:45  ... 2020-04-07 18:14:45\n",
            "1658824  2020-06-02 16:04:51  ... 2020-06-02 16:04:51\n",
            "\n",
            "[1658825 rows x 14 columns]>\n"
          ],
          "name": "stdout"
        }
      ]
    },
    {
      "cell_type": "markdown",
      "metadata": {
        "id": "P3A3FzQSO4gU",
        "colab_type": "text"
      },
      "source": [
        "Apresentar um gráfico de linhas visando mostrar a evolução do número de tweets ao longo do tempo"
      ]
    },
    {
      "cell_type": "code",
      "metadata": {
        "id": "uiEVUPHmL4og",
        "colab_type": "code",
        "colab": {
          "base_uri": "https://localhost:8080/",
          "height": 364
        },
        "outputId": "38d253be-89c4-4c55-efc5-68ca484c4fd8"
      },
      "source": [
        "dados_sumario.plot(figsize=(12,5))"
      ],
      "execution_count": 15,
      "outputs": [
        {
          "output_type": "execute_result",
          "data": {
            "text/plain": [
              "<matplotlib.axes._subplots.AxesSubplot at 0x7f24f7216748>"
            ]
          },
          "metadata": {
            "tags": []
          },
          "execution_count": 15
        },
        {
          "output_type": "display_data",
          "data": {
            "image/png": "[encoded data removed]",
            "text/plain": [
              "<Figure size 864x360 with 1 Axes>"
            ]
          },
          "metadata": {
            "tags": [],
            "needs_background": "light"
          }
        }
      ]
    },
    {
      "cell_type": "markdown",
      "metadata": {
        "id": "le3Zgm57nQIA",
        "colab_type": "text"
      },
      "source": [
        "# 4 - Extração da Base de dados de perguntas dentre os tweets"
      ]
    },
    {
      "cell_type": "markdown",
      "metadata": {
        "id": "g9X8-7w9nt0i",
        "colab_type": "text"
      },
      "source": [
        "# 5 - Classificação das perguntas conforme o foco\n"
      ]
    },
    {
      "cell_type": "markdown",
      "metadata": {
        "id": "AAtHLgVXoA-P",
        "colab_type": "text"
      },
      "source": [
        "# 6 - Gráficos da Base Classificada"
      ]
    },
    {
      "cell_type": "markdown",
      "metadata": {
        "id": "KJhMGUH0oLY3",
        "colab_type": "text"
      },
      "source": [
        "# 7 - Conclusões"
      ]
    }
  ]
}