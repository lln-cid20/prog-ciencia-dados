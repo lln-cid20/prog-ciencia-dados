{
  "nbformat": 4,
  "nbformat_minor": 0,
  "metadata": {
    "colab": {
      "name": "TrabalhoConjunto.ipynb",
      "provenance": [],
      "collapsed_sections": [
        "9H85nEMasCBS",
        "le3Zgm57nQIA",
        "wEWMwe_RPhXU"
      ],
      "include_colab_link": true
    },
    "kernelspec": {
      "name": "python3",
      "display_name": "Python 3"
    }
  },
  "cells": [
    {
      "cell_type": "markdown",
      "metadata": {
        "id": "view-in-github",
        "colab_type": "text"
      },
      "source": [
        "<a href=\"https://colab.research.google.com/github/lln-cid20/prog-ciencia-dados/blob/master/TrabalhoConjunto.ipynb\" target=\"_parent\"><img src=\"https://colab.research.google.com/assets/colab-badge.svg\" alt=\"Open In Colab\"/></a>"
      ]
    },
    {
      "cell_type": "markdown",
      "metadata": {
        "id": "YBTc5GVZCoy5"
      },
      "source": [
        "# **Apresentação**"
      ]
    },
    {
      "cell_type": "markdown",
      "metadata": {
        "id": "3VXXHYd2C1Zv"
      },
      "source": [
        "**Resumo**\n",
        "\n",
        "Este trabalho, realizado como atividade final da disciplina de Programação para Ciência de Dados, do curso de Pós-graduação em Ciência de Dados 2020/2021, apresenta os resultados da análise sobre uma base de dados de tweets, procurando identificar as diversas perguntas feitas em relação à COVID-19, bem como classificar as perguntas conforme os tipos a seguir: sintomas, tratamento, entidades e pessoas.\n",
        "\n",
        "**Autores**\n",
        "*   Lelson Lopes Nascimento\n",
        "*   Levi Delmiro De Souza Bessa\n",
        "\n",
        "\n",
        "\n"
      ]
    },
    {
      "cell_type": "markdown",
      "metadata": {
        "id": "JSHcbjlz2igV"
      },
      "source": [
        "# 1 Visão Geral dos Dados\n",
        "\n",
        "Aqui são carregadas as bibliotecas básicas usadas no projeto\n",
        "\n"
      ]
    },
    {
      "cell_type": "code",
      "metadata": {
        "id": "WmY8JuNMmKzN",
        "outputId": "49aaf7b7-6d1f-4656-ef8c-35a87e132c33",
        "colab": {
          "base_uri": "https://localhost:8080/",
          "height": 1000
        }
      },
      "source": [
        "!pip install spacy --upgrade\n",
        "!python -m spacy download pt\n",
        "#!python -m spacy download en\n",
        "\n",
        "import pandas as pd\n",
        "import numpy as np\n",
        "import spacy\n",
        "import string\n",
        "import re\n",
        "\n",
        "from google.colab import drive\n",
        "drive.mount('/content/drive')\n",
        "\n",
        "data = pd.read_csv('/content/drive/Shared drives/modulo02/dados-curso-completo.csv')\n",
        "data.head(3)"
      ],
      "execution_count": 1,
      "outputs": [
        {
          "output_type": "stream",
          "text": [
            "Requirement already up-to-date: spacy in /usr/local/lib/python3.6/dist-packages (2.3.2)\n",
            "Requirement already satisfied, skipping upgrade: catalogue<1.1.0,>=0.0.7 in /usr/local/lib/python3.6/dist-packages (from spacy) (1.0.0)\n",
            "Requirement already satisfied, skipping upgrade: thinc==7.4.1 in /usr/local/lib/python3.6/dist-packages (from spacy) (7.4.1)\n",
            "Requirement already satisfied, skipping upgrade: numpy>=1.15.0 in /usr/local/lib/python3.6/dist-packages (from spacy) (1.18.5)\n",
            "Requirement already satisfied, skipping upgrade: wasabi<1.1.0,>=0.4.0 in /usr/local/lib/python3.6/dist-packages (from spacy) (0.8.0)\n",
            "Requirement already satisfied, skipping upgrade: murmurhash<1.1.0,>=0.28.0 in /usr/local/lib/python3.6/dist-packages (from spacy) (1.0.2)\n",
            "Requirement already satisfied, skipping upgrade: cymem<2.1.0,>=2.0.2 in /usr/local/lib/python3.6/dist-packages (from spacy) (2.0.3)\n",
            "Requirement already satisfied, skipping upgrade: setuptools in /usr/local/lib/python3.6/dist-packages (from spacy) (50.3.0)\n",
            "Requirement already satisfied, skipping upgrade: requests<3.0.0,>=2.13.0 in /usr/local/lib/python3.6/dist-packages (from spacy) (2.23.0)\n",
            "Requirement already satisfied, skipping upgrade: tqdm<5.0.0,>=4.38.0 in /usr/local/lib/python3.6/dist-packages (from spacy) (4.41.1)\n",
            "Requirement already satisfied, skipping upgrade: preshed<3.1.0,>=3.0.2 in /usr/local/lib/python3.6/dist-packages (from spacy) (3.0.2)\n",
            "Requirement already satisfied, skipping upgrade: blis<0.5.0,>=0.4.0 in /usr/local/lib/python3.6/dist-packages (from spacy) (0.4.1)\n",
            "Requirement already satisfied, skipping upgrade: srsly<1.1.0,>=1.0.2 in /usr/local/lib/python3.6/dist-packages (from spacy) (1.0.2)\n",
            "Requirement already satisfied, skipping upgrade: plac<1.2.0,>=0.9.6 in /usr/local/lib/python3.6/dist-packages (from spacy) (1.1.3)\n",
            "Requirement already satisfied, skipping upgrade: importlib-metadata>=0.20; python_version < \"3.8\" in /usr/local/lib/python3.6/dist-packages (from catalogue<1.1.0,>=0.0.7->spacy) (1.7.0)\n",
            "Requirement already satisfied, skipping upgrade: chardet<4,>=3.0.2 in /usr/local/lib/python3.6/dist-packages (from requests<3.0.0,>=2.13.0->spacy) (3.0.4)\n",
            "Requirement already satisfied, skipping upgrade: idna<3,>=2.5 in /usr/local/lib/python3.6/dist-packages (from requests<3.0.0,>=2.13.0->spacy) (2.10)\n",
            "Requirement already satisfied, skipping upgrade: certifi>=2017.4.17 in /usr/local/lib/python3.6/dist-packages (from requests<3.0.0,>=2.13.0->spacy) (2020.6.20)\n",
            "Requirement already satisfied, skipping upgrade: urllib3!=1.25.0,!=1.25.1,<1.26,>=1.21.1 in /usr/local/lib/python3.6/dist-packages (from requests<3.0.0,>=2.13.0->spacy) (1.24.3)\n",
            "Requirement already satisfied, skipping upgrade: zipp>=0.5 in /usr/local/lib/python3.6/dist-packages (from importlib-metadata>=0.20; python_version < \"3.8\"->catalogue<1.1.0,>=0.0.7->spacy) (3.1.0)\n",
            "Requirement already satisfied: pt_core_news_sm==2.3.0 from https://github.com/explosion/spacy-models/releases/download/pt_core_news_sm-2.3.0/pt_core_news_sm-2.3.0.tar.gz#egg=pt_core_news_sm==2.3.0 in /usr/local/lib/python3.6/dist-packages (2.3.0)\n",
            "Requirement already satisfied: spacy<2.4.0,>=2.3.0 in /usr/local/lib/python3.6/dist-packages (from pt_core_news_sm==2.3.0) (2.3.2)\n",
            "Requirement already satisfied: plac<1.2.0,>=0.9.6 in /usr/local/lib/python3.6/dist-packages (from spacy<2.4.0,>=2.3.0->pt_core_news_sm==2.3.0) (1.1.3)\n",
            "Requirement already satisfied: wasabi<1.1.0,>=0.4.0 in /usr/local/lib/python3.6/dist-packages (from spacy<2.4.0,>=2.3.0->pt_core_news_sm==2.3.0) (0.8.0)\n",
            "Requirement already satisfied: numpy>=1.15.0 in /usr/local/lib/python3.6/dist-packages (from spacy<2.4.0,>=2.3.0->pt_core_news_sm==2.3.0) (1.18.5)\n",
            "Requirement already satisfied: thinc==7.4.1 in /usr/local/lib/python3.6/dist-packages (from spacy<2.4.0,>=2.3.0->pt_core_news_sm==2.3.0) (7.4.1)\n",
            "Requirement already satisfied: catalogue<1.1.0,>=0.0.7 in /usr/local/lib/python3.6/dist-packages (from spacy<2.4.0,>=2.3.0->pt_core_news_sm==2.3.0) (1.0.0)\n",
            "Requirement already satisfied: blis<0.5.0,>=0.4.0 in /usr/local/lib/python3.6/dist-packages (from spacy<2.4.0,>=2.3.0->pt_core_news_sm==2.3.0) (0.4.1)\n",
            "Requirement already satisfied: preshed<3.1.0,>=3.0.2 in /usr/local/lib/python3.6/dist-packages (from spacy<2.4.0,>=2.3.0->pt_core_news_sm==2.3.0) (3.0.2)\n",
            "Requirement already satisfied: cymem<2.1.0,>=2.0.2 in /usr/local/lib/python3.6/dist-packages (from spacy<2.4.0,>=2.3.0->pt_core_news_sm==2.3.0) (2.0.3)\n",
            "Requirement already satisfied: setuptools in /usr/local/lib/python3.6/dist-packages (from spacy<2.4.0,>=2.3.0->pt_core_news_sm==2.3.0) (50.3.0)\n",
            "Requirement already satisfied: requests<3.0.0,>=2.13.0 in /usr/local/lib/python3.6/dist-packages (from spacy<2.4.0,>=2.3.0->pt_core_news_sm==2.3.0) (2.23.0)\n",
            "Requirement already satisfied: tqdm<5.0.0,>=4.38.0 in /usr/local/lib/python3.6/dist-packages (from spacy<2.4.0,>=2.3.0->pt_core_news_sm==2.3.0) (4.41.1)\n",
            "Requirement already satisfied: murmurhash<1.1.0,>=0.28.0 in /usr/local/lib/python3.6/dist-packages (from spacy<2.4.0,>=2.3.0->pt_core_news_sm==2.3.0) (1.0.2)\n",
            "Requirement already satisfied: srsly<1.1.0,>=1.0.2 in /usr/local/lib/python3.6/dist-packages (from spacy<2.4.0,>=2.3.0->pt_core_news_sm==2.3.0) (1.0.2)\n",
            "Requirement already satisfied: importlib-metadata>=0.20; python_version < \"3.8\" in /usr/local/lib/python3.6/dist-packages (from catalogue<1.1.0,>=0.0.7->spacy<2.4.0,>=2.3.0->pt_core_news_sm==2.3.0) (1.7.0)\n",
            "Requirement already satisfied: idna<3,>=2.5 in /usr/local/lib/python3.6/dist-packages (from requests<3.0.0,>=2.13.0->spacy<2.4.0,>=2.3.0->pt_core_news_sm==2.3.0) (2.10)\n",
            "Requirement already satisfied: urllib3!=1.25.0,!=1.25.1,<1.26,>=1.21.1 in /usr/local/lib/python3.6/dist-packages (from requests<3.0.0,>=2.13.0->spacy<2.4.0,>=2.3.0->pt_core_news_sm==2.3.0) (1.24.3)\n",
            "Requirement already satisfied: chardet<4,>=3.0.2 in /usr/local/lib/python3.6/dist-packages (from requests<3.0.0,>=2.13.0->spacy<2.4.0,>=2.3.0->pt_core_news_sm==2.3.0) (3.0.4)\n",
            "Requirement already satisfied: certifi>=2017.4.17 in /usr/local/lib/python3.6/dist-packages (from requests<3.0.0,>=2.13.0->spacy<2.4.0,>=2.3.0->pt_core_news_sm==2.3.0) (2020.6.20)\n",
            "Requirement already satisfied: zipp>=0.5 in /usr/local/lib/python3.6/dist-packages (from importlib-metadata>=0.20; python_version < \"3.8\"->catalogue<1.1.0,>=0.0.7->spacy<2.4.0,>=2.3.0->pt_core_news_sm==2.3.0) (3.1.0)\n",
            "\u001b[38;5;2m✔ Download and installation successful\u001b[0m\n",
            "You can now load the model via spacy.load('pt_core_news_sm')\n",
            "\u001b[38;5;2m✔ Linking successful\u001b[0m\n",
            "/usr/local/lib/python3.6/dist-packages/pt_core_news_sm -->\n",
            "/usr/local/lib/python3.6/dist-packages/spacy/data/pt\n",
            "You can now load the model via spacy.load('pt')\n",
            "Drive already mounted at /content/drive; to attempt to forcibly remount, call drive.mount(\"/content/drive\", force_remount=True).\n"
          ],
          "name": "stdout"
        },
        {
          "output_type": "execute_result",
          "data": {
            "text/html": [
              "<div>\n",
              "<style scoped>\n",
              "    .dataframe tbody tr th:only-of-type {\n",
              "        vertical-align: middle;\n",
              "    }\n",
              "\n",
              "    .dataframe tbody tr th {\n",
              "        vertical-align: top;\n",
              "    }\n",
              "\n",
              "    .dataframe thead th {\n",
              "        text-align: right;\n",
              "    }\n",
              "</style>\n",
              "<table border=\"1\" class=\"dataframe\">\n",
              "  <thead>\n",
              "    <tr style=\"text-align: right;\">\n",
              "      <th></th>\n",
              "      <th>data</th>\n",
              "      <th>usuario</th>\n",
              "      <th>apelido</th>\n",
              "      <th>texto</th>\n",
              "      <th>retweet</th>\n",
              "      <th>seguidores</th>\n",
              "      <th>idioma</th>\n",
              "      <th>lugar</th>\n",
              "      <th>pais</th>\n",
              "      <th>sigla</th>\n",
              "      <th>latitude</th>\n",
              "      <th>longitude</th>\n",
              "      <th>hashtags</th>\n",
              "    </tr>\n",
              "  </thead>\n",
              "  <tbody>\n",
              "    <tr>\n",
              "      <th>0</th>\n",
              "      <td>2020-03-23 18:51:14</td>\n",
              "      <td>Gaboardi</td>\n",
              "      <td>fraslee</td>\n",
              "      <td>@BolsonaroSP Cade o fundão deputado??? Congres...</td>\n",
              "      <td>0</td>\n",
              "      <td>138</td>\n",
              "      <td>pt</td>\n",
              "      <td>NaN</td>\n",
              "      <td>NaN</td>\n",
              "      <td>NaN</td>\n",
              "      <td>NaN</td>\n",
              "      <td>NaN</td>\n",
              "      <td>[]</td>\n",
              "    </tr>\n",
              "    <tr>\n",
              "      <th>1</th>\n",
              "      <td>2020-03-18 03:18:14</td>\n",
              "      <td>Seu Zé da Farmácia</td>\n",
              "      <td>seuzedafarmacia</td>\n",
              "      <td>Em ação preventiva, o Governo do Estado suspen...</td>\n",
              "      <td>0</td>\n",
              "      <td>56</td>\n",
              "      <td>pt</td>\n",
              "      <td>NaN</td>\n",
              "      <td>NaN</td>\n",
              "      <td>NaN</td>\n",
              "      <td>NaN</td>\n",
              "      <td>NaN</td>\n",
              "      <td>[]</td>\n",
              "    </tr>\n",
              "    <tr>\n",
              "      <th>2</th>\n",
              "      <td>2020-03-29 12:09:27</td>\n",
              "      <td>Marília Oliveira 🇧🇷</td>\n",
              "      <td>Marioliveira_gb</td>\n",
              "      <td>Incrível como os defensores do fim do distanci...</td>\n",
              "      <td>0</td>\n",
              "      <td>5</td>\n",
              "      <td>pt</td>\n",
              "      <td>NaN</td>\n",
              "      <td>NaN</td>\n",
              "      <td>NaN</td>\n",
              "      <td>NaN</td>\n",
              "      <td>NaN</td>\n",
              "      <td>[]</td>\n",
              "    </tr>\n",
              "  </tbody>\n",
              "</table>\n",
              "</div>"
            ],
            "text/plain": [
              "                  data              usuario  ... longitude hashtags\n",
              "0  2020-03-23 18:51:14             Gaboardi  ...       NaN       []\n",
              "1  2020-03-18 03:18:14   Seu Zé da Farmácia  ...       NaN       []\n",
              "2  2020-03-29 12:09:27  Marília Oliveira 🇧🇷  ...       NaN       []\n",
              "\n",
              "[3 rows x 13 columns]"
            ]
          },
          "metadata": {
            "tags": []
          },
          "execution_count": 1
        }
      ]
    },
    {
      "cell_type": "markdown",
      "metadata": {
        "id": "AOcgIxQ6px5D"
      },
      "source": [
        "\n",
        "\n",
        "> A base de dados contém 16.588.25 sentenças com 13 atributos respectivamente.\n",
        "\n",
        "\n",
        "\n",
        "\n",
        "\n"
      ]
    },
    {
      "cell_type": "markdown",
      "metadata": {
        "id": "9H85nEMasCBS"
      },
      "source": [
        "## 1.1 Frequência dos Idiomas\n",
        "* Quantidade e porcentagem do total de idiomas identificados nos Tweets"
      ]
    },
    {
      "cell_type": "code",
      "metadata": {
        "id": "rLL4CsL9sAgB",
        "outputId": "c9de93af-697a-46da-fdd0-a04523c0679b",
        "colab": {
          "base_uri": "https://localhost:8080/",
          "height": 200
        }
      },
      "source": [
        "frequency_languages = data['idioma'].value_counts()\n",
        "frequency_languages = frequency_languages.to_frame()\n",
        "\n",
        "percents_of_freq = []\n",
        "for i in frequency_languages['idioma']:\n",
        "    percents_of_freq.append(round(float((i/data.shape[0])*100),4))\n",
        "    \n",
        "frequency_languages['porcentagem'] = percents_of_freq\n",
        "frequency_languages.columns = ['quantidade','porcentagem']\n",
        "frequency_languages.head()"
      ],
      "execution_count": 2,
      "outputs": [
        {
          "output_type": "execute_result",
          "data": {
            "text/html": [
              "<div>\n",
              "<style scoped>\n",
              "    .dataframe tbody tr th:only-of-type {\n",
              "        vertical-align: middle;\n",
              "    }\n",
              "\n",
              "    .dataframe tbody tr th {\n",
              "        vertical-align: top;\n",
              "    }\n",
              "\n",
              "    .dataframe thead th {\n",
              "        text-align: right;\n",
              "    }\n",
              "</style>\n",
              "<table border=\"1\" class=\"dataframe\">\n",
              "  <thead>\n",
              "    <tr style=\"text-align: right;\">\n",
              "      <th></th>\n",
              "      <th>quantidade</th>\n",
              "      <th>porcentagem</th>\n",
              "    </tr>\n",
              "  </thead>\n",
              "  <tbody>\n",
              "    <tr>\n",
              "      <th>pt</th>\n",
              "      <td>1586796</td>\n",
              "      <td>95.6578</td>\n",
              "    </tr>\n",
              "    <tr>\n",
              "      <th>en</th>\n",
              "      <td>23991</td>\n",
              "      <td>1.4463</td>\n",
              "    </tr>\n",
              "    <tr>\n",
              "      <th>es</th>\n",
              "      <td>14255</td>\n",
              "      <td>0.8593</td>\n",
              "    </tr>\n",
              "    <tr>\n",
              "      <th>it</th>\n",
              "      <td>6480</td>\n",
              "      <td>0.3906</td>\n",
              "    </tr>\n",
              "    <tr>\n",
              "      <th>und</th>\n",
              "      <td>5656</td>\n",
              "      <td>0.3410</td>\n",
              "    </tr>\n",
              "  </tbody>\n",
              "</table>\n",
              "</div>"
            ],
            "text/plain": [
              "     quantidade  porcentagem\n",
              "pt      1586796      95.6578\n",
              "en        23991       1.4463\n",
              "es        14255       0.8593\n",
              "it         6480       0.3906\n",
              "und        5656       0.3410"
            ]
          },
          "metadata": {
            "tags": []
          },
          "execution_count": 2
        }
      ]
    },
    {
      "cell_type": "markdown",
      "metadata": {
        "id": "P3A3FzQSO4gU"
      },
      "source": [
        "##  1.2 Evolução do número de tweets "
      ]
    },
    {
      "cell_type": "code",
      "metadata": {
        "id": "M_Q-A-r48R4X",
        "outputId": "716f078b-7146-4ea3-a297-d3ce3feda8f0",
        "colab": {
          "base_uri": "https://localhost:8080/",
          "height": 230
        }
      },
      "source": [
        "# Criação de uma coluna para agrupar tweets de forma diária\n",
        "data['data_inversa'] = pd.to_datetime(data['data'],yearfirst=True, format='%Y-%m-%d')\n",
        "# Agrupar os dados com base na nova coluna, criando um dataframe com os dados agrupados\n",
        "dados_sumario = data['data_inversa'].groupby(data['data_inversa'].dt.to_period('D')).agg('count').to_frame()\n",
        "data = data.drop(columns=['data_inversa'])\n",
        "# Criar coluna para contagem de tweets\n",
        "dados_sumario.columns = ['cont_tweets']\n",
        "# Mostrar os primeiros registros do dataframe de valores agregados por dia\n",
        "dados_sumario.head(5)"
      ],
      "execution_count": 3,
      "outputs": [
        {
          "output_type": "execute_result",
          "data": {
            "text/html": [
              "<div>\n",
              "<style scoped>\n",
              "    .dataframe tbody tr th:only-of-type {\n",
              "        vertical-align: middle;\n",
              "    }\n",
              "\n",
              "    .dataframe tbody tr th {\n",
              "        vertical-align: top;\n",
              "    }\n",
              "\n",
              "    .dataframe thead th {\n",
              "        text-align: right;\n",
              "    }\n",
              "</style>\n",
              "<table border=\"1\" class=\"dataframe\">\n",
              "  <thead>\n",
              "    <tr style=\"text-align: right;\">\n",
              "      <th></th>\n",
              "      <th>cont_tweets</th>\n",
              "    </tr>\n",
              "    <tr>\n",
              "      <th>data_inversa</th>\n",
              "      <th></th>\n",
              "    </tr>\n",
              "  </thead>\n",
              "  <tbody>\n",
              "    <tr>\n",
              "      <th>2020-01-01</th>\n",
              "      <td>28</td>\n",
              "    </tr>\n",
              "    <tr>\n",
              "      <th>2020-01-02</th>\n",
              "      <td>70</td>\n",
              "    </tr>\n",
              "    <tr>\n",
              "      <th>2020-01-03</th>\n",
              "      <td>71</td>\n",
              "    </tr>\n",
              "    <tr>\n",
              "      <th>2020-01-04</th>\n",
              "      <td>79</td>\n",
              "    </tr>\n",
              "    <tr>\n",
              "      <th>2020-01-05</th>\n",
              "      <td>69</td>\n",
              "    </tr>\n",
              "  </tbody>\n",
              "</table>\n",
              "</div>"
            ],
            "text/plain": [
              "              cont_tweets\n",
              "data_inversa             \n",
              "2020-01-01             28\n",
              "2020-01-02             70\n",
              "2020-01-03             71\n",
              "2020-01-04             79\n",
              "2020-01-05             69"
            ]
          },
          "metadata": {
            "tags": []
          },
          "execution_count": 3
        }
      ]
    },
    {
      "cell_type": "code",
      "metadata": {
        "id": "uiEVUPHmL4og",
        "outputId": "af97744b-4190-4a4b-83b0-54ed18c60b90",
        "colab": {
          "base_uri": "https://localhost:8080/",
          "height": 351
        }
      },
      "source": [
        "dados_sumario.plot(figsize=(12,5))"
      ],
      "execution_count": 4,
      "outputs": [
        {
          "output_type": "execute_result",
          "data": {
            "text/plain": [
              "<matplotlib.axes._subplots.AxesSubplot at 0x7fb362b66898>"
            ]
          },
          "metadata": {
            "tags": []
          },
          "execution_count": 4
        },
        {
          "output_type": "display_data",
          "data": {
            "image/png": "[encoded data removed]",
            "text/plain": [
              "<Figure size 864x360 with 1 Axes>"
            ]
          },
          "metadata": {
            "tags": [],
            "needs_background": "light"
          }
        }
      ]
    },
    {
      "cell_type": "code",
      "metadata": {
        "id": "ClBbWdAht8-s",
        "outputId": "a262b6c8-37b4-4a23-e318-95389cc21198",
        "colab": {
          "base_uri": "https://localhost:8080/",
          "height": 248
        }
      },
      "source": [
        "data.head(2)"
      ],
      "execution_count": 5,
      "outputs": [
        {
          "output_type": "execute_result",
          "data": {
            "text/html": [
              "<div>\n",
              "<style scoped>\n",
              "    .dataframe tbody tr th:only-of-type {\n",
              "        vertical-align: middle;\n",
              "    }\n",
              "\n",
              "    .dataframe tbody tr th {\n",
              "        vertical-align: top;\n",
              "    }\n",
              "\n",
              "    .dataframe thead th {\n",
              "        text-align: right;\n",
              "    }\n",
              "</style>\n",
              "<table border=\"1\" class=\"dataframe\">\n",
              "  <thead>\n",
              "    <tr style=\"text-align: right;\">\n",
              "      <th></th>\n",
              "      <th>data</th>\n",
              "      <th>usuario</th>\n",
              "      <th>apelido</th>\n",
              "      <th>texto</th>\n",
              "      <th>retweet</th>\n",
              "      <th>seguidores</th>\n",
              "      <th>idioma</th>\n",
              "      <th>lugar</th>\n",
              "      <th>pais</th>\n",
              "      <th>sigla</th>\n",
              "      <th>latitude</th>\n",
              "      <th>longitude</th>\n",
              "      <th>hashtags</th>\n",
              "    </tr>\n",
              "  </thead>\n",
              "  <tbody>\n",
              "    <tr>\n",
              "      <th>0</th>\n",
              "      <td>2020-03-23 18:51:14</td>\n",
              "      <td>Gaboardi</td>\n",
              "      <td>fraslee</td>\n",
              "      <td>@BolsonaroSP Cade o fundão deputado??? Congres...</td>\n",
              "      <td>0</td>\n",
              "      <td>138</td>\n",
              "      <td>pt</td>\n",
              "      <td>NaN</td>\n",
              "      <td>NaN</td>\n",
              "      <td>NaN</td>\n",
              "      <td>NaN</td>\n",
              "      <td>NaN</td>\n",
              "      <td>[]</td>\n",
              "    </tr>\n",
              "    <tr>\n",
              "      <th>1</th>\n",
              "      <td>2020-03-18 03:18:14</td>\n",
              "      <td>Seu Zé da Farmácia</td>\n",
              "      <td>seuzedafarmacia</td>\n",
              "      <td>Em ação preventiva, o Governo do Estado suspen...</td>\n",
              "      <td>0</td>\n",
              "      <td>56</td>\n",
              "      <td>pt</td>\n",
              "      <td>NaN</td>\n",
              "      <td>NaN</td>\n",
              "      <td>NaN</td>\n",
              "      <td>NaN</td>\n",
              "      <td>NaN</td>\n",
              "      <td>[]</td>\n",
              "    </tr>\n",
              "  </tbody>\n",
              "</table>\n",
              "</div>"
            ],
            "text/plain": [
              "                  data             usuario  ... longitude hashtags\n",
              "0  2020-03-23 18:51:14            Gaboardi  ...       NaN       []\n",
              "1  2020-03-18 03:18:14  Seu Zé da Farmácia  ...       NaN       []\n",
              "\n",
              "[2 rows x 13 columns]"
            ]
          },
          "metadata": {
            "tags": []
          },
          "execution_count": 5
        }
      ]
    },
    {
      "cell_type": "markdown",
      "metadata": {
        "id": "1LxZIOtu7kkF"
      },
      "source": [
        "## 1.3 Rank de quantidade de Tweets por Cidade"
      ]
    },
    {
      "cell_type": "markdown",
      "metadata": {
        "id": "cxKzczCHeG2Y"
      },
      "source": [
        "* Selecionar as 10 primeiras cidades para exibição em um gráfico (dos tweets que possuiam essa informacao de local)"
      ]
    },
    {
      "cell_type": "code",
      "metadata": {
        "id": "3KD8WO6W7j1u"
      },
      "source": [
        "dados_cidades = data['lugar'].groupby(data['lugar']).agg('count').to_frame()\n",
        "dados_cidades.columns = ['cont_tweets']\n",
        "\n",
        "dados_cidades = dados_cidades.sort_values(['cont_tweets','lugar'], ascending=False)"
      ],
      "execution_count": 6,
      "outputs": []
    },
    {
      "cell_type": "code",
      "metadata": {
        "id": "Ngi2jr4s_bLu",
        "outputId": "a932170f-c32d-4712-cb18-4f65b9669d34",
        "colab": {
          "base_uri": "https://localhost:8080/",
          "height": 403
        }
      },
      "source": [
        "dados_cidades = dados_cidades[0:9]\n",
        "dados_cidades.plot(kind= 'bar',figsize=(12,5))"
      ],
      "execution_count": 7,
      "outputs": [
        {
          "output_type": "execute_result",
          "data": {
            "text/plain": [
              "<matplotlib.axes._subplots.AxesSubplot at 0x7fb36179f128>"
            ]
          },
          "metadata": {
            "tags": []
          },
          "execution_count": 7
        },
        {
          "output_type": "display_data",
          "data": {
            "image/png": "[encoded data removed]",
            "text/plain": [
              "<Figure size 864x360 with 1 Axes>"
            ]
          },
          "metadata": {
            "tags": [],
            "needs_background": "light"
          }
        }
      ]
    },
    {
      "cell_type": "markdown",
      "metadata": {
        "id": "WyiGiCViC30M"
      },
      "source": [
        "## 1.4 Frequência dos Tweets por horas"
      ]
    },
    {
      "cell_type": "code",
      "metadata": {
        "id": "sSTjpFfNC8Kx"
      },
      "source": [
        "df= data.copy()\n",
        "df.index =  pd.to_datetime(df.data)\n",
        "df = df.drop('data',axis=1)\n",
        "df = df.sort_values(['data'])\n",
        "hours = pd.Series(df.index.hour)\n",
        "hours = pd.Series(hours.value_counts()).sort_index()"
      ],
      "execution_count": 8,
      "outputs": []
    },
    {
      "cell_type": "code",
      "metadata": {
        "id": "KsOPV8xjlWyQ",
        "outputId": "39eb8ddd-2f2c-4bbf-8d69-5bffb3011c53",
        "colab": {
          "base_uri": "https://localhost:8080/",
          "height": 279
        }
      },
      "source": [
        "import matplotlib.pyplot as plt\n",
        "from matplotlib.pyplot import figure\n",
        "\n",
        "fig, ax = plt.subplots()\n",
        "x = np.arange(len(hours))\n",
        "y = np.array(hours)\n",
        "\n",
        "dim = 1\n",
        "w = 0.75\n",
        "dimw = w / dim\n",
        "\n",
        "for i in range(0,24):\n",
        "  ax.bar(i,y[i],dimw,bottom=0.001,align='center',color='#00008B')\n",
        "  \n",
        "ax.set_xlabel('Horas')\n",
        "ax.set_ylabel('Quantidade de Tweets')\n",
        "\n",
        "plt.show()"
      ],
      "execution_count": 9,
      "outputs": [
        {
          "output_type": "display_data",
          "data": {
            "image/png": "[encoded data removed]",
            "text/plain": [
              "<Figure size 432x288 with 1 Axes>"
            ]
          },
          "metadata": {
            "tags": [],
            "needs_background": "light"
          }
        }
      ]
    },
    {
      "cell_type": "markdown",
      "metadata": {
        "id": "4Ina-rnfC_fy"
      },
      "source": [
        "## 1.5 Retweet por usuários que possuem maior numero de seguidores"
      ]
    },
    {
      "cell_type": "markdown",
      "metadata": {
        "id": "AUeshFdu2r3o"
      },
      "source": [
        "\n",
        "\n",
        "> A relação do usuário com maior numero de seguidores e o usuário com maior numero de retweets não está coerente, seria efeito do bot ?\n",
        "\n"
      ]
    },
    {
      "cell_type": "code",
      "metadata": {
        "id": "jAAwokJxDD5r"
      },
      "source": [
        "# Ranking dos usuários com maior numero de seguidores\n",
        "rank = data.iloc[:,[1,4,5]]\n",
        "rank = rank.groupby('usuario').agg(\n",
        "    max_seguidores = pd.NamedAgg(column='seguidores',aggfunc=max),\n",
        "    total_retweet = pd.NamedAgg(column='retweet',aggfunc=sum)\n",
        ")\n",
        "rank = rank.sort_values(by='max_seguidores',ascending=False)\n",
        "#ranking dos usuarios com maior numero de retweets\n",
        "rank2 = rank.sort_values(by='total_retweet',ascending=False)"
      ],
      "execution_count": 10,
      "outputs": []
    },
    {
      "cell_type": "code",
      "metadata": {
        "id": "hHPWYexX0D3d",
        "outputId": "bb0ec7a5-d2e0-4b35-924e-701277aac81b",
        "colab": {
          "base_uri": "https://localhost:8080/",
          "height": 266
        }
      },
      "source": [
        "print(rank[0:5])\n",
        "print(rank2[0:5])"
      ],
      "execution_count": 11,
      "outputs": [
        {
          "output_type": "stream",
          "text": [
            "                 max_seguidores  total_retweet\n",
            "usuario                                       \n",
            "Donald J. Trump        84241250          21369\n",
            "Reuters                22098307             46\n",
            "CNN en Español         18878720            161\n",
            "Danilo Gentili         17244348           1936\n",
            "Whindersson 🏠          16969481          16886\n",
            "                    max_seguidores  total_retweet\n",
            "usuario                                          \n",
            "Maryy                          218        1139763\n",
            "My cabbages!!                  737         989485\n",
            "Tr1gger Mike                    43         901093\n",
            "🌹                             2513         887268\n",
            "tweets not loading             765         850226\n"
          ],
          "name": "stdout"
        }
      ]
    },
    {
      "cell_type": "markdown",
      "metadata": {
        "id": "FicrK3QbDUkY"
      },
      "source": [
        "## 1.6 Total de Hashtags nas cidades mais frequentes"
      ]
    },
    {
      "cell_type": "code",
      "metadata": {
        "id": "_x0HOudhDYBr",
        "outputId": "8fb61f5c-3a12-4b62-ff86-dd0cb757aa77",
        "colab": {
          "base_uri": "https://localhost:8080/",
          "height": 382
        }
      },
      "source": [
        "#1 = usuario | 7 = lugar | 12 = hashtags\n",
        "rank = data.iloc[:,[1,7,12]]\n",
        "rank.head(2)\n",
        "\n",
        "# rank = rank.groupby('lugar').agg(\n",
        "#     totalHashtags = pd.NamedAgg(column='hashtags',aggfunc=count)#,\n",
        "#     #total_retweet = pd.NamedAgg(column='hashtags',aggfunc=sum)\n",
        "# )\n",
        "# rank #= rank.sort_values(by='max_seguidores',ascending=False)\n",
        "\n",
        "test = rank.groupby(['lugar', 'usuario'])['hashtags'].count()\n",
        "frame = pd.DataFrame(test)\n",
        "frame = frame.sort_values('hashtags',ascending=False,ignore_index=False)\n",
        "frame = frame.reset_index(level=[0])\n",
        "\n",
        "frame[0:10]"
      ],
      "execution_count": 12,
      "outputs": [
        {
          "output_type": "execute_result",
          "data": {
            "text/html": [
              "<div>\n",
              "<style scoped>\n",
              "    .dataframe tbody tr th:only-of-type {\n",
              "        vertical-align: middle;\n",
              "    }\n",
              "\n",
              "    .dataframe tbody tr th {\n",
              "        vertical-align: top;\n",
              "    }\n",
              "\n",
              "    .dataframe thead th {\n",
              "        text-align: right;\n",
              "    }\n",
              "</style>\n",
              "<table border=\"1\" class=\"dataframe\">\n",
              "  <thead>\n",
              "    <tr style=\"text-align: right;\">\n",
              "      <th></th>\n",
              "      <th>lugar</th>\n",
              "      <th>hashtags</th>\n",
              "    </tr>\n",
              "    <tr>\n",
              "      <th>usuario</th>\n",
              "      <th></th>\n",
              "      <th></th>\n",
              "    </tr>\n",
              "  </thead>\n",
              "  <tbody>\n",
              "    <tr>\n",
              "      <th>TSF Rádio</th>\n",
              "      <td>Lisbon</td>\n",
              "      <td>338</td>\n",
              "    </tr>\n",
              "    <tr>\n",
              "      <th>Felipe 🅱️</th>\n",
              "      <td>Rio de Janeiro</td>\n",
              "      <td>205</td>\n",
              "    </tr>\n",
              "    <tr>\n",
              "      <th>Monster3366</th>\n",
              "      <td>Sao Paulo</td>\n",
              "      <td>156</td>\n",
              "    </tr>\n",
              "    <tr>\n",
              "      <th>Guto Menna-Barreto (em 🏚) 🏳️‍🌈</th>\n",
              "      <td>Curitiba</td>\n",
              "      <td>139</td>\n",
              "    </tr>\n",
              "    <tr>\n",
              "      <th>Ana Helena Mofatto 🇧🇷👊💚</th>\n",
              "      <td>Limeira</td>\n",
              "      <td>114</td>\n",
              "    </tr>\n",
              "    <tr>\n",
              "      <th>💙💛💚Débora.B.P.💚💛💙</th>\n",
              "      <td>Sao Paulo</td>\n",
              "      <td>96</td>\n",
              "    </tr>\n",
              "    <tr>\n",
              "      <th>Nelson Carvalheira</th>\n",
              "      <td>Rio de Janeiro</td>\n",
              "      <td>95</td>\n",
              "    </tr>\n",
              "    <tr>\n",
              "      <th>Lr1 | O Liberal Regional</th>\n",
              "      <td>Araçatuba</td>\n",
              "      <td>95</td>\n",
              "    </tr>\n",
              "    <tr>\n",
              "      <th>Emerson Damasceno</th>\n",
              "      <td>Fortaleza</td>\n",
              "      <td>82</td>\n",
              "    </tr>\n",
              "    <tr>\n",
              "      <th>LUCIANO RESENDES ®</th>\n",
              "      <td>Salvador</td>\n",
              "      <td>82</td>\n",
              "    </tr>\n",
              "  </tbody>\n",
              "</table>\n",
              "</div>"
            ],
            "text/plain": [
              "                                         lugar  hashtags\n",
              "usuario                                                 \n",
              "TSF Rádio                               Lisbon       338\n",
              "Felipe 🅱️                       Rio de Janeiro       205\n",
              "Monster3366                          Sao Paulo       156\n",
              "Guto Menna-Barreto (em 🏚) 🏳️‍🌈        Curitiba       139\n",
              "Ana Helena Mofatto 🇧🇷👊💚                Limeira       114\n",
              "💙💛💚Débora.B.P.💚💛💙                    Sao Paulo        96\n",
              "Nelson Carvalheira              Rio de Janeiro        95\n",
              "Lr1 | O Liberal Regional             Araçatuba        95\n",
              "Emerson Damasceno                    Fortaleza        82\n",
              "LUCIANO RESENDES ®                    Salvador        82"
            ]
          },
          "metadata": {
            "tags": []
          },
          "execution_count": 12
        }
      ]
    },
    {
      "cell_type": "code",
      "metadata": {
        "id": "yvi13md3X-fs"
      },
      "source": [
        "popular_tweet_city = ['Rio de Janeiro','Sao Paulo','Brasília','Porto Alegre','Belo Horizonte']\n",
        "total_hastags = []\n",
        "\n",
        "for city in popular_tweet_city:\n",
        "  uf = frame.loc[frame['lugar'] == city]\n",
        "  uf = np.sum(uf['hashtags'])\n",
        "  total_hastags.append(uf)"
      ],
      "execution_count": 13,
      "outputs": []
    },
    {
      "cell_type": "code",
      "metadata": {
        "id": "aHd6J15ggX-R",
        "outputId": "3609eba6-fa14-4441-fb30-da31ded43fbf",
        "colab": {
          "base_uri": "https://localhost:8080/",
          "height": 350
        }
      },
      "source": [
        "show = pd.DataFrame([total_hastags], columns=popular_tweet_city)\n",
        "show.plot(kind= 'bar',figsize=(10,5),title='Total de Hashtags nas cidades mais frequentes')"
      ],
      "execution_count": 14,
      "outputs": [
        {
          "output_type": "execute_result",
          "data": {
            "text/plain": [
              "<matplotlib.axes._subplots.AxesSubplot at 0x7fb36122da58>"
            ]
          },
          "metadata": {
            "tags": []
          },
          "execution_count": 14
        },
        {
          "output_type": "display_data",
          "data": {
            "image/png": "[encoded data removed]",
            "text/plain": [
              "<Figure size 720x360 with 1 Axes>"
            ]
          },
          "metadata": {
            "tags": [],
            "needs_background": "light"
          }
        }
      ]
    },
    {
      "cell_type": "markdown",
      "metadata": {
        "id": "PRnrX6QU4xm-"
      },
      "source": [
        "# 2 Temas Discutidos"
      ]
    },
    {
      "cell_type": "markdown",
      "metadata": {
        "id": "Urc8q8eCFFwi"
      },
      "source": [
        "*   Identificar os Tweets que contenham perguntas ('?')\n",
        "*   Após separar cada Tweet em sentenças, mantém-se apenas a setença que contenha '?'\n",
        "  *  Remove os Links que foram identificados como possiveis perguntas (talvez contenham '?')\n",
        "*   Remoção de StopWords\n",
        "\n"
      ]
    },
    {
      "cell_type": "code",
      "metadata": {
        "id": "eCt3WI5MFEiz",
        "outputId": "071cb5d7-b22c-4558-dfa2-dd5a945e8dc3",
        "colab": {
          "base_uri": "https://localhost:8080/",
          "height": 109
        }
      },
      "source": [
        "# Seleciona-se a coluna 'usuario' e 'texto'\n",
        "dt_auxiliar = data.iloc[:,[1,3]]\n",
        "dt_auxiliar.head(2)"
      ],
      "execution_count": 15,
      "outputs": [
        {
          "output_type": "execute_result",
          "data": {
            "text/html": [
              "<div>\n",
              "<style scoped>\n",
              "    .dataframe tbody tr th:only-of-type {\n",
              "        vertical-align: middle;\n",
              "    }\n",
              "\n",
              "    .dataframe tbody tr th {\n",
              "        vertical-align: top;\n",
              "    }\n",
              "\n",
              "    .dataframe thead th {\n",
              "        text-align: right;\n",
              "    }\n",
              "</style>\n",
              "<table border=\"1\" class=\"dataframe\">\n",
              "  <thead>\n",
              "    <tr style=\"text-align: right;\">\n",
              "      <th></th>\n",
              "      <th>usuario</th>\n",
              "      <th>texto</th>\n",
              "    </tr>\n",
              "  </thead>\n",
              "  <tbody>\n",
              "    <tr>\n",
              "      <th>0</th>\n",
              "      <td>Gaboardi</td>\n",
              "      <td>@BolsonaroSP Cade o fundão deputado??? Congres...</td>\n",
              "    </tr>\n",
              "    <tr>\n",
              "      <th>1</th>\n",
              "      <td>Seu Zé da Farmácia</td>\n",
              "      <td>Em ação preventiva, o Governo do Estado suspen...</td>\n",
              "    </tr>\n",
              "  </tbody>\n",
              "</table>\n",
              "</div>"
            ],
            "text/plain": [
              "              usuario                                              texto\n",
              "0            Gaboardi  @BolsonaroSP Cade o fundão deputado??? Congres...\n",
              "1  Seu Zé da Farmácia  Em ação preventiva, o Governo do Estado suspen..."
            ]
          },
          "metadata": {
            "tags": []
          },
          "execution_count": 15
        }
      ]
    },
    {
      "cell_type": "code",
      "metadata": {
        "id": "Uprt8HhSVlRA",
        "outputId": "aacf6914-cf08-468b-817d-7b307f68414e",
        "colab": {
          "base_uri": "https://localhost:8080/",
          "height": 88
        }
      },
      "source": [
        "import nltk\n",
        "nltk.download('stopwords')\n",
        "nltk.download('punkt')\n",
        "\n",
        "stopwords = nltk.corpus.stopwords.words('portuguese')\n",
        "sent_tokenizer=nltk.data.load('tokenizers/punkt/portuguese.pickle')\n",
        "\n",
        "questions = list()\n",
        "\n",
        "for i in range(0,dt_auxiliar.shape[0]):\n",
        "  if dt_auxiliar.iloc[i].texto.find(\"?\") >=0:\n",
        "    sentences = sent_tokenizer.tokenize(dt_auxiliar.iloc[i].texto) #separando em sentenças\n",
        "    if len(sentences) > 1:\n",
        "      \"\"\" percorra o vetor das sentenças; identifique as perguntas; adicione a lista questions ( com a '?' )\"\"\"\n",
        "      for i in range(0,len(sentences)):\n",
        "        #se contem '?'\n",
        "        if sentences[i].find(\"?\") > -1: \n",
        "          \"\"\"remova as stopwords da sentença\"\"\"    \n",
        "          words_of_sentences = sentences[i].split()\n",
        "          \n",
        "          # se a palavra não for uma stopword\n",
        "          see_stopwords = lambda word: True if word not in stopwords else False \n",
        "          result = \" \".join( list(filter(see_stopwords, words_of_sentences)) )  # refazendo a string com as palavras resultantes do filtro\n",
        "          \n",
        "          # adicione o result a lista de questões\n",
        "          questions.append(result)"
      ],
      "execution_count": 16,
      "outputs": [
        {
          "output_type": "stream",
          "text": [
            "[nltk_data] Downloading package stopwords to /root/nltk_data...\n",
            "[nltk_data]   Package stopwords is already up-to-date!\n",
            "[nltk_data] Downloading package punkt to /root/nltk_data...\n",
            "[nltk_data]   Package punkt is already up-to-date!\n"
          ],
          "name": "stdout"
        }
      ]
    },
    {
      "cell_type": "code",
      "metadata": {
        "id": "ivloy5K8mKgL",
        "outputId": "06046aef-d1ce-4bdb-8fbc-29a1f6d7ef7f",
        "colab": {
          "base_uri": "https://localhost:8080/",
          "height": 35
        }
      },
      "source": [
        "len(questions)\n",
        "#questions"
      ],
      "execution_count": 17,
      "outputs": [
        {
          "output_type": "execute_result",
          "data": {
            "text/plain": [
              "177347"
            ]
          },
          "metadata": {
            "tags": []
          },
          "execution_count": 17
        }
      ]
    },
    {
      "cell_type": "code",
      "metadata": {
        "id": "r2_c3693tcfh",
        "outputId": "1451a86a-920a-4565-868a-8629e54a18df",
        "colab": {
          "base_uri": "https://localhost:8080/",
          "height": 124
        }
      },
      "source": [
        "from nltk import *\n",
        "\n",
        "aux = \" \".join(questions[0:10])\n",
        "aux\n",
        "\n",
        "# fdist = FreqDist(\" \".join(questions))\n",
        "# fdist"
      ],
      "execution_count": 18,
      "outputs": [
        {
          "output_type": "execute_result",
          "data": {
            "application/vnd.google.colaboratory.intrinsic+json": {
              "type": "string"
            },
            "text/plain": [
              "'@BolsonaroSP Cade fundão deputado??? Fumaça cigarro pode propagar coronavírus? @ipratesMD @dr_pampers Será corremos risco termos piolhos super resistentes? Prioridade ?! Que tal notícia boa, indo contramão mídia corrupta fazendo (tocando terror população)? @mitags Será Bolsonaro fez propaganda? #perguntacorona Quero saber covid cura? @elmundoes eres republicano? Quem Pandemia? Cadê polícia Dória prendia velhos, mulheres trabalhadores pandemia ???'"
            ]
          },
          "metadata": {
            "tags": []
          },
          "execution_count": 18
        }
      ]
    },
    {
      "cell_type": "code",
      "metadata": {
        "id": "3dxyQpICGs4t"
      },
      "source": [
        "# import nltk\n",
        "# nltk.download('stopwords')\n",
        "\n",
        "# stopwords = nltk.corpus.stopwords.words('portuguese')\n",
        "# frase= 'ele não foi ao centro comprar pão, pois ele e ela gostaram mais de ficar e comer um empanado'\n",
        "\n",
        "# sentenca = frase.split()\n",
        "\n",
        "# ver_stopwords = lambda word: True if word not in stopwords else False # se a palavra não for uma stopword\n",
        "# result = \" \".join(list(filter(ver_stopwords, sentenca)))  # refazendo a string com as palavras resultantes do filtro\n",
        "# print(result)"
      ],
      "execution_count": 19,
      "outputs": []
    },
    {
      "cell_type": "code",
      "metadata": {
        "id": "1e7U2JXUnUqU",
        "outputId": "f782de51-1cda-42d4-d1bd-780e861ce08f",
        "colab": {
          "base_uri": "https://localhost:8080/",
          "height": 132
        }
      },
      "source": [
        "nltk.FreqDist("
      ],
      "execution_count": 20,
      "outputs": [
        {
          "output_type": "error",
          "ename": "SyntaxError",
          "evalue": "ignored",
          "traceback": [
            "\u001b[0;36m  File \u001b[0;32m\"<ipython-input-20-831d89dad486>\"\u001b[0;36m, line \u001b[0;32m1\u001b[0m\n\u001b[0;31m    nltk.FreqDist(\u001b[0m\n\u001b[0m                  ^\u001b[0m\n\u001b[0;31mSyntaxError\u001b[0m\u001b[0;31m:\u001b[0m unexpected EOF while parsing\n"
          ]
        }
      ]
    },
    {
      "cell_type": "code",
      "metadata": {
        "id": "Fnt6N0RdH9EL"
      },
      "source": [
        "import re\n",
        "# ENCONTRA E RETORNA AS POSIÇÕES DAS LETRAS DAS PALAVRAS\n",
        "aux = re.search('levi', 'From leviHere to Eternity levi') \n",
        "aux.span()\n"
      ],
      "execution_count": null,
      "outputs": []
    },
    {
      "cell_type": "markdown",
      "metadata": {
        "id": "4MypSFSSqwa0"
      },
      "source": [
        "* Limpeza"
      ]
    },
    {
      "cell_type": "code",
      "metadata": {
        "id": "EfGBdBMfpWvZ",
        "outputId": "0d159c74-2fe8-4627-ca10-f4f3c0dcc4cf",
        "colab": {
          "base_uri": "https://localhost:8080/",
          "height": 35
        }
      },
      "source": [
        "pln = spacy.load('pt')\n",
        "stopwords = nltk.corpus.stopwords.words('portuguese')\n",
        "\n",
        "def preprocess(texto):\n",
        "  # Letras minúsculas\n",
        "  texto = texto.lower()\n",
        "\n",
        "  # Nome do usuário\n",
        "  texto = re.sub(r\"@[A-Za-z0-9$-_@.&+]+\", ' ', texto)\n",
        "  #texto = re.sub(r\"@\",'', texto)\n",
        "\n",
        "  # URLs\n",
        "  texto = re.sub(r\"https?://[A-Za-z0-9./]+\", ' ', texto)\n",
        "\n",
        "  # Espaços em branco\n",
        "  texto = re.sub(r\":[A-Za-z0-9$-_@.&+]+\",'', texto)\n",
        "  texto = re.sub(r\";[A-Za-z0-9$-_@.&+]+\",'', texto)\n",
        "  texto = re.sub(r\" +\",' ', texto)\n",
        "  \n",
        "\n",
        "  # Lematização\n",
        "  documento = pln(texto)\n",
        "  \n",
        "  lista = []\n",
        "  for token in documento:\n",
        "    if str(token) not in stopwords:\n",
        "      lista.append(token.lemma_)\n",
        "    \n",
        "  # Stop words e pontuações\n",
        "  lista = [palavra for palavra in lista if palavra not in string.punctuation]\n",
        "  lista = ' '.join([str(elemento) for elemento in lista if not elemento.isdigit()])\n",
        "  \n",
        "  return lista\n",
        "\n",
        "result = map(preprocess,questions[0:2])\n",
        "questions_cleaned = list(set(result))\n",
        "print(questions_cleaned)"
      ],
      "execution_count": 26,
      "outputs": [
        {
          "output_type": "stream",
          "text": [
            "['  cade fundão deputar', 'fumaça cigarrar poder propagar coronavírus']\n"
          ],
          "name": "stdout"
        }
      ]
    },
    {
      "cell_type": "code",
      "metadata": {
        "id": "Vf0u7lw29rZT"
      },
      "source": [
        ""
      ],
      "execution_count": null,
      "outputs": []
    },
    {
      "cell_type": "markdown",
      "metadata": {
        "id": "fXM7YgYyPKCR"
      },
      "source": [
        "## 2.1 Doença"
      ]
    },
    {
      "cell_type": "markdown",
      "metadata": {
        "id": "TZTc9V2kPOyO"
      },
      "source": [
        "## 2.2 Medicamento"
      ]
    },
    {
      "cell_type": "markdown",
      "metadata": {
        "id": "MJSkVibOPSe1"
      },
      "source": [
        "## 2.3 Organizações"
      ]
    },
    {
      "cell_type": "markdown",
      "metadata": {
        "id": "3r2DX_jSPVPl"
      },
      "source": [
        "## 2.4 Pessoas"
      ]
    },
    {
      "cell_type": "markdown",
      "metadata": {
        "id": "le3Zgm57nQIA"
      },
      "source": [
        "# 3 Visões"
      ]
    },
    {
      "cell_type": "markdown",
      "metadata": {
        "id": "5KCYV_hDPtlU"
      },
      "source": [
        "## 3.1 Temporal"
      ]
    },
    {
      "cell_type": "markdown",
      "metadata": {
        "id": "wEWMwe_RPhXU"
      },
      "source": [
        "## 3.2 Geográfica"
      ]
    },
    {
      "cell_type": "code",
      "metadata": {
        "id": "ZDFcirJW0kOT"
      },
      "source": [
        "# print(type(dados['texto']))"
      ],
      "execution_count": null,
      "outputs": []
    },
    {
      "cell_type": "code",
      "metadata": {
        "id": "GU2F-WiCb_65"
      },
      "source": [
        "# print(dados.count)"
      ],
      "execution_count": null,
      "outputs": []
    },
    {
      "cell_type": "code",
      "metadata": {
        "id": "at3vSsQGbkyh"
      },
      "source": [
        "# dados2 = dados.loc[dados.texto.str.find('?') >= 0 ]"
      ],
      "execution_count": null,
      "outputs": []
    },
    {
      "cell_type": "code",
      "metadata": {
        "id": "qI6kOlsKZMk9"
      },
      "source": [
        "# print(dados2.count)"
      ],
      "execution_count": null,
      "outputs": []
    },
    {
      "cell_type": "code",
      "metadata": {
        "id": "whAiICHub_nS"
      },
      "source": [
        "# dados2.head(10)"
      ],
      "execution_count": null,
      "outputs": []
    },
    {
      "cell_type": "markdown",
      "metadata": {
        "id": "ITE7gu9RKvkZ"
      },
      "source": [
        "Extrair as perguntas dos tweets que apresentam perguntas\n"
      ]
    },
    {
      "cell_type": "code",
      "metadata": {
        "id": "7j-mEmNbK2XP"
      },
      "source": [
        "# print(dados2.dtypes)"
      ],
      "execution_count": null,
      "outputs": []
    },
    {
      "cell_type": "code",
      "metadata": {
        "id": "Gm99KNYRXzHY"
      },
      "source": [
        "# # !pip install nltk\n",
        "\n",
        "# import nltk\n",
        "\n",
        "# from nltk import sent_tokenize\n",
        "\n",
        "# nltk.download('punkt')"
      ],
      "execution_count": null,
      "outputs": []
    },
    {
      "cell_type": "code",
      "metadata": {
        "id": "ml3h9AZLTuZq"
      },
      "source": [
        "\n",
        "#dados2['pergunta_extraida'] = sent_tokenize(dados2.texto.str)\n",
        "\n",
        "#print(dados2.dtypes)\n",
        "\n",
        "# print(type(dados2.texto.str.))"
      ],
      "execution_count": null,
      "outputs": []
    },
    {
      "cell_type": "markdown",
      "metadata": {
        "id": "KJhMGUH0oLY3"
      },
      "source": [
        "# 4 - Conclusões"
      ]
    },
    {
      "cell_type": "code",
      "metadata": {
        "id": "IarJhkokAPbz"
      },
      "source": [
        ""
      ],
      "execution_count": null,
      "outputs": []
    }
  ]
}