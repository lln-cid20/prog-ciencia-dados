{
  "nbformat": 4,
  "nbformat_minor": 0,
  "metadata": {
    "colab": {
      "name": "TrabalhoConjunto.ipynb",
      "provenance": [],
      "collapsed_sections": [
        "9H85nEMasCBS",
        "1LxZIOtu7kkF",
        "WyiGiCViC30M",
        "4Ina-rnfC_fy",
        "FicrK3QbDUkY",
        "h_uoX399enEx",
        "le3Zgm57nQIA",
        "wEWMwe_RPhXU"
      ],
      "toc_visible": true,
      "include_colab_link": true
    },
    "kernelspec": {
      "name": "python3",
      "display_name": "Python 3"
    }
  },
  "cells": [
    {
      "cell_type": "markdown",
      "metadata": {
        "id": "view-in-github",
        "colab_type": "text"
      },
      "source": [
        "<a href=\"https://colab.research.google.com/github/lln-cid20/prog-ciencia-dados/blob/master/TrabalhoConjunto.ipynb\" target=\"_parent\"><img src=\"https://colab.research.google.com/assets/colab-badge.svg\" alt=\"Open In Colab\"/></a>"
      ]
    },
    {
      "cell_type": "markdown",
      "metadata": {
        "id": "YBTc5GVZCoy5"
      },
      "source": [
        "# **Apresentação**"
      ]
    },
    {
      "cell_type": "markdown",
      "metadata": {
        "id": "3VXXHYd2C1Zv"
      },
      "source": [
        "**Resumo**\n",
        "\n",
        "Este trabalho, realizado como atividade final da disciplina de Programação para Ciência de Dados, do curso de Pós-graduação em Ciência de Dados 2020/2021, apresenta os resultados da análise sobre uma base de dados de tweets, procurando identificar as diversas perguntas feitas em relação à COVID-19, bem como classificar as perguntas conforme os tipos a seguir: sintomas, tratamento, entidades e pessoas.\n",
        "\n",
        "**Autores**\n",
        "*   Lelson Lopes Nascimento\n",
        "*   Levi Delmiro De Souza Bessa\n",
        "\n",
        "\n",
        "\n"
      ]
    },
    {
      "cell_type": "markdown",
      "metadata": {
        "id": "JSHcbjlz2igV"
      },
      "source": [
        "# 1 Visão Geral dos Dados\n",
        "\n",
        "Aqui são carregadas as bibliotecas básicas usadas no projeto\n",
        "\n"
      ]
    },
    {
      "cell_type": "code",
      "metadata": {
        "id": "WmY8JuNMmKzN",
        "outputId": "2bd5939e-1adc-49a2-c1d4-0a8367449272",
        "colab": {
          "base_uri": "https://localhost:8080/",
          "height": 1000
        }
      },
      "source": [
        "!pip install spacy --upgrade\n",
        "!python -m spacy download pt\n",
        "#!python -m spacy download en\n",
        "\n",
        "import pandas as pd\n",
        "import numpy as np\n",
        "import spacy\n",
        "import string\n",
        "import re\n",
        "\n",
        "from google.colab import drive\n",
        "drive.mount('/content/drive')\n",
        "\n",
        "data = pd.read_csv('/content/drive/Shared drives/modulo02/dados-curso-completo.csv')\n",
        "data.head(3)"
      ],
      "execution_count": 4,
      "outputs": [
        {
          "output_type": "stream",
          "text": [
            "Requirement already up-to-date: spacy in /usr/local/lib/python3.6/dist-packages (2.3.2)\n",
            "Requirement already satisfied, skipping upgrade: wasabi<1.1.0,>=0.4.0 in /usr/local/lib/python3.6/dist-packages (from spacy) (0.8.0)\n",
            "Requirement already satisfied, skipping upgrade: numpy>=1.15.0 in /usr/local/lib/python3.6/dist-packages (from spacy) (1.18.5)\n",
            "Requirement already satisfied, skipping upgrade: setuptools in /usr/local/lib/python3.6/dist-packages (from spacy) (50.3.0)\n",
            "Requirement already satisfied, skipping upgrade: thinc==7.4.1 in /usr/local/lib/python3.6/dist-packages (from spacy) (7.4.1)\n",
            "Requirement already satisfied, skipping upgrade: preshed<3.1.0,>=3.0.2 in /usr/local/lib/python3.6/dist-packages (from spacy) (3.0.2)\n",
            "Requirement already satisfied, skipping upgrade: tqdm<5.0.0,>=4.38.0 in /usr/local/lib/python3.6/dist-packages (from spacy) (4.41.1)\n",
            "Requirement already satisfied, skipping upgrade: requests<3.0.0,>=2.13.0 in /usr/local/lib/python3.6/dist-packages (from spacy) (2.23.0)\n",
            "Requirement already satisfied, skipping upgrade: plac<1.2.0,>=0.9.6 in /usr/local/lib/python3.6/dist-packages (from spacy) (1.1.3)\n",
            "Requirement already satisfied, skipping upgrade: cymem<2.1.0,>=2.0.2 in /usr/local/lib/python3.6/dist-packages (from spacy) (2.0.3)\n",
            "Requirement already satisfied, skipping upgrade: blis<0.5.0,>=0.4.0 in /usr/local/lib/python3.6/dist-packages (from spacy) (0.4.1)\n",
            "Requirement already satisfied, skipping upgrade: catalogue<1.1.0,>=0.0.7 in /usr/local/lib/python3.6/dist-packages (from spacy) (1.0.0)\n",
            "Requirement already satisfied, skipping upgrade: srsly<1.1.0,>=1.0.2 in /usr/local/lib/python3.6/dist-packages (from spacy) (1.0.2)\n",
            "Requirement already satisfied, skipping upgrade: murmurhash<1.1.0,>=0.28.0 in /usr/local/lib/python3.6/dist-packages (from spacy) (1.0.2)\n",
            "Requirement already satisfied, skipping upgrade: certifi>=2017.4.17 in /usr/local/lib/python3.6/dist-packages (from requests<3.0.0,>=2.13.0->spacy) (2020.6.20)\n",
            "Requirement already satisfied, skipping upgrade: idna<3,>=2.5 in /usr/local/lib/python3.6/dist-packages (from requests<3.0.0,>=2.13.0->spacy) (2.10)\n",
            "Requirement already satisfied, skipping upgrade: chardet<4,>=3.0.2 in /usr/local/lib/python3.6/dist-packages (from requests<3.0.0,>=2.13.0->spacy) (3.0.4)\n",
            "Requirement already satisfied, skipping upgrade: urllib3!=1.25.0,!=1.25.1,<1.26,>=1.21.1 in /usr/local/lib/python3.6/dist-packages (from requests<3.0.0,>=2.13.0->spacy) (1.24.3)\n",
            "Requirement already satisfied, skipping upgrade: importlib-metadata>=0.20; python_version < \"3.8\" in /usr/local/lib/python3.6/dist-packages (from catalogue<1.1.0,>=0.0.7->spacy) (2.0.0)\n",
            "Requirement already satisfied, skipping upgrade: zipp>=0.5 in /usr/local/lib/python3.6/dist-packages (from importlib-metadata>=0.20; python_version < \"3.8\"->catalogue<1.1.0,>=0.0.7->spacy) (3.2.0)\n",
            "Requirement already satisfied: pt_core_news_sm==2.3.0 from https://github.com/explosion/spacy-models/releases/download/pt_core_news_sm-2.3.0/pt_core_news_sm-2.3.0.tar.gz#egg=pt_core_news_sm==2.3.0 in /usr/local/lib/python3.6/dist-packages (2.3.0)\n",
            "Requirement already satisfied: spacy<2.4.0,>=2.3.0 in /usr/local/lib/python3.6/dist-packages (from pt_core_news_sm==2.3.0) (2.3.2)\n",
            "Requirement already satisfied: preshed<3.1.0,>=3.0.2 in /usr/local/lib/python3.6/dist-packages (from spacy<2.4.0,>=2.3.0->pt_core_news_sm==2.3.0) (3.0.2)\n",
            "Requirement already satisfied: murmurhash<1.1.0,>=0.28.0 in /usr/local/lib/python3.6/dist-packages (from spacy<2.4.0,>=2.3.0->pt_core_news_sm==2.3.0) (1.0.2)\n",
            "Requirement already satisfied: cymem<2.1.0,>=2.0.2 in /usr/local/lib/python3.6/dist-packages (from spacy<2.4.0,>=2.3.0->pt_core_news_sm==2.3.0) (2.0.3)\n",
            "Requirement already satisfied: blis<0.5.0,>=0.4.0 in /usr/local/lib/python3.6/dist-packages (from spacy<2.4.0,>=2.3.0->pt_core_news_sm==2.3.0) (0.4.1)\n",
            "Requirement already satisfied: srsly<1.1.0,>=1.0.2 in /usr/local/lib/python3.6/dist-packages (from spacy<2.4.0,>=2.3.0->pt_core_news_sm==2.3.0) (1.0.2)\n",
            "Requirement already satisfied: setuptools in /usr/local/lib/python3.6/dist-packages (from spacy<2.4.0,>=2.3.0->pt_core_news_sm==2.3.0) (50.3.0)\n",
            "Requirement already satisfied: thinc==7.4.1 in /usr/local/lib/python3.6/dist-packages (from spacy<2.4.0,>=2.3.0->pt_core_news_sm==2.3.0) (7.4.1)\n",
            "Requirement already satisfied: requests<3.0.0,>=2.13.0 in /usr/local/lib/python3.6/dist-packages (from spacy<2.4.0,>=2.3.0->pt_core_news_sm==2.3.0) (2.23.0)\n",
            "Requirement already satisfied: numpy>=1.15.0 in /usr/local/lib/python3.6/dist-packages (from spacy<2.4.0,>=2.3.0->pt_core_news_sm==2.3.0) (1.18.5)\n",
            "Requirement already satisfied: tqdm<5.0.0,>=4.38.0 in /usr/local/lib/python3.6/dist-packages (from spacy<2.4.0,>=2.3.0->pt_core_news_sm==2.3.0) (4.41.1)\n",
            "Requirement already satisfied: catalogue<1.1.0,>=0.0.7 in /usr/local/lib/python3.6/dist-packages (from spacy<2.4.0,>=2.3.0->pt_core_news_sm==2.3.0) (1.0.0)\n",
            "Requirement already satisfied: wasabi<1.1.0,>=0.4.0 in /usr/local/lib/python3.6/dist-packages (from spacy<2.4.0,>=2.3.0->pt_core_news_sm==2.3.0) (0.8.0)\n",
            "Requirement already satisfied: plac<1.2.0,>=0.9.6 in /usr/local/lib/python3.6/dist-packages (from spacy<2.4.0,>=2.3.0->pt_core_news_sm==2.3.0) (1.1.3)\n",
            "Requirement already satisfied: urllib3!=1.25.0,!=1.25.1,<1.26,>=1.21.1 in /usr/local/lib/python3.6/dist-packages (from requests<3.0.0,>=2.13.0->spacy<2.4.0,>=2.3.0->pt_core_news_sm==2.3.0) (1.24.3)\n",
            "Requirement already satisfied: certifi>=2017.4.17 in /usr/local/lib/python3.6/dist-packages (from requests<3.0.0,>=2.13.0->spacy<2.4.0,>=2.3.0->pt_core_news_sm==2.3.0) (2020.6.20)\n",
            "Requirement already satisfied: chardet<4,>=3.0.2 in /usr/local/lib/python3.6/dist-packages (from requests<3.0.0,>=2.13.0->spacy<2.4.0,>=2.3.0->pt_core_news_sm==2.3.0) (3.0.4)\n",
            "Requirement already satisfied: idna<3,>=2.5 in /usr/local/lib/python3.6/dist-packages (from requests<3.0.0,>=2.13.0->spacy<2.4.0,>=2.3.0->pt_core_news_sm==2.3.0) (2.10)\n",
            "Requirement already satisfied: importlib-metadata>=0.20; python_version < \"3.8\" in /usr/local/lib/python3.6/dist-packages (from catalogue<1.1.0,>=0.0.7->spacy<2.4.0,>=2.3.0->pt_core_news_sm==2.3.0) (2.0.0)\n",
            "Requirement already satisfied: zipp>=0.5 in /usr/local/lib/python3.6/dist-packages (from importlib-metadata>=0.20; python_version < \"3.8\"->catalogue<1.1.0,>=0.0.7->spacy<2.4.0,>=2.3.0->pt_core_news_sm==2.3.0) (3.2.0)\n",
            "\u001b[38;5;2m✔ Download and installation successful\u001b[0m\n",
            "You can now load the model via spacy.load('pt_core_news_sm')\n",
            "\u001b[38;5;2m✔ Linking successful\u001b[0m\n",
            "/usr/local/lib/python3.6/dist-packages/pt_core_news_sm -->\n",
            "/usr/local/lib/python3.6/dist-packages/spacy/data/pt\n",
            "You can now load the model via spacy.load('pt')\n",
            "Drive already mounted at /content/drive; to attempt to forcibly remount, call drive.mount(\"/content/drive\", force_remount=True).\n"
          ],
          "name": "stdout"
        },
        {
          "output_type": "execute_result",
          "data": {
            "text/html": [
              "<div>\n",
              "<style scoped>\n",
              "    .dataframe tbody tr th:only-of-type {\n",
              "        vertical-align: middle;\n",
              "    }\n",
              "\n",
              "    .dataframe tbody tr th {\n",
              "        vertical-align: top;\n",
              "    }\n",
              "\n",
              "    .dataframe thead th {\n",
              "        text-align: right;\n",
              "    }\n",
              "</style>\n",
              "<table border=\"1\" class=\"dataframe\">\n",
              "  <thead>\n",
              "    <tr style=\"text-align: right;\">\n",
              "      <th></th>\n",
              "      <th>data</th>\n",
              "      <th>usuario</th>\n",
              "      <th>apelido</th>\n",
              "      <th>texto</th>\n",
              "      <th>retweet</th>\n",
              "      <th>seguidores</th>\n",
              "      <th>idioma</th>\n",
              "      <th>lugar</th>\n",
              "      <th>pais</th>\n",
              "      <th>sigla</th>\n",
              "      <th>latitude</th>\n",
              "      <th>longitude</th>\n",
              "      <th>hashtags</th>\n",
              "    </tr>\n",
              "  </thead>\n",
              "  <tbody>\n",
              "    <tr>\n",
              "      <th>0</th>\n",
              "      <td>2020-03-23 18:51:14</td>\n",
              "      <td>Gaboardi</td>\n",
              "      <td>fraslee</td>\n",
              "      <td>@BolsonaroSP Cade o fundão deputado??? Congres...</td>\n",
              "      <td>0</td>\n",
              "      <td>138</td>\n",
              "      <td>pt</td>\n",
              "      <td>NaN</td>\n",
              "      <td>NaN</td>\n",
              "      <td>NaN</td>\n",
              "      <td>NaN</td>\n",
              "      <td>NaN</td>\n",
              "      <td>[]</td>\n",
              "    </tr>\n",
              "    <tr>\n",
              "      <th>1</th>\n",
              "      <td>2020-03-18 03:18:14</td>\n",
              "      <td>Seu Zé da Farmácia</td>\n",
              "      <td>seuzedafarmacia</td>\n",
              "      <td>Em ação preventiva, o Governo do Estado suspen...</td>\n",
              "      <td>0</td>\n",
              "      <td>56</td>\n",
              "      <td>pt</td>\n",
              "      <td>NaN</td>\n",
              "      <td>NaN</td>\n",
              "      <td>NaN</td>\n",
              "      <td>NaN</td>\n",
              "      <td>NaN</td>\n",
              "      <td>[]</td>\n",
              "    </tr>\n",
              "    <tr>\n",
              "      <th>2</th>\n",
              "      <td>2020-03-29 12:09:27</td>\n",
              "      <td>Marília Oliveira 🇧🇷</td>\n",
              "      <td>Marioliveira_gb</td>\n",
              "      <td>Incrível como os defensores do fim do distanci...</td>\n",
              "      <td>0</td>\n",
              "      <td>5</td>\n",
              "      <td>pt</td>\n",
              "      <td>NaN</td>\n",
              "      <td>NaN</td>\n",
              "      <td>NaN</td>\n",
              "      <td>NaN</td>\n",
              "      <td>NaN</td>\n",
              "      <td>[]</td>\n",
              "    </tr>\n",
              "  </tbody>\n",
              "</table>\n",
              "</div>"
            ],
            "text/plain": [
              "                  data              usuario  ... longitude hashtags\n",
              "0  2020-03-23 18:51:14             Gaboardi  ...       NaN       []\n",
              "1  2020-03-18 03:18:14   Seu Zé da Farmácia  ...       NaN       []\n",
              "2  2020-03-29 12:09:27  Marília Oliveira 🇧🇷  ...       NaN       []\n",
              "\n",
              "[3 rows x 13 columns]"
            ]
          },
          "metadata": {
            "tags": []
          },
          "execution_count": 4
        }
      ]
    },
    {
      "cell_type": "markdown",
      "metadata": {
        "id": "AOcgIxQ6px5D"
      },
      "source": [
        "\n",
        "\n",
        "> A base de dados contém 16.588.25 sentenças com 13 atributos respectivamente.\n",
        "\n",
        "\n",
        "\n",
        "\n",
        "\n"
      ]
    },
    {
      "cell_type": "markdown",
      "metadata": {
        "id": "9H85nEMasCBS"
      },
      "source": [
        "## 1.1 Frequência dos Idiomas\n",
        "* Quantidade e porcentagem do total de idiomas identificados nos Tweets"
      ]
    },
    {
      "cell_type": "code",
      "metadata": {
        "id": "rLL4CsL9sAgB",
        "outputId": "c9de93af-697a-46da-fdd0-a04523c0679b",
        "colab": {
          "base_uri": "https://localhost:8080/",
          "height": 200
        }
      },
      "source": [
        "frequency_languages = data['idioma'].value_counts()\n",
        "frequency_languages = frequency_languages.to_frame()\n",
        "\n",
        "percents_of_freq = []\n",
        "for i in frequency_languages['idioma']:\n",
        "    percents_of_freq.append(round(float((i/data.shape[0])*100),4))\n",
        "    \n",
        "frequency_languages['porcentagem'] = percents_of_freq\n",
        "frequency_languages.columns = ['quantidade','porcentagem']\n",
        "frequency_languages.head()"
      ],
      "execution_count": null,
      "outputs": [
        {
          "output_type": "execute_result",
          "data": {
            "text/html": [
              "<div>\n",
              "<style scoped>\n",
              "    .dataframe tbody tr th:only-of-type {\n",
              "        vertical-align: middle;\n",
              "    }\n",
              "\n",
              "    .dataframe tbody tr th {\n",
              "        vertical-align: top;\n",
              "    }\n",
              "\n",
              "    .dataframe thead th {\n",
              "        text-align: right;\n",
              "    }\n",
              "</style>\n",
              "<table border=\"1\" class=\"dataframe\">\n",
              "  <thead>\n",
              "    <tr style=\"text-align: right;\">\n",
              "      <th></th>\n",
              "      <th>quantidade</th>\n",
              "      <th>porcentagem</th>\n",
              "    </tr>\n",
              "  </thead>\n",
              "  <tbody>\n",
              "    <tr>\n",
              "      <th>pt</th>\n",
              "      <td>1586796</td>\n",
              "      <td>95.6578</td>\n",
              "    </tr>\n",
              "    <tr>\n",
              "      <th>en</th>\n",
              "      <td>23991</td>\n",
              "      <td>1.4463</td>\n",
              "    </tr>\n",
              "    <tr>\n",
              "      <th>es</th>\n",
              "      <td>14255</td>\n",
              "      <td>0.8593</td>\n",
              "    </tr>\n",
              "    <tr>\n",
              "      <th>it</th>\n",
              "      <td>6480</td>\n",
              "      <td>0.3906</td>\n",
              "    </tr>\n",
              "    <tr>\n",
              "      <th>und</th>\n",
              "      <td>5656</td>\n",
              "      <td>0.3410</td>\n",
              "    </tr>\n",
              "  </tbody>\n",
              "</table>\n",
              "</div>"
            ],
            "text/plain": [
              "     quantidade  porcentagem\n",
              "pt      1586796      95.6578\n",
              "en        23991       1.4463\n",
              "es        14255       0.8593\n",
              "it         6480       0.3906\n",
              "und        5656       0.3410"
            ]
          },
          "metadata": {
            "tags": []
          },
          "execution_count": 2
        }
      ]
    },
    {
      "cell_type": "markdown",
      "metadata": {
        "id": "P3A3FzQSO4gU"
      },
      "source": [
        "##  1.2 Evolução do número de tweets "
      ]
    },
    {
      "cell_type": "code",
      "metadata": {
        "id": "M_Q-A-r48R4X",
        "outputId": "fa39ec2b-3745-4d28-91f1-aeb9de5a3eef",
        "colab": {
          "base_uri": "https://localhost:8080/",
          "height": 233
        }
      },
      "source": [
        "# Criação de uma coluna para agrupar tweets de forma diária\n",
        "data['data_inversa'] = pd.to_datetime(data['data'],yearfirst=True, format='%Y-%m-%d')\n",
        "# Agrupar os dados com base na nova coluna, criando um dataframe com os dados agrupados\n",
        "dados_sumario = data['data_inversa'].groupby(data['data_inversa'].dt.to_period('D')).agg('count').to_frame()\n",
        "data = data.drop(columns=['data_inversa'])\n",
        "# Criar coluna para contagem de tweets\n",
        "dados_sumario.columns = ['cont_tweets']\n",
        "# Mostrar os primeiros registros do dataframe de valores agregados por dia\n",
        "dados_sumario.head(5)"
      ],
      "execution_count": 10,
      "outputs": [
        {
          "output_type": "execute_result",
          "data": {
            "text/html": [
              "<div>\n",
              "<style scoped>\n",
              "    .dataframe tbody tr th:only-of-type {\n",
              "        vertical-align: middle;\n",
              "    }\n",
              "\n",
              "    .dataframe tbody tr th {\n",
              "        vertical-align: top;\n",
              "    }\n",
              "\n",
              "    .dataframe thead th {\n",
              "        text-align: right;\n",
              "    }\n",
              "</style>\n",
              "<table border=\"1\" class=\"dataframe\">\n",
              "  <thead>\n",
              "    <tr style=\"text-align: right;\">\n",
              "      <th></th>\n",
              "      <th>cont_tweets</th>\n",
              "    </tr>\n",
              "    <tr>\n",
              "      <th>data_inversa</th>\n",
              "      <th></th>\n",
              "    </tr>\n",
              "  </thead>\n",
              "  <tbody>\n",
              "    <tr>\n",
              "      <th>2020-01-01</th>\n",
              "      <td>28</td>\n",
              "    </tr>\n",
              "    <tr>\n",
              "      <th>2020-01-02</th>\n",
              "      <td>70</td>\n",
              "    </tr>\n",
              "    <tr>\n",
              "      <th>2020-01-03</th>\n",
              "      <td>71</td>\n",
              "    </tr>\n",
              "    <tr>\n",
              "      <th>2020-01-04</th>\n",
              "      <td>79</td>\n",
              "    </tr>\n",
              "    <tr>\n",
              "      <th>2020-01-05</th>\n",
              "      <td>69</td>\n",
              "    </tr>\n",
              "  </tbody>\n",
              "</table>\n",
              "</div>"
            ],
            "text/plain": [
              "              cont_tweets\n",
              "data_inversa             \n",
              "2020-01-01             28\n",
              "2020-01-02             70\n",
              "2020-01-03             71\n",
              "2020-01-04             79\n",
              "2020-01-05             69"
            ]
          },
          "metadata": {
            "tags": []
          },
          "execution_count": 10
        }
      ]
    },
    {
      "cell_type": "code",
      "metadata": {
        "id": "uiEVUPHmL4og",
        "outputId": "af97744b-4190-4a4b-83b0-54ed18c60b90",
        "colab": {
          "base_uri": "https://localhost:8080/",
          "height": 351
        }
      },
      "source": [
        "dados_sumario.plot(figsize=(12,5))"
      ],
      "execution_count": null,
      "outputs": [
        {
          "output_type": "execute_result",
          "data": {
            "text/plain": [
              "<matplotlib.axes._subplots.AxesSubplot at 0x7fb362b66898>"
            ]
          },
          "metadata": {
            "tags": []
          },
          "execution_count": 4
        },
        {
          "output_type": "display_data",
          "data": {
            "image/png": "[encoded data removed]",
            "text/plain": [
              "<Figure size 864x360 with 1 Axes>"
            ]
          },
          "metadata": {
            "tags": [],
            "needs_background": "light"
          }
        }
      ]
    },
    {
      "cell_type": "code",
      "metadata": {
        "id": "ClBbWdAht8-s",
        "outputId": "a262b6c8-37b4-4a23-e318-95389cc21198",
        "colab": {
          "base_uri": "https://localhost:8080/",
          "height": 248
        }
      },
      "source": [
        "data.head(2)"
      ],
      "execution_count": null,
      "outputs": [
        {
          "output_type": "execute_result",
          "data": {
            "text/html": [
              "<div>\n",
              "<style scoped>\n",
              "    .dataframe tbody tr th:only-of-type {\n",
              "        vertical-align: middle;\n",
              "    }\n",
              "\n",
              "    .dataframe tbody tr th {\n",
              "        vertical-align: top;\n",
              "    }\n",
              "\n",
              "    .dataframe thead th {\n",
              "        text-align: right;\n",
              "    }\n",
              "</style>\n",
              "<table border=\"1\" class=\"dataframe\">\n",
              "  <thead>\n",
              "    <tr style=\"text-align: right;\">\n",
              "      <th></th>\n",
              "      <th>data</th>\n",
              "      <th>usuario</th>\n",
              "      <th>apelido</th>\n",
              "      <th>texto</th>\n",
              "      <th>retweet</th>\n",
              "      <th>seguidores</th>\n",
              "      <th>idioma</th>\n",
              "      <th>lugar</th>\n",
              "      <th>pais</th>\n",
              "      <th>sigla</th>\n",
              "      <th>latitude</th>\n",
              "      <th>longitude</th>\n",
              "      <th>hashtags</th>\n",
              "    </tr>\n",
              "  </thead>\n",
              "  <tbody>\n",
              "    <tr>\n",
              "      <th>0</th>\n",
              "      <td>2020-03-23 18:51:14</td>\n",
              "      <td>Gaboardi</td>\n",
              "      <td>fraslee</td>\n",
              "      <td>@BolsonaroSP Cade o fundão deputado??? Congres...</td>\n",
              "      <td>0</td>\n",
              "      <td>138</td>\n",
              "      <td>pt</td>\n",
              "      <td>NaN</td>\n",
              "      <td>NaN</td>\n",
              "      <td>NaN</td>\n",
              "      <td>NaN</td>\n",
              "      <td>NaN</td>\n",
              "      <td>[]</td>\n",
              "    </tr>\n",
              "    <tr>\n",
              "      <th>1</th>\n",
              "      <td>2020-03-18 03:18:14</td>\n",
              "      <td>Seu Zé da Farmácia</td>\n",
              "      <td>seuzedafarmacia</td>\n",
              "      <td>Em ação preventiva, o Governo do Estado suspen...</td>\n",
              "      <td>0</td>\n",
              "      <td>56</td>\n",
              "      <td>pt</td>\n",
              "      <td>NaN</td>\n",
              "      <td>NaN</td>\n",
              "      <td>NaN</td>\n",
              "      <td>NaN</td>\n",
              "      <td>NaN</td>\n",
              "      <td>[]</td>\n",
              "    </tr>\n",
              "  </tbody>\n",
              "</table>\n",
              "</div>"
            ],
            "text/plain": [
              "                  data             usuario  ... longitude hashtags\n",
              "0  2020-03-23 18:51:14            Gaboardi  ...       NaN       []\n",
              "1  2020-03-18 03:18:14  Seu Zé da Farmácia  ...       NaN       []\n",
              "\n",
              "[2 rows x 13 columns]"
            ]
          },
          "metadata": {
            "tags": []
          },
          "execution_count": 5
        }
      ]
    },
    {
      "cell_type": "markdown",
      "metadata": {
        "id": "1LxZIOtu7kkF"
      },
      "source": [
        "## 1.3 Rank de quantidade de Tweets por Cidade"
      ]
    },
    {
      "cell_type": "markdown",
      "metadata": {
        "id": "cxKzczCHeG2Y"
      },
      "source": [
        "* Selecionar as 10 primeiras cidades para exibição em um gráfico (dos tweets que possuiam essa informacao de local)"
      ]
    },
    {
      "cell_type": "code",
      "metadata": {
        "id": "3KD8WO6W7j1u"
      },
      "source": [
        "dados_cidades = data['lugar'].groupby(data['lugar']).agg('count').to_frame()\n",
        "dados_cidades.columns = ['cont_tweets']\n",
        "\n",
        "dados_cidades = dados_cidades.sort_values(['cont_tweets','lugar'], ascending=False)"
      ],
      "execution_count": null,
      "outputs": []
    },
    {
      "cell_type": "code",
      "metadata": {
        "id": "Ngi2jr4s_bLu",
        "outputId": "a932170f-c32d-4712-cb18-4f65b9669d34",
        "colab": {
          "base_uri": "https://localhost:8080/",
          "height": 403
        }
      },
      "source": [
        "dados_cidades = dados_cidades[0:9]\n",
        "dados_cidades.plot(kind= 'bar',figsize=(12,5))"
      ],
      "execution_count": null,
      "outputs": [
        {
          "output_type": "execute_result",
          "data": {
            "text/plain": [
              "<matplotlib.axes._subplots.AxesSubplot at 0x7fb36179f128>"
            ]
          },
          "metadata": {
            "tags": []
          },
          "execution_count": 7
        },
        {
          "output_type": "display_data",
          "data": {
            "image/png": "[encoded data removed]",
            "text/plain": [
              "<Figure size 864x360 with 1 Axes>"
            ]
          },
          "metadata": {
            "tags": [],
            "needs_background": "light"
          }
        }
      ]
    },
    {
      "cell_type": "markdown",
      "metadata": {
        "id": "WyiGiCViC30M"
      },
      "source": [
        "## 1.4 Frequência dos Tweets por horas"
      ]
    },
    {
      "cell_type": "code",
      "metadata": {
        "id": "sSTjpFfNC8Kx"
      },
      "source": [
        "df= data.copy()\n",
        "df.index =  pd.to_datetime(df.data)\n",
        "df = df.drop('data',axis=1)\n",
        "df = df.sort_values(['data'])\n",
        "hours = pd.Series(df.index.hour)\n",
        "hours = pd.Series(hours.value_counts()).sort_index()"
      ],
      "execution_count": null,
      "outputs": []
    },
    {
      "cell_type": "code",
      "metadata": {
        "id": "KsOPV8xjlWyQ",
        "outputId": "39eb8ddd-2f2c-4bbf-8d69-5bffb3011c53",
        "colab": {
          "base_uri": "https://localhost:8080/",
          "height": 279
        }
      },
      "source": [
        "import matplotlib.pyplot as plt\n",
        "from matplotlib.pyplot import figure\n",
        "\n",
        "fig, ax = plt.subplots()\n",
        "x = np.arange(len(hours))\n",
        "y = np.array(hours)\n",
        "\n",
        "dim = 1\n",
        "w = 0.75\n",
        "dimw = w / dim\n",
        "\n",
        "for i in range(0,24):\n",
        "  ax.bar(i,y[i],dimw,bottom=0.001,align='center',color='#00008B')\n",
        "  \n",
        "ax.set_xlabel('Horas')\n",
        "ax.set_ylabel('Quantidade de Tweets')\n",
        "\n",
        "plt.show()"
      ],
      "execution_count": null,
      "outputs": [
        {
          "output_type": "display_data",
          "data": {
            "image/png": "[encoded data removed]",
            "text/plain": [
              "<Figure size 432x288 with 1 Axes>"
            ]
          },
          "metadata": {
            "tags": [],
            "needs_background": "light"
          }
        }
      ]
    },
    {
      "cell_type": "markdown",
      "metadata": {
        "id": "4Ina-rnfC_fy"
      },
      "source": [
        "## 1.5 Retweet por usuários que possuem maior numero de seguidores"
      ]
    },
    {
      "cell_type": "markdown",
      "metadata": {
        "id": "AUeshFdu2r3o"
      },
      "source": [
        "\n",
        "\n",
        "> A relação do usuário com maior numero de seguidores e o usuário com maior numero de retweets não está coerente, seria efeito do bot ?\n",
        "\n"
      ]
    },
    {
      "cell_type": "code",
      "metadata": {
        "id": "jAAwokJxDD5r"
      },
      "source": [
        "# Ranking dos usuários com maior numero de seguidores\n",
        "rank = data.iloc[:,[1,4,5]]\n",
        "rank = rank.groupby('usuario').agg(\n",
        "    max_seguidores = pd.NamedAgg(column='seguidores',aggfunc=max),\n",
        "    total_retweet = pd.NamedAgg(column='retweet',aggfunc=sum)\n",
        ")\n",
        "rank = rank.sort_values(by='max_seguidores',ascending=False)\n",
        "#ranking dos usuarios com maior numero de retweets\n",
        "rank2 = rank.sort_values(by='total_retweet',ascending=False)"
      ],
      "execution_count": null,
      "outputs": []
    },
    {
      "cell_type": "code",
      "metadata": {
        "id": "hHPWYexX0D3d",
        "outputId": "bb0ec7a5-d2e0-4b35-924e-701277aac81b",
        "colab": {
          "base_uri": "https://localhost:8080/",
          "height": 266
        }
      },
      "source": [
        "print(rank[0:5])\n",
        "print(rank2[0:5])"
      ],
      "execution_count": null,
      "outputs": [
        {
          "output_type": "stream",
          "text": [
            "                 max_seguidores  total_retweet\n",
            "usuario                                       \n",
            "Donald J. Trump        84241250          21369\n",
            "Reuters                22098307             46\n",
            "CNN en Español         18878720            161\n",
            "Danilo Gentili         17244348           1936\n",
            "Whindersson 🏠          16969481          16886\n",
            "                    max_seguidores  total_retweet\n",
            "usuario                                          \n",
            "Maryy                          218        1139763\n",
            "My cabbages!!                  737         989485\n",
            "Tr1gger Mike                    43         901093\n",
            "🌹                             2513         887268\n",
            "tweets not loading             765         850226\n"
          ],
          "name": "stdout"
        }
      ]
    },
    {
      "cell_type": "markdown",
      "metadata": {
        "id": "FicrK3QbDUkY"
      },
      "source": [
        "## 1.6 Total de Hashtags nas cidades mais frequentes"
      ]
    },
    {
      "cell_type": "code",
      "metadata": {
        "id": "_x0HOudhDYBr",
        "outputId": "8fb61f5c-3a12-4b62-ff86-dd0cb757aa77",
        "colab": {
          "base_uri": "https://localhost:8080/",
          "height": 382
        }
      },
      "source": [
        "#1 = usuario | 7 = lugar | 12 = hashtags\n",
        "rank = data.iloc[:,[1,7,12]]\n",
        "rank.head(2)\n",
        "\n",
        "# rank = rank.groupby('lugar').agg(\n",
        "#     totalHashtags = pd.NamedAgg(column='hashtags',aggfunc=count)#,\n",
        "#     #total_retweet = pd.NamedAgg(column='hashtags',aggfunc=sum)\n",
        "# )\n",
        "# rank #= rank.sort_values(by='max_seguidores',ascending=False)\n",
        "\n",
        "test = rank.groupby(['lugar', 'usuario'])['hashtags'].count()\n",
        "frame = pd.DataFrame(test)\n",
        "frame = frame.sort_values('hashtags',ascending=False,ignore_index=False)\n",
        "frame = frame.reset_index(level=[0])\n",
        "\n",
        "frame[0:10]"
      ],
      "execution_count": null,
      "outputs": [
        {
          "output_type": "execute_result",
          "data": {
            "text/html": [
              "<div>\n",
              "<style scoped>\n",
              "    .dataframe tbody tr th:only-of-type {\n",
              "        vertical-align: middle;\n",
              "    }\n",
              "\n",
              "    .dataframe tbody tr th {\n",
              "        vertical-align: top;\n",
              "    }\n",
              "\n",
              "    .dataframe thead th {\n",
              "        text-align: right;\n",
              "    }\n",
              "</style>\n",
              "<table border=\"1\" class=\"dataframe\">\n",
              "  <thead>\n",
              "    <tr style=\"text-align: right;\">\n",
              "      <th></th>\n",
              "      <th>lugar</th>\n",
              "      <th>hashtags</th>\n",
              "    </tr>\n",
              "    <tr>\n",
              "      <th>usuario</th>\n",
              "      <th></th>\n",
              "      <th></th>\n",
              "    </tr>\n",
              "  </thead>\n",
              "  <tbody>\n",
              "    <tr>\n",
              "      <th>TSF Rádio</th>\n",
              "      <td>Lisbon</td>\n",
              "      <td>338</td>\n",
              "    </tr>\n",
              "    <tr>\n",
              "      <th>Felipe 🅱️</th>\n",
              "      <td>Rio de Janeiro</td>\n",
              "      <td>205</td>\n",
              "    </tr>\n",
              "    <tr>\n",
              "      <th>Monster3366</th>\n",
              "      <td>Sao Paulo</td>\n",
              "      <td>156</td>\n",
              "    </tr>\n",
              "    <tr>\n",
              "      <th>Guto Menna-Barreto (em 🏚) 🏳️‍🌈</th>\n",
              "      <td>Curitiba</td>\n",
              "      <td>139</td>\n",
              "    </tr>\n",
              "    <tr>\n",
              "      <th>Ana Helena Mofatto 🇧🇷👊💚</th>\n",
              "      <td>Limeira</td>\n",
              "      <td>114</td>\n",
              "    </tr>\n",
              "    <tr>\n",
              "      <th>💙💛💚Débora.B.P.💚💛💙</th>\n",
              "      <td>Sao Paulo</td>\n",
              "      <td>96</td>\n",
              "    </tr>\n",
              "    <tr>\n",
              "      <th>Nelson Carvalheira</th>\n",
              "      <td>Rio de Janeiro</td>\n",
              "      <td>95</td>\n",
              "    </tr>\n",
              "    <tr>\n",
              "      <th>Lr1 | O Liberal Regional</th>\n",
              "      <td>Araçatuba</td>\n",
              "      <td>95</td>\n",
              "    </tr>\n",
              "    <tr>\n",
              "      <th>Emerson Damasceno</th>\n",
              "      <td>Fortaleza</td>\n",
              "      <td>82</td>\n",
              "    </tr>\n",
              "    <tr>\n",
              "      <th>LUCIANO RESENDES ®</th>\n",
              "      <td>Salvador</td>\n",
              "      <td>82</td>\n",
              "    </tr>\n",
              "  </tbody>\n",
              "</table>\n",
              "</div>"
            ],
            "text/plain": [
              "                                         lugar  hashtags\n",
              "usuario                                                 \n",
              "TSF Rádio                               Lisbon       338\n",
              "Felipe 🅱️                       Rio de Janeiro       205\n",
              "Monster3366                          Sao Paulo       156\n",
              "Guto Menna-Barreto (em 🏚) 🏳️‍🌈        Curitiba       139\n",
              "Ana Helena Mofatto 🇧🇷👊💚                Limeira       114\n",
              "💙💛💚Débora.B.P.💚💛💙                    Sao Paulo        96\n",
              "Nelson Carvalheira              Rio de Janeiro        95\n",
              "Lr1 | O Liberal Regional             Araçatuba        95\n",
              "Emerson Damasceno                    Fortaleza        82\n",
              "LUCIANO RESENDES ®                    Salvador        82"
            ]
          },
          "metadata": {
            "tags": []
          },
          "execution_count": 12
        }
      ]
    },
    {
      "cell_type": "code",
      "metadata": {
        "id": "yvi13md3X-fs"
      },
      "source": [
        "popular_tweet_city = ['Rio de Janeiro','Sao Paulo','Brasília','Porto Alegre','Belo Horizonte']\n",
        "total_hastags = []\n",
        "\n",
        "for city in popular_tweet_city:\n",
        "  uf = frame.loc[frame['lugar'] == city]\n",
        "  uf = np.sum(uf['hashtags'])\n",
        "  total_hastags.append(uf)"
      ],
      "execution_count": null,
      "outputs": []
    },
    {
      "cell_type": "code",
      "metadata": {
        "id": "aHd6J15ggX-R",
        "outputId": "3609eba6-fa14-4441-fb30-da31ded43fbf",
        "colab": {
          "base_uri": "https://localhost:8080/",
          "height": 350
        }
      },
      "source": [
        "show = pd.DataFrame([total_hastags], columns=popular_tweet_city)\n",
        "show.plot(kind= 'bar',figsize=(10,5),title='Total de Hashtags nas cidades mais frequentes')"
      ],
      "execution_count": null,
      "outputs": [
        {
          "output_type": "execute_result",
          "data": {
            "text/plain": [
              "<matplotlib.axes._subplots.AxesSubplot at 0x7fb36122da58>"
            ]
          },
          "metadata": {
            "tags": []
          },
          "execution_count": 14
        },
        {
          "output_type": "display_data",
          "data": {
            "image/png": "[encoded data removed]",
            "text/plain": [
              "<Figure size 720x360 with 1 Axes>"
            ]
          },
          "metadata": {
            "tags": [],
            "needs_background": "light"
          }
        }
      ]
    },
    {
      "cell_type": "markdown",
      "metadata": {
        "id": "PRnrX6QU4xm-"
      },
      "source": [
        "# 2 Temas Discutidos"
      ]
    },
    {
      "cell_type": "markdown",
      "metadata": {
        "id": "Urc8q8eCFFwi"
      },
      "source": [
        "*   Identificar os Tweets que contenham perguntas ('?')\n",
        "*   Após separar cada Tweet em sentenças, mantém-se apenas a setença que contenha '?'\n",
        "  *  Remove os Links que foram identificados como possiveis perguntas (talvez contenham '?')\n",
        "*   Remoção de StopWords\n",
        "\n"
      ]
    },
    {
      "cell_type": "markdown",
      "metadata": {
        "id": "h_uoX399enEx"
      },
      "source": [
        "## Gerar duvidasDB\n"
      ]
    },
    {
      "cell_type": "markdown",
      "metadata": {
        "id": "VlBc7Emb_5gw"
      },
      "source": [
        "Criação da base de dados com tweets que tem perguntas ou seja, as que possuem um sinal de interrogação"
      ]
    },
    {
      "cell_type": "code",
      "metadata": {
        "id": "mMYtWucVgSK0"
      },
      "source": [
        "registros_com_duvidas = data.loc[data.texto.str.find('?') >= 0 ]"
      ],
      "execution_count": null,
      "outputs": []
    },
    {
      "cell_type": "markdown",
      "metadata": {
        "id": "qrzp0R4AfC94"
      },
      "source": [
        "Importação de bibliotecas para processamento de linguagem natural para tratamento dos textos dos tweets"
      ]
    },
    {
      "cell_type": "code",
      "metadata": {
        "id": "2fRpcnOlelyc",
        "outputId": "743c4d5d-985b-4587-9e4e-acfce1619bf7",
        "colab": {
          "base_uri": "https://localhost:8080/",
          "height": 138
        }
      },
      "source": [
        "# pip install nltk\n",
        "\n",
        "import nltk\n",
        "\n",
        "from nltk.tokenize import word_tokenize\n",
        "from nltk.tokenize import sent_tokenize\n",
        "# from nltk import sent_tokenize\n",
        "\n",
        "from nltk.corpus import stopwords\n",
        "from string import punctuation\n",
        "\n",
        "nltk.download('punkt')\n",
        "nltk.download('stopwords')\n",
        "nltk.download('mac_morpho')"
      ],
      "execution_count": null,
      "outputs": [
        {
          "output_type": "stream",
          "text": [
            "[nltk_data] Downloading package punkt to /root/nltk_data...\n",
            "[nltk_data]   Unzipping tokenizers/punkt.zip.\n",
            "[nltk_data] Downloading package stopwords to /root/nltk_data...\n",
            "[nltk_data]   Unzipping corpora/stopwords.zip.\n",
            "[nltk_data] Downloading package mac_morpho to /root/nltk_data...\n",
            "[nltk_data]   Unzipping corpora/mac_morpho.zip.\n"
          ],
          "name": "stdout"
        },
        {
          "output_type": "execute_result",
          "data": {
            "text/plain": [
              "True"
            ]
          },
          "metadata": {
            "tags": []
          },
          "execution_count": 3
        }
      ]
    },
    {
      "cell_type": "markdown",
      "metadata": {
        "id": "9081D-OwfFCZ"
      },
      "source": [
        "Gerar a base de dados de dúvidas com as perguntas"
      ]
    },
    {
      "cell_type": "code",
      "metadata": {
        "id": "4Rh-0agqfMOy"
      },
      "source": [
        "import os.path\n",
        "# if que verifica se já existe arquivo de dúvida. Se não existir o arquivo é criado\n",
        "if not os.path.exists('/content/drive/Shared drives/modulo02/duvidasDB.csv'):\n",
        "    # Criando novo DataFrame\n",
        "    duvidasDB = pd.DataFrame()\n",
        "\n",
        "    #Fazendo a iteração:\n",
        "\n",
        "    for index, row in registros_com_duvidas.iterrows():\n",
        "        # extrai o texto contendo a pergunta\n",
        "        texto = registros_com_duvidas.loc[index,'texto']\n",
        "\n",
        "        # separa as sentenças e as palavras\n",
        "        sentencas = sent_tokenize(texto)\n",
        "\n",
        "        # seleciona as stopwords (palavras que não trazem informação relevante) e os sinais de pontuação\n",
        "        sentencas_perguntas = [sentenca for sentenca in sentencas if sentenca.find('?') >= 0]\n",
        "        sentencas_perguntas = [sentenca for sentenca in sentencas_perguntas if not sentenca == '?']\n",
        "\n",
        "        # para cada pergunta será gerada uma linha na Base DúvidasDB, com todos atributos necessários para análise\n",
        "        for i in sentencas_perguntas:\n",
        " \n",
        "           df3 = pd.DataFrame( {'data': [registros_com_duvidas.loc[index,'data']], 'retweet': [registros_com_duvidas.loc[index,'retweet']], 'seguidores':[registros_com_duvidas.loc[index,'seguidores']], \n",
        "                                 'idioma':[registros_com_duvidas.loc[index,'idioma']], 'lugar':[registros_com_duvidas.loc[index,'lugar']],  'pais':[registros_com_duvidas.loc[index,'pais']],\n",
        "                                 'sigla':[registros_com_duvidas.loc[index,'sigla']], 'latitude':[dadosregistros_com_duvidas2.loc[index,'latitude']],  'longitude':[registros_com_duvidas.loc[index,'longitude']],\n",
        "                                 'pergunta': [i]  , 'id_origem': [index] })\n",
        "           duvidasDB = duvidasDB.append(df3)\n",
        "\n",
        "    # A base de dados é gravada em 'DuvidasDB'\n",
        "    duvidasDB.to_csv('/content/drive/Shared drives/modulo02/duvidasDB.csv')\n",
        "\n",
        "# se existir, o arquivo é lido\n",
        "else:\n",
        "   duvidasDB = pd.read_csv('/content/drive/Shared drives/modulo02/duvidasDB.csv')\n",
        "# Fim do if"
      ],
      "execution_count": null,
      "outputs": []
    },
    {
      "cell_type": "markdown",
      "metadata": {
        "id": "wJQIDbYegxvE"
      },
      "source": [
        "Exibição das primeiras linhas da base de perguntas"
      ]
    },
    {
      "cell_type": "code",
      "metadata": {
        "id": "c3k_YX6WguXC",
        "outputId": "fa68d7c7-b93c-417d-c109-bd68a3a70a8a",
        "colab": {
          "base_uri": "https://localhost:8080/",
          "height": 244
        }
      },
      "source": [
        "print(duvidasDB.shape)\n",
        "duvidasDB.head(2)\n"
      ],
      "execution_count": null,
      "outputs": [
        {
          "output_type": "stream",
          "text": [
            "(198258, 12)\n"
          ],
          "name": "stdout"
        },
        {
          "output_type": "execute_result",
          "data": {
            "text/html": [
              "<div>\n",
              "<style scoped>\n",
              "    .dataframe tbody tr th:only-of-type {\n",
              "        vertical-align: middle;\n",
              "    }\n",
              "\n",
              "    .dataframe tbody tr th {\n",
              "        vertical-align: top;\n",
              "    }\n",
              "\n",
              "    .dataframe thead th {\n",
              "        text-align: right;\n",
              "    }\n",
              "</style>\n",
              "<table border=\"1\" class=\"dataframe\">\n",
              "  <thead>\n",
              "    <tr style=\"text-align: right;\">\n",
              "      <th></th>\n",
              "      <th>Unnamed: 0</th>\n",
              "      <th>data</th>\n",
              "      <th>retweet</th>\n",
              "      <th>seguidores</th>\n",
              "      <th>idioma</th>\n",
              "      <th>lugar</th>\n",
              "      <th>pais</th>\n",
              "      <th>sigla</th>\n",
              "      <th>latitude</th>\n",
              "      <th>longitude</th>\n",
              "      <th>pergunta</th>\n",
              "      <th>id_origem</th>\n",
              "    </tr>\n",
              "  </thead>\n",
              "  <tbody>\n",
              "    <tr>\n",
              "      <th>0</th>\n",
              "      <td>0</td>\n",
              "      <td>2020-03-23 18:51:14</td>\n",
              "      <td>0</td>\n",
              "      <td>138</td>\n",
              "      <td>pt</td>\n",
              "      <td>NaN</td>\n",
              "      <td>NaN</td>\n",
              "      <td>NaN</td>\n",
              "      <td>NaN</td>\n",
              "      <td>NaN</td>\n",
              "      <td>@BolsonaroSP Cade o fundão deputado???</td>\n",
              "      <td>0</td>\n",
              "    </tr>\n",
              "    <tr>\n",
              "      <th>1</th>\n",
              "      <td>0</td>\n",
              "      <td>2020-04-01 21:11:07</td>\n",
              "      <td>0</td>\n",
              "      <td>1885</td>\n",
              "      <td>pt</td>\n",
              "      <td>NaN</td>\n",
              "      <td>NaN</td>\n",
              "      <td>NaN</td>\n",
              "      <td>NaN</td>\n",
              "      <td>NaN</td>\n",
              "      <td>Fumaça de cigarro pode propagar coronavírus?</td>\n",
              "      <td>3</td>\n",
              "    </tr>\n",
              "  </tbody>\n",
              "</table>\n",
              "</div>"
            ],
            "text/plain": [
              "   Unnamed: 0  ... id_origem\n",
              "0           0  ...         0\n",
              "1           0  ...         3\n",
              "\n",
              "[2 rows x 12 columns]"
            ]
          },
          "metadata": {
            "tags": []
          },
          "execution_count": 56
        }
      ]
    },
    {
      "cell_type": "markdown",
      "metadata": {
        "id": "XzAO7QfNg_YJ"
      },
      "source": [
        "Exibição do contador da base de parguntas"
      ]
    },
    {
      "cell_type": "code",
      "metadata": {
        "id": "x4s6CaHNg94J"
      },
      "source": [
        "dt = duvidasDB['idioma'].groupby(duvidasDB['idioma']).agg('count').sort_values(ascending=False)\n",
        "dt"
      ],
      "execution_count": null,
      "outputs": []
    },
    {
      "cell_type": "markdown",
      "metadata": {
        "id": "CxFZM7hmF-MW"
      },
      "source": [
        "## Gerar db_cleaned"
      ]
    },
    {
      "cell_type": "markdown",
      "metadata": {
        "id": "OWyQl662UU0a"
      },
      "source": [
        "*   identificar os idiomas en , es, it, fr \n",
        "*   traduzir para >>> pt\n",
        "*   unir a base de dados (ou se ja tiver unido)\n",
        "\n"
      ]
    },
    {
      "cell_type": "code",
      "metadata": {
        "id": "tmV8iFliUT5T",
        "outputId": "3f2f3219-3b1b-4ee2-cacc-9dd81228d270",
        "colab": {
          "base_uri": "https://localhost:8080/",
          "height": 1000
        }
      },
      "source": [
        "!pip install spacy --upgrade\n",
        "!python -m spacy download pt\n",
        "#!python -m spacy download en\n",
        "\n",
        "import pandas as pd\n",
        "import numpy as np\n",
        "import spacy\n",
        "import string\n",
        "import re\n",
        "\n",
        "\n",
        "from google.colab import drive\n",
        "drive.mount('/content/drive')"
      ],
      "execution_count": null,
      "outputs": [
        {
          "output_type": "stream",
          "text": [
            "Collecting spacy\n",
            "\u001b[?25l  Downloading https://files.pythonhosted.org/packages/10/b5/c7a92c7ce5d4b353b70b4b5b4385687206c8b230ddfe08746ab0fd310a3a/spacy-2.3.2-cp36-cp36m-manylinux1_x86_64.whl (9.9MB)\n",
            "\u001b[K     |████████████████████████████████| 10.0MB 7.5MB/s \n",
            "\u001b[?25hRequirement already satisfied, skipping upgrade: plac<1.2.0,>=0.9.6 in /usr/local/lib/python3.6/dist-packages (from spacy) (1.1.3)\n",
            "Requirement already satisfied, skipping upgrade: tqdm<5.0.0,>=4.38.0 in /usr/local/lib/python3.6/dist-packages (from spacy) (4.41.1)\n",
            "Requirement already satisfied, skipping upgrade: catalogue<1.1.0,>=0.0.7 in /usr/local/lib/python3.6/dist-packages (from spacy) (1.0.0)\n",
            "Requirement already satisfied, skipping upgrade: srsly<1.1.0,>=1.0.2 in /usr/local/lib/python3.6/dist-packages (from spacy) (1.0.2)\n",
            "Requirement already satisfied, skipping upgrade: wasabi<1.1.0,>=0.4.0 in /usr/local/lib/python3.6/dist-packages (from spacy) (0.8.0)\n",
            "Requirement already satisfied, skipping upgrade: blis<0.5.0,>=0.4.0 in /usr/local/lib/python3.6/dist-packages (from spacy) (0.4.1)\n",
            "Collecting thinc==7.4.1\n",
            "\u001b[?25l  Downloading https://files.pythonhosted.org/packages/10/ae/ef3ae5e93639c0ef8e3eb32e3c18341e511b3c515fcfc603f4b808087651/thinc-7.4.1-cp36-cp36m-manylinux1_x86_64.whl (2.1MB)\n",
            "\u001b[K     |████████████████████████████████| 2.1MB 46.9MB/s \n",
            "\u001b[?25hRequirement already satisfied, skipping upgrade: setuptools in /usr/local/lib/python3.6/dist-packages (from spacy) (50.3.0)\n",
            "Requirement already satisfied, skipping upgrade: numpy>=1.15.0 in /usr/local/lib/python3.6/dist-packages (from spacy) (1.18.5)\n",
            "Requirement already satisfied, skipping upgrade: requests<3.0.0,>=2.13.0 in /usr/local/lib/python3.6/dist-packages (from spacy) (2.23.0)\n",
            "Requirement already satisfied, skipping upgrade: preshed<3.1.0,>=3.0.2 in /usr/local/lib/python3.6/dist-packages (from spacy) (3.0.2)\n",
            "Requirement already satisfied, skipping upgrade: murmurhash<1.1.0,>=0.28.0 in /usr/local/lib/python3.6/dist-packages (from spacy) (1.0.2)\n",
            "Requirement already satisfied, skipping upgrade: cymem<2.1.0,>=2.0.2 in /usr/local/lib/python3.6/dist-packages (from spacy) (2.0.3)\n",
            "Requirement already satisfied, skipping upgrade: importlib-metadata>=0.20; python_version < \"3.8\" in /usr/local/lib/python3.6/dist-packages (from catalogue<1.1.0,>=0.0.7->spacy) (2.0.0)\n",
            "Requirement already satisfied, skipping upgrade: certifi>=2017.4.17 in /usr/local/lib/python3.6/dist-packages (from requests<3.0.0,>=2.13.0->spacy) (2020.6.20)\n",
            "Requirement already satisfied, skipping upgrade: chardet<4,>=3.0.2 in /usr/local/lib/python3.6/dist-packages (from requests<3.0.0,>=2.13.0->spacy) (3.0.4)\n",
            "Requirement already satisfied, skipping upgrade: urllib3!=1.25.0,!=1.25.1,<1.26,>=1.21.1 in /usr/local/lib/python3.6/dist-packages (from requests<3.0.0,>=2.13.0->spacy) (1.24.3)\n",
            "Requirement already satisfied, skipping upgrade: idna<3,>=2.5 in /usr/local/lib/python3.6/dist-packages (from requests<3.0.0,>=2.13.0->spacy) (2.10)\n",
            "Requirement already satisfied, skipping upgrade: zipp>=0.5 in /usr/local/lib/python3.6/dist-packages (from importlib-metadata>=0.20; python_version < \"3.8\"->catalogue<1.1.0,>=0.0.7->spacy) (3.2.0)\n",
            "Installing collected packages: thinc, spacy\n",
            "  Found existing installation: thinc 7.4.0\n",
            "    Uninstalling thinc-7.4.0:\n",
            "      Successfully uninstalled thinc-7.4.0\n",
            "  Found existing installation: spacy 2.2.4\n",
            "    Uninstalling spacy-2.2.4:\n",
            "      Successfully uninstalled spacy-2.2.4\n",
            "Successfully installed spacy-2.3.2 thinc-7.4.1\n",
            "Collecting pt_core_news_sm==2.3.0\n",
            "\u001b[?25l  Downloading https://github.com/explosion/spacy-models/releases/download/pt_core_news_sm-2.3.0/pt_core_news_sm-2.3.0.tar.gz (19.6MB)\n",
            "\u001b[K     |████████████████████████████████| 19.6MB 1.2MB/s \n",
            "\u001b[?25hRequirement already satisfied: spacy<2.4.0,>=2.3.0 in /usr/local/lib/python3.6/dist-packages (from pt_core_news_sm==2.3.0) (2.3.2)\n",
            "Requirement already satisfied: srsly<1.1.0,>=1.0.2 in /usr/local/lib/python3.6/dist-packages (from spacy<2.4.0,>=2.3.0->pt_core_news_sm==2.3.0) (1.0.2)\n",
            "Requirement already satisfied: plac<1.2.0,>=0.9.6 in /usr/local/lib/python3.6/dist-packages (from spacy<2.4.0,>=2.3.0->pt_core_news_sm==2.3.0) (1.1.3)\n",
            "Requirement already satisfied: catalogue<1.1.0,>=0.0.7 in /usr/local/lib/python3.6/dist-packages (from spacy<2.4.0,>=2.3.0->pt_core_news_sm==2.3.0) (1.0.0)\n",
            "Requirement already satisfied: tqdm<5.0.0,>=4.38.0 in /usr/local/lib/python3.6/dist-packages (from spacy<2.4.0,>=2.3.0->pt_core_news_sm==2.3.0) (4.41.1)\n",
            "Requirement already satisfied: requests<3.0.0,>=2.13.0 in /usr/local/lib/python3.6/dist-packages (from spacy<2.4.0,>=2.3.0->pt_core_news_sm==2.3.0) (2.23.0)\n",
            "Requirement already satisfied: wasabi<1.1.0,>=0.4.0 in /usr/local/lib/python3.6/dist-packages (from spacy<2.4.0,>=2.3.0->pt_core_news_sm==2.3.0) (0.8.0)\n",
            "Requirement already satisfied: thinc==7.4.1 in /usr/local/lib/python3.6/dist-packages (from spacy<2.4.0,>=2.3.0->pt_core_news_sm==2.3.0) (7.4.1)\n",
            "Requirement already satisfied: blis<0.5.0,>=0.4.0 in /usr/local/lib/python3.6/dist-packages (from spacy<2.4.0,>=2.3.0->pt_core_news_sm==2.3.0) (0.4.1)\n",
            "Requirement already satisfied: setuptools in /usr/local/lib/python3.6/dist-packages (from spacy<2.4.0,>=2.3.0->pt_core_news_sm==2.3.0) (50.3.0)\n",
            "Requirement already satisfied: cymem<2.1.0,>=2.0.2 in /usr/local/lib/python3.6/dist-packages (from spacy<2.4.0,>=2.3.0->pt_core_news_sm==2.3.0) (2.0.3)\n",
            "Requirement already satisfied: numpy>=1.15.0 in /usr/local/lib/python3.6/dist-packages (from spacy<2.4.0,>=2.3.0->pt_core_news_sm==2.3.0) (1.18.5)\n",
            "Requirement already satisfied: preshed<3.1.0,>=3.0.2 in /usr/local/lib/python3.6/dist-packages (from spacy<2.4.0,>=2.3.0->pt_core_news_sm==2.3.0) (3.0.2)\n",
            "Requirement already satisfied: murmurhash<1.1.0,>=0.28.0 in /usr/local/lib/python3.6/dist-packages (from spacy<2.4.0,>=2.3.0->pt_core_news_sm==2.3.0) (1.0.2)\n",
            "Requirement already satisfied: importlib-metadata>=0.20; python_version < \"3.8\" in /usr/local/lib/python3.6/dist-packages (from catalogue<1.1.0,>=0.0.7->spacy<2.4.0,>=2.3.0->pt_core_news_sm==2.3.0) (2.0.0)\n",
            "Requirement already satisfied: idna<3,>=2.5 in /usr/local/lib/python3.6/dist-packages (from requests<3.0.0,>=2.13.0->spacy<2.4.0,>=2.3.0->pt_core_news_sm==2.3.0) (2.10)\n",
            "Requirement already satisfied: chardet<4,>=3.0.2 in /usr/local/lib/python3.6/dist-packages (from requests<3.0.0,>=2.13.0->spacy<2.4.0,>=2.3.0->pt_core_news_sm==2.3.0) (3.0.4)\n",
            "Requirement already satisfied: certifi>=2017.4.17 in /usr/local/lib/python3.6/dist-packages (from requests<3.0.0,>=2.13.0->spacy<2.4.0,>=2.3.0->pt_core_news_sm==2.3.0) (2020.6.20)\n",
            "Requirement already satisfied: urllib3!=1.25.0,!=1.25.1,<1.26,>=1.21.1 in /usr/local/lib/python3.6/dist-packages (from requests<3.0.0,>=2.13.0->spacy<2.4.0,>=2.3.0->pt_core_news_sm==2.3.0) (1.24.3)\n",
            "Requirement already satisfied: zipp>=0.5 in /usr/local/lib/python3.6/dist-packages (from importlib-metadata>=0.20; python_version < \"3.8\"->catalogue<1.1.0,>=0.0.7->spacy<2.4.0,>=2.3.0->pt_core_news_sm==2.3.0) (3.2.0)\n",
            "Building wheels for collected packages: pt-core-news-sm\n",
            "  Building wheel for pt-core-news-sm (setup.py) ... \u001b[?25l\u001b[?25hdone\n",
            "  Created wheel for pt-core-news-sm: filename=pt_core_news_sm-2.3.0-cp36-none-any.whl size=19557499 sha256=c3d9621192b843e53c7f9646c9ab7f93aacdb0c86b4f924d9c5bdfd4159ce52f\n",
            "  Stored in directory: /tmp/pip-ephem-wheel-cache-wvi2351m/wheels/f6/43/f6/949b5e2b48df37aa3ed81fc3f4af4154afa276518cc004b990\n",
            "Successfully built pt-core-news-sm\n",
            "Installing collected packages: pt-core-news-sm\n",
            "Successfully installed pt-core-news-sm-2.3.0\n",
            "\u001b[38;5;2m✔ Download and installation successful\u001b[0m\n",
            "You can now load the model via spacy.load('pt_core_news_sm')\n",
            "\u001b[38;5;2m✔ Linking successful\u001b[0m\n",
            "/usr/local/lib/python3.6/dist-packages/pt_core_news_sm -->\n",
            "/usr/local/lib/python3.6/dist-packages/spacy/data/pt\n",
            "You can now load the model via spacy.load('pt')\n",
            "Mounted at /content/drive\n"
          ],
          "name": "stdout"
        }
      ]
    },
    {
      "cell_type": "code",
      "metadata": {
        "id": "AuBOfP1TGVNi",
        "outputId": "20b632c2-99ef-4401-bc4d-63f18cdaf30f",
        "colab": {
          "base_uri": "https://localhost:8080/",
          "height": 34
        }
      },
      "source": [
        "import os.path \n",
        "\n",
        "if not os.path.exists('/content/drive/Shared drives/modulo02/duvidasDB_cleaned2.csv'):\n",
        "  data = pd.read_csv('/content/drive/Shared drives/modulo02/duvidasDB.csv')\n",
        "  dt_texto = data.iloc[:,[4,10]]\n",
        "  dt_texto.columns = ['idioma','texto']\n",
        "else:\n",
        "  print('existo')"
      ],
      "execution_count": 5,
      "outputs": [
        {
          "output_type": "stream",
          "text": [
            "existo\n"
          ],
          "name": "stdout"
        }
      ]
    },
    {
      "cell_type": "code",
      "metadata": {
        "id": "McSgRU3idTAl",
        "outputId": "2efbc23b-5478-4d27-daa0-f14a996053b9",
        "colab": {
          "base_uri": "https://localhost:8080/",
          "height": 34
        }
      },
      "source": [
        " data = pd.read_csv('/content/drive/Shared drives/modulo02/duvidasDB.csv')\n",
        " data.shape"
      ],
      "execution_count": null,
      "outputs": [
        {
          "output_type": "execute_result",
          "data": {
            "text/plain": [
              "(198258, 12)"
            ]
          },
          "metadata": {
            "tags": []
          },
          "execution_count": 49
        }
      ]
    },
    {
      "cell_type": "code",
      "metadata": {
        "id": "jytLhbeJaCZ4",
        "outputId": "5adaf598-d89a-42ac-d678-6ae0b33041da",
        "colab": {
          "base_uri": "https://localhost:8080/",
          "height": 266
        }
      },
      "source": [
        "dt_texto.head(7)"
      ],
      "execution_count": null,
      "outputs": [
        {
          "output_type": "execute_result",
          "data": {
            "text/html": [
              "<div>\n",
              "<style scoped>\n",
              "    .dataframe tbody tr th:only-of-type {\n",
              "        vertical-align: middle;\n",
              "    }\n",
              "\n",
              "    .dataframe tbody tr th {\n",
              "        vertical-align: top;\n",
              "    }\n",
              "\n",
              "    .dataframe thead th {\n",
              "        text-align: right;\n",
              "    }\n",
              "</style>\n",
              "<table border=\"1\" class=\"dataframe\">\n",
              "  <thead>\n",
              "    <tr style=\"text-align: right;\">\n",
              "      <th></th>\n",
              "      <th>idioma</th>\n",
              "      <th>texto</th>\n",
              "    </tr>\n",
              "  </thead>\n",
              "  <tbody>\n",
              "    <tr>\n",
              "      <th>0</th>\n",
              "      <td>pt</td>\n",
              "      <td>@BolsonaroSP Cade o fundão deputado???</td>\n",
              "    </tr>\n",
              "    <tr>\n",
              "      <th>1</th>\n",
              "      <td>pt</td>\n",
              "      <td>Fumaça de cigarro pode propagar coronavírus?</td>\n",
              "    </tr>\n",
              "    <tr>\n",
              "      <th>2</th>\n",
              "      <td>pt</td>\n",
              "      <td>@ipratesMD @dr_pampers Será que corremos o ris...</td>\n",
              "    </tr>\n",
              "    <tr>\n",
              "      <th>3</th>\n",
              "      <td>pt</td>\n",
              "      <td>Prioridade ?!</td>\n",
              "    </tr>\n",
              "    <tr>\n",
              "      <th>4</th>\n",
              "      <td>pt</td>\n",
              "      <td>Que tal uma notícia boa, indo na contramão do ...</td>\n",
              "    </tr>\n",
              "    <tr>\n",
              "      <th>5</th>\n",
              "      <td>pt</td>\n",
              "      <td>@JoseMedeirosMT Seria isso algum tipo aleatóri...</td>\n",
              "    </tr>\n",
              "    <tr>\n",
              "      <th>6</th>\n",
              "      <td>pt</td>\n",
              "      <td>\"Nova York é o novo epicentro da pandemia de c...</td>\n",
              "    </tr>\n",
              "  </tbody>\n",
              "</table>\n",
              "</div>"
            ],
            "text/plain": [
              "  idioma                                              texto\n",
              "0     pt             @BolsonaroSP Cade o fundão deputado???\n",
              "1     pt       Fumaça de cigarro pode propagar coronavírus?\n",
              "2     pt  @ipratesMD @dr_pampers Será que corremos o ris...\n",
              "3     pt                                      Prioridade ?!\n",
              "4     pt  Que tal uma notícia boa, indo na contramão do ...\n",
              "5     pt  @JoseMedeirosMT Seria isso algum tipo aleatóri...\n",
              "6     pt  \"Nova York é o novo epicentro da pandemia de c..."
            ]
          },
          "metadata": {
            "tags": []
          },
          "execution_count": 62
        }
      ]
    },
    {
      "cell_type": "code",
      "metadata": {
        "id": "mjfbYqeGX53W",
        "outputId": "f0e0b947-cb45-4b56-bb96-8cfc6984aeb0",
        "colab": {
          "base_uri": "https://localhost:8080/",
          "height": 153
        }
      },
      "source": [
        "! pip install TextBlob\n",
        "from textblob import TextBlob\n",
        "import string\n",
        "import nltk \n",
        "\n",
        "nltk.download('stopwords')\n",
        "nltk.download('punkt')"
      ],
      "execution_count": null,
      "outputs": [
        {
          "output_type": "stream",
          "text": [
            "Requirement already satisfied: TextBlob in /usr/local/lib/python3.6/dist-packages (0.15.3)\n",
            "Requirement already satisfied: nltk>=3.1 in /usr/local/lib/python3.6/dist-packages (from TextBlob) (3.2.5)\n",
            "Requirement already satisfied: six in /usr/local/lib/python3.6/dist-packages (from nltk>=3.1->TextBlob) (1.15.0)\n",
            "[nltk_data] Downloading package stopwords to /root/nltk_data...\n",
            "[nltk_data]   Package stopwords is already up-to-date!\n",
            "[nltk_data] Downloading package punkt to /root/nltk_data...\n",
            "[nltk_data]   Package punkt is already up-to-date!\n"
          ],
          "name": "stdout"
        },
        {
          "output_type": "execute_result",
          "data": {
            "text/plain": [
              "True"
            ]
          },
          "metadata": {
            "tags": []
          },
          "execution_count": 6
        }
      ]
    },
    {
      "cell_type": "code",
      "metadata": {
        "id": "90srAvXcHE0W"
      },
      "source": [
        "stopwords = nltk.corpus.stopwords.words('portuguese')\n",
        "pln = spacy.load('pt')\n",
        "\n",
        "def deEmojify(inputString):\n",
        "    return inputString.encode('ascii', 'ignore').decode('ascii')\n",
        "\n",
        "def preprocess(texto):\n",
        "  # Letras minúsculas\n",
        "  texto = texto.lower()\n",
        "  # Nome do usuário\n",
        "  texto = re.sub(r\"@[A-Za-z0-9$-_@.&+]+\", ' ', texto)\n",
        "  # Hashtags\n",
        "  texto = re.sub(r\"\\#[A-Za-z0-9$-_@.&+]+\", ' ', texto)\n",
        "  # Remove Emojis\n",
        "  texto = deEmojify(texto)\n",
        "  # URLs\n",
        "  texto = re.sub(r\"https?://[A-Za-z0-9./]+\", ' ', texto)\n",
        "  # Removendo números\n",
        "  texto = re.sub(\"[A-Za-z0-9$-_@.&+]\\d[A-Za-z0-9$-_@.&+]+\", '', texto)\n",
        "  # Aspas duplas e simples\n",
        "  texto = re.sub(r'\"' , \" \", texto);\n",
        "  texto = re.sub(r\"'\" , \" \", texto);\n",
        "  # Remove \\n , #hastags\n",
        "  texto = re.sub(\"\\\\n\", '', texto)\n",
        "  texto = re.sub(\"#[A-Za-z0-9$-_@.&+]+\", ' ', texto)\n",
        "  # Remove ... \n",
        "  texto = re.sub(\"\\...\",' ',texto)\n",
        "  #Tira o pq , ngm , eh , q, cadê, pf\n",
        "  slangs = ['pq','ngm','eh','oq','q','cadê','cade','pf','vcs','vc','voc','cê','né','ne','neh','ne','kd','sr','aki','hein']\n",
        "  slangs.extend(['pra','pro','ir','ser','n','j','t','s','u','m','ta','to','ja','est','aq','etc','oii','pr','agr','crl','hit','tero','rea','cqc'])\n",
        "  \n",
        "  for word in slangs:\n",
        "    p1 = \"[\\s$-_@.&+]\"\n",
        "    p3 = \"[\\s$-_@.&+]\"\n",
        "    command = \"\".join([p1,word,p3])\n",
        "    texto = re.sub(command, ' ', texto)\n",
        "\n",
        "  # Remove kakakaka\n",
        "  texto = re.sub(\"\\w(ka)k\\w+\",' ',texto)\n",
        "  # Troca coronavrus,covi,covid >>> coronavirus ; mdico >>> médico\n",
        "  texto = re.sub(\"[\\s$-_@&]coronavrus[\\s$-_@&]\",\" coronavirus \",texto)\n",
        "  texto = re.sub(\"[\\s$-_@&]covi[\\s$-_@&]\",\" coronavirus \",texto)\n",
        "  texto = re.sub(\"[\\s$-_@&]covid[\\s$-_@&]\",\" coronavirus \",texto)\n",
        "  texto = re.sub(\"[\\s$-_@&]corona vírus[\\s$-_@&]\",' coronavirus ',texto)\n",
        "  texto = re.sub(\"[\\s$-_@&]corona virus[\\s$-_@&]\",' coronavirus ',texto)\n",
        "  texto = re.sub(\"[\\s$-_@&]corona[\\s$-_@&]\",\" coronavirus \",texto)\n",
        "  texto = re.sub(\"[\\s$-_@&]mdico[\\s$-_@&]\",\" médico \",texto)\n",
        "  texto = re.sub(\"[\\s$-_@&]remdio[\\s$-_@&]\",\" remédio \",texto)\n",
        "  texto = re.sub(\"[\\s$-_@&]vrus[\\s$-_@&]\",\" virus \",texto)\n",
        "  texto = re.sub(\"[\\s$-_@&]sade[\\s$-_@&]\",\" saude \",texto)\n",
        "  texto = re.sub(\"[\\s$-_@&]ministrar[\\s$-_@&]\",\" ministro \",texto)\n",
        "  texto = re.sub(\"[\\s$-_@&]ministrio[\\s$-_@&]\",\" ministro \",texto)\n",
        "  texto = re.sub(\"[\\s$-_@&]fumaa[\\s$-_@&]\",\" fumar \",texto)\n",
        "  texto = re.sub(\"[\\s$-_@&]sr[\\s$-_@&]\",\" senhor \",texto)\n",
        "  texto = re.sub(\"[\\s$-_@&]critrio[\\s$-_@&]\",\" criterio \",texto)\n",
        "  texto = re.sub(\"[\\s$-_@&]bozonaro[\\s$-_@&]\",\" bolsonaro \",texto)\n",
        "  texto = re.sub(\"[\\s$-_@&]boso[\\s$-_@&]\",\" bolsonaro \",texto)\n",
        "  texto = re.sub(\"[\\s$-_@&]bozo[\\s$-_@&]\",\" bolsonaro \",texto)\n",
        "  #espaco em branco\n",
        "  texto = re.sub(r\" +\",' ', texto)\n",
        "\n",
        "  return texto\n",
        "\n",
        "def preprocess_lemma(texto):\n",
        "  #remove ?\n",
        "  texto = re.sub(r\"\\?r?\",'', texto)\n",
        "\n",
        "  # Lematização\n",
        "  documento = pln(texto)\n",
        "  \n",
        "  lista = []\n",
        "  for token in documento:\n",
        "    if str(token) not in stopwords:\n",
        "      lista.append(token.lemma_)\n",
        "    \n",
        "  # Stop words e pontuações\n",
        "  lista = [palavra for palavra in lista if palavra not in string.punctuation and palavra not in stopwords]\n",
        "  lista = ' '.join([str(elemento) for elemento in lista if not elemento.isdigit()])\n",
        "  \n",
        "  return lista\n"
      ],
      "execution_count": null,
      "outputs": []
    },
    {
      "cell_type": "code",
      "metadata": {
        "id": "nJDTpKvgJA9N"
      },
      "source": [
        "questions = list()\n",
        "# Seleciona-se a coluna e 'texto'\n",
        "dt_auxiliar = dt_texto.iloc[:,[0,1]]\n",
        "idiomas_aceitaveis = ['pt']#,'en','es']\n",
        "sent_tokenizer=nltk.data.load('tokenizers/punkt/portuguese.pickle')\n",
        "tamanho = dt_auxiliar.shape[0]\n",
        "\n",
        "for i in range(0,tamanho):\n",
        "  print(\"{} do total de {}\".format(i,tamanho))\n",
        "  idioma = dt_auxiliar.iloc[i].idioma\n",
        "  texto = dt_auxiliar.iloc[i].texto\n",
        "\n",
        "  if idioma in idiomas_aceitaveis:\n",
        "    # if idioma != 'pt':\n",
        "    #   texto = preprocess(texto)\n",
        "    #   translated = TextBlob(texto)\n",
        "    #   translated = str(translated.translate(to=\"pt\"))\n",
        "    #   sentences = sent_tokenizer.tokenize(translated)\n",
        "\n",
        "    # else:\n",
        "      sentences = sent_tokenizer.tokenize(dt_auxiliar.iloc[i].texto) #separando em sentenças\n",
        "      \n",
        "    if len(sentences) > 1:\n",
        "      # percorra o vetor das sentenças; \n",
        "      # (identifique as perguntas) ja esta so com as perguntas; \n",
        "      # adicione a lista questions\n",
        "      for i in range(0,len(sentences)):\n",
        "        #se contem '?'\n",
        "        if sentences[i].find(\"?\") > -1:          \n",
        "          result = preprocess(sentences[i])\n",
        "          result = preprocess_lemma(result)\n",
        "          # adicione o result a lista de questões\n",
        "          questions.append(result)\n",
        "    else:\n",
        "      result = preprocess(sentences[0])\n",
        "      result = preprocess_lemma(result)\n",
        "      questions.append(result)\n",
        "      "
      ],
      "execution_count": null,
      "outputs": []
    },
    {
      "cell_type": "code",
      "metadata": {
        "id": "5JXot8PxcJIp",
        "outputId": "df111a3c-0de4-4d61-9b5f-632b22cbc52d",
        "colab": {
          "base_uri": "https://localhost:8080/",
          "height": 187
        }
      },
      "source": [
        "questions[0:10]"
      ],
      "execution_count": null,
      "outputs": [
        {
          "output_type": "execute_result",
          "data": {
            "text/plain": [
              "['  fundir deputar',\n",
              " '',\n",
              " 'fumaa cigarrar poder propagar coronavirus',\n",
              " '  correr riscar termo piolho super resistente',\n",
              " 'prioridade',\n",
              " 'tal notcia bom ir contramo mdia corrupto fazer tocar terror populao',\n",
              " '  algum tipo aleatrio demncia provocar coronavirus',\n",
              " '  novo york novo epicentro pandemia coronavirus virus agora perguntar cad vingador',\n",
              " '  bolsonaro fazer propaganda',\n",
              " '  dar entender tamiflu melhor']"
            ]
          },
          "metadata": {
            "tags": []
          },
          "execution_count": 69
        }
      ]
    },
    {
      "cell_type": "code",
      "metadata": {
        "id": "tQCgx9ghcKWg"
      },
      "source": [
        "#------------\n",
        "# dt_questions =pd.DataFrame(questions)\n",
        "# dt_questions.to_csv('/content/drive/Shared drives/modulo02/duvidasDB_cleaned2.csv')\n",
        "#-----------\n",
        "# dt = pd.read_csv('/content/drive/Shared drives/modulo02/duvidasDB_cleaned2.csv',index_col=0)\n",
        "# dt2 = dt.dropna()\n",
        "# dt2.to_csv('/content/drive/Shared drives/modulo02/duvidasDB_cleaned3.csv')\n",
        "#--------\n",
        "# dt2 = dt.dropna()\n",
        "# print(dt2.shape)\n",
        "# print(dt2.info())\n",
        "# dt2.head()\n",
        "#------\n",
        "# dt = pd.read_csv('/content/drive/Shared drives/modulo02/duvidasDB_cleaned3.csv',index_col=0)\n",
        "# dt = dt.reset_index(drop=True)\n",
        "# dt.head()\n",
        "# dt.to_csv('/content/drive/Shared drives/modulo02/duvidasDB_cleaned4.csv')"
      ],
      "execution_count": null,
      "outputs": []
    },
    {
      "cell_type": "markdown",
      "metadata": {
        "id": "EXTcIADMlIGr"
      },
      "source": [
        "## Lendo dados-curso-completo.csv"
      ]
    },
    {
      "cell_type": "code",
      "metadata": {
        "id": "eFBRDTiTQ6vO",
        "outputId": "04276a44-f9c5-41b1-817e-32ee7ccbff15",
        "colab": {
          "base_uri": "https://localhost:8080/",
          "height": 111
        }
      },
      "source": [
        "dt_cleaned = pd.read_csv('/content/drive/Shared drives/modulo02/duvidasDB_cleaned.csv',index_col=0)\n",
        "dt_cleaned.columns=['texto']\n",
        "dt_cleaned.head(2)"
      ],
      "execution_count": null,
      "outputs": [
        {
          "output_type": "execute_result",
          "data": {
            "text/html": [
              "<div>\n",
              "<style scoped>\n",
              "    .dataframe tbody tr th:only-of-type {\n",
              "        vertical-align: middle;\n",
              "    }\n",
              "\n",
              "    .dataframe tbody tr th {\n",
              "        vertical-align: top;\n",
              "    }\n",
              "\n",
              "    .dataframe thead th {\n",
              "        text-align: right;\n",
              "    }\n",
              "</style>\n",
              "<table border=\"1\" class=\"dataframe\">\n",
              "  <thead>\n",
              "    <tr style=\"text-align: right;\">\n",
              "      <th></th>\n",
              "      <th>texto</th>\n",
              "    </tr>\n",
              "  </thead>\n",
              "  <tbody>\n",
              "    <tr>\n",
              "      <th>0</th>\n",
              "      <td>fundir deputar</td>\n",
              "    </tr>\n",
              "    <tr>\n",
              "      <th>1</th>\n",
              "      <td>fumaa cigarrar poder propagar coronavrus</td>\n",
              "    </tr>\n",
              "  </tbody>\n",
              "</table>\n",
              "</div>"
            ],
            "text/plain": [
              "                                      texto\n",
              "0                            fundir deputar\n",
              "1  fumaa cigarrar poder propagar coronavrus"
            ]
          },
          "metadata": {
            "tags": []
          },
          "execution_count": 14
        }
      ]
    },
    {
      "cell_type": "markdown",
      "metadata": {
        "id": "Bt2WbKx3GR41"
      },
      "source": [
        "-------------------------------------"
      ]
    },
    {
      "cell_type": "markdown",
      "metadata": {
        "id": "fR9Qd1yvknJD"
      },
      "source": [
        "----------------------------------"
      ]
    },
    {
      "cell_type": "markdown",
      "metadata": {
        "id": "e8bTky3ThPUh"
      },
      "source": [
        "Classificar as perguntas conforme o tema prodominante, usando como critério de classificação uma lista de palavras chaves baseadas em conhecimento prévio. A identificação de uma delas determina a classificação"
      ]
    },
    {
      "cell_type": "code",
      "metadata": {
        "id": "Xc57kdU3hKnK"
      },
      "source": [
        "# Primeira forma de classificação usando uma lista de palavras chaves\n",
        "\n",
        "# if que verifica se já existe arquivo de dúvidas classificadas. Se  existir o arquivo é lido\n",
        "if os.path.exists('/content/drive/Shared drives/modulo02/duvidasDB-classificadas-1.csv'):\n",
        "   duvidasDB = pd.read_csv('/content/drive/Shared drives/modulo02/duvidasDB-classificadas-1.csv')\n",
        "\n",
        "# se não existir, ele é criado.\n",
        "else :\n",
        "   # Seleciona palavras chaves para a seleção do grupo da pergunta\n",
        "   tratamento  = ['tomar', 'toma', 'tomam', 'tomou', 'tomaram', 'receitar', 'receita', 'receitam', 'receitou', 'receitaram', 'beber', 'bebe', 'bebem', 'bebeu', 'beberam', 'tamiflu', 'cloroquina', 'hidroxicloroquina', 'azitromicina', 'ivermectina']\n",
        "   pessoa      = ['governador', 'prefeito', 'presidente', 'secretario', 'senador', 'senadora' ,'deputado', 'vereador', 'senhor', 'senhora', 'sr', 'sra', 'bolsonaro', 'dória', 'doria', 'wilson', 'witzel', 'jairbolsonaro', 'lula', 'mandeta', 'mandetta', 'moro', 'teich', 'pazuello', 'pazuelo']\n",
        "   entidade    = ['governo', 'prefeitura', 'secretaria', 'empresa', 'stf', 'globo', 'record', 'tribunal']\n",
        "   doenca      = ['pandemia', 'coronavírus', 'covid', 'covid19', 'coronavirus', 'covid-19', 'sars-cov-2', 'corona', 'gripe', 'pandamia']\n",
        "\n",
        "   # recuperando o DataFrame\n",
        "   if duvidasDB is None or (isinstance(duvidasDB, pd.DataFrame) and duvidasDB.empty) :\n",
        "      duvidasDB = pd.read_csv('/content/drive/Shared drives/modulo02/duvidasDB.csv')\n",
        "\n",
        "   #Selecionando as palavras a serem descartadas\n",
        "   stopwords = set(stopwords.words('portuguese') + list(punctuation))\n",
        "\n",
        "   j = 0\n",
        "\n",
        "   for index, row in duvidasDB.iterrows():\n",
        "       # extrai o texto contendo a pergunta\n",
        "\n",
        "       texto = duvidasDB.loc[index,'pergunta']\n",
        "       texto = texto.lower()\n",
        " \n",
        "       palavras = word_tokenize(texto,)  \n",
        "       palavras_sem_stopwords = [palavra for palavra in palavras if palavra not in stopwords]\n",
        " \n",
        "       classe = 'outros'\n",
        "       # 1: verificar com base na presença na lista\n",
        "       for pal in palavras_sem_stopwords:\n",
        "         if pal in tratamento:\n",
        "           classe = 'tratamento'\n",
        "           break\n",
        "         if pal in pessoa:\n",
        "           classe = 'pessoa'\n",
        "           break\n",
        "         if pal in entidade:\n",
        "           classe = 'entidade'\n",
        "           break\n",
        "         if pal in doenca:\n",
        "           classe = 'doenca'\n",
        "           break\n",
        "    \n",
        "       duvidasDB.loc[index,'classe'] = classe\n",
        "\n",
        "   duvidasDB.to_csv('/content/drive/Shared drives/modulo02/duvidasDB-classificadas-1.csv')\n",
        "# Fim do if   "
      ],
      "execution_count": 6,
      "outputs": []
    },
    {
      "cell_type": "markdown",
      "metadata": {
        "id": "6WoA9Ktdh5b6"
      },
      "source": [
        "Mostrar os primeiros registros da base de perguntas classificadas"
      ]
    },
    {
      "cell_type": "code",
      "metadata": {
        "id": "5KS4ED4nh1B2",
        "outputId": "b5496947-69d2-4013-def5-2f341b72bed9",
        "colab": {
          "base_uri": "https://localhost:8080/",
          "height": 1000
        }
      },
      "source": [
        "duvidasDB.head(20)"
      ],
      "execution_count": null,
      "outputs": [
        {
          "output_type": "execute_result",
          "data": {
            "text/html": [
              "<div>\n",
              "<style scoped>\n",
              "    .dataframe tbody tr th:only-of-type {\n",
              "        vertical-align: middle;\n",
              "    }\n",
              "\n",
              "    .dataframe tbody tr th {\n",
              "        vertical-align: top;\n",
              "    }\n",
              "\n",
              "    .dataframe thead th {\n",
              "        text-align: right;\n",
              "    }\n",
              "</style>\n",
              "<table border=\"1\" class=\"dataframe\">\n",
              "  <thead>\n",
              "    <tr style=\"text-align: right;\">\n",
              "      <th></th>\n",
              "      <th>Unnamed: 0</th>\n",
              "      <th>Unnamed: 0.1</th>\n",
              "      <th>data</th>\n",
              "      <th>retweet</th>\n",
              "      <th>seguidores</th>\n",
              "      <th>idioma</th>\n",
              "      <th>lugar</th>\n",
              "      <th>pais</th>\n",
              "      <th>sigla</th>\n",
              "      <th>latitude</th>\n",
              "      <th>longitude</th>\n",
              "      <th>pergunta</th>\n",
              "      <th>id_origem</th>\n",
              "      <th>classe</th>\n",
              "    </tr>\n",
              "  </thead>\n",
              "  <tbody>\n",
              "    <tr>\n",
              "      <th>0</th>\n",
              "      <td>0</td>\n",
              "      <td>0</td>\n",
              "      <td>2020-03-23 18:51:14</td>\n",
              "      <td>0</td>\n",
              "      <td>138</td>\n",
              "      <td>pt</td>\n",
              "      <td>NaN</td>\n",
              "      <td>NaN</td>\n",
              "      <td>NaN</td>\n",
              "      <td>NaN</td>\n",
              "      <td>NaN</td>\n",
              "      <td>@BolsonaroSP Cade o fundão deputado???</td>\n",
              "      <td>0</td>\n",
              "      <td>pessoa</td>\n",
              "    </tr>\n",
              "    <tr>\n",
              "      <th>1</th>\n",
              "      <td>1</td>\n",
              "      <td>0</td>\n",
              "      <td>2020-04-01 21:11:07</td>\n",
              "      <td>0</td>\n",
              "      <td>1885</td>\n",
              "      <td>pt</td>\n",
              "      <td>NaN</td>\n",
              "      <td>NaN</td>\n",
              "      <td>NaN</td>\n",
              "      <td>NaN</td>\n",
              "      <td>NaN</td>\n",
              "      <td>Fumaça de cigarro pode propagar coronavírus?</td>\n",
              "      <td>3</td>\n",
              "      <td>doenca</td>\n",
              "    </tr>\n",
              "    <tr>\n",
              "      <th>2</th>\n",
              "      <td>2</td>\n",
              "      <td>0</td>\n",
              "      <td>2020-06-25 11:09:19</td>\n",
              "      <td>0</td>\n",
              "      <td>86</td>\n",
              "      <td>pt</td>\n",
              "      <td>NaN</td>\n",
              "      <td>NaN</td>\n",
              "      <td>NaN</td>\n",
              "      <td>NaN</td>\n",
              "      <td>NaN</td>\n",
              "      <td>@ipratesMD @dr_pampers Será que corremos o ris...</td>\n",
              "      <td>38</td>\n",
              "      <td>outros</td>\n",
              "    </tr>\n",
              "    <tr>\n",
              "      <th>3</th>\n",
              "      <td>3</td>\n",
              "      <td>0</td>\n",
              "      <td>2020-04-06 15:44:36</td>\n",
              "      <td>0</td>\n",
              "      <td>219</td>\n",
              "      <td>pt</td>\n",
              "      <td>NaN</td>\n",
              "      <td>NaN</td>\n",
              "      <td>NaN</td>\n",
              "      <td>NaN</td>\n",
              "      <td>NaN</td>\n",
              "      <td>Prioridade ?!</td>\n",
              "      <td>45</td>\n",
              "      <td>outros</td>\n",
              "    </tr>\n",
              "    <tr>\n",
              "      <th>4</th>\n",
              "      <td>4</td>\n",
              "      <td>0</td>\n",
              "      <td>2020-03-30 00:43:36</td>\n",
              "      <td>0</td>\n",
              "      <td>201</td>\n",
              "      <td>pt</td>\n",
              "      <td>NaN</td>\n",
              "      <td>NaN</td>\n",
              "      <td>NaN</td>\n",
              "      <td>NaN</td>\n",
              "      <td>NaN</td>\n",
              "      <td>Que tal uma notícia boa, indo na contramão do ...</td>\n",
              "      <td>57</td>\n",
              "      <td>outros</td>\n",
              "    </tr>\n",
              "    <tr>\n",
              "      <th>5</th>\n",
              "      <td>5</td>\n",
              "      <td>0</td>\n",
              "      <td>2020-04-07 23:19:44</td>\n",
              "      <td>0</td>\n",
              "      <td>23</td>\n",
              "      <td>pt</td>\n",
              "      <td>NaN</td>\n",
              "      <td>NaN</td>\n",
              "      <td>NaN</td>\n",
              "      <td>NaN</td>\n",
              "      <td>NaN</td>\n",
              "      <td>@JoseMedeirosMT Seria isso algum tipo aleatóri...</td>\n",
              "      <td>73</td>\n",
              "      <td>doenca</td>\n",
              "    </tr>\n",
              "    <tr>\n",
              "      <th>6</th>\n",
              "      <td>6</td>\n",
              "      <td>0</td>\n",
              "      <td>2020-04-13 19:16:51</td>\n",
              "      <td>3</td>\n",
              "      <td>253</td>\n",
              "      <td>pt</td>\n",
              "      <td>Santos</td>\n",
              "      <td>Brazil</td>\n",
              "      <td>BR</td>\n",
              "      <td>NaN</td>\n",
              "      <td>NaN</td>\n",
              "      <td>\"Nova York é o novo epicentro da pandemia de c...</td>\n",
              "      <td>77</td>\n",
              "      <td>doenca</td>\n",
              "    </tr>\n",
              "    <tr>\n",
              "      <th>7</th>\n",
              "      <td>7</td>\n",
              "      <td>0</td>\n",
              "      <td>2020-05-15 18:15:33</td>\n",
              "      <td>0</td>\n",
              "      <td>67</td>\n",
              "      <td>pt</td>\n",
              "      <td>NaN</td>\n",
              "      <td>NaN</td>\n",
              "      <td>NaN</td>\n",
              "      <td>NaN</td>\n",
              "      <td>NaN</td>\n",
              "      <td>@mitags Será por que o Bolsonaro não fez propa...</td>\n",
              "      <td>116</td>\n",
              "      <td>pessoa</td>\n",
              "    </tr>\n",
              "    <tr>\n",
              "      <th>8</th>\n",
              "      <td>8</td>\n",
              "      <td>0</td>\n",
              "      <td>2020-04-08 22:04:51</td>\n",
              "      <td>0</td>\n",
              "      <td>2315</td>\n",
              "      <td>pt</td>\n",
              "      <td>NaN</td>\n",
              "      <td>NaN</td>\n",
              "      <td>NaN</td>\n",
              "      <td>NaN</td>\n",
              "      <td>NaN</td>\n",
              "      <td>@JeanSCorrea7 Mas ele não deu a entender que o...</td>\n",
              "      <td>118</td>\n",
              "      <td>tratamento</td>\n",
              "    </tr>\n",
              "    <tr>\n",
              "      <th>9</th>\n",
              "      <td>9</td>\n",
              "      <td>0</td>\n",
              "      <td>2020-04-02 13:04:55</td>\n",
              "      <td>0</td>\n",
              "      <td>0</td>\n",
              "      <td>pt</td>\n",
              "      <td>NaN</td>\n",
              "      <td>NaN</td>\n",
              "      <td>NaN</td>\n",
              "      <td>NaN</td>\n",
              "      <td>NaN</td>\n",
              "      <td>#perguntacorona \\nQuero saber se a covid tem c...</td>\n",
              "      <td>119</td>\n",
              "      <td>doenca</td>\n",
              "    </tr>\n",
              "    <tr>\n",
              "      <th>10</th>\n",
              "      <td>10</td>\n",
              "      <td>0</td>\n",
              "      <td>2020-03-07 21:48:06</td>\n",
              "      <td>0</td>\n",
              "      <td>16</td>\n",
              "      <td>es</td>\n",
              "      <td>NaN</td>\n",
              "      <td>NaN</td>\n",
              "      <td>NaN</td>\n",
              "      <td>NaN</td>\n",
              "      <td>NaN</td>\n",
              "      <td>@elmundoes eres republicano?</td>\n",
              "      <td>128</td>\n",
              "      <td>outros</td>\n",
              "    </tr>\n",
              "    <tr>\n",
              "      <th>11</th>\n",
              "      <td>11</td>\n",
              "      <td>0</td>\n",
              "      <td>2020-04-02 13:56:41</td>\n",
              "      <td>0</td>\n",
              "      <td>3254</td>\n",
              "      <td>pt</td>\n",
              "      <td>NaN</td>\n",
              "      <td>NaN</td>\n",
              "      <td>NaN</td>\n",
              "      <td>NaN</td>\n",
              "      <td>NaN</td>\n",
              "      <td>E essa chuvinha boa para pegar um resfriado e ...</td>\n",
              "      <td>136</td>\n",
              "      <td>doenca</td>\n",
              "    </tr>\n",
              "    <tr>\n",
              "      <th>12</th>\n",
              "      <td>12</td>\n",
              "      <td>0</td>\n",
              "      <td>2020-03-31 21:36:37</td>\n",
              "      <td>0</td>\n",
              "      <td>908</td>\n",
              "      <td>pt</td>\n",
              "      <td>NaN</td>\n",
              "      <td>NaN</td>\n",
              "      <td>NaN</td>\n",
              "      <td>NaN</td>\n",
              "      <td>NaN</td>\n",
              "      <td>Quem é você na Pandemia?</td>\n",
              "      <td>147</td>\n",
              "      <td>doenca</td>\n",
              "    </tr>\n",
              "    <tr>\n",
              "      <th>13</th>\n",
              "      <td>13</td>\n",
              "      <td>0</td>\n",
              "      <td>2020-06-01 15:45:47</td>\n",
              "      <td>0</td>\n",
              "      <td>1</td>\n",
              "      <td>pt</td>\n",
              "      <td>NaN</td>\n",
              "      <td>NaN</td>\n",
              "      <td>NaN</td>\n",
              "      <td>NaN</td>\n",
              "      <td>NaN</td>\n",
              "      <td>Cadê aquela polícia do Dória que prendia velho...</td>\n",
              "      <td>154</td>\n",
              "      <td>pessoa</td>\n",
              "    </tr>\n",
              "    <tr>\n",
              "      <th>14</th>\n",
              "      <td>14</td>\n",
              "      <td>0</td>\n",
              "      <td>2020-05-09 18:45:22</td>\n",
              "      <td>0</td>\n",
              "      <td>13</td>\n",
              "      <td>pt</td>\n",
              "      <td>NaN</td>\n",
              "      <td>NaN</td>\n",
              "      <td>NaN</td>\n",
              "      <td>NaN</td>\n",
              "      <td>NaN</td>\n",
              "      <td>@paulomathias Pergunta pra ele pq só a Cracolâ...</td>\n",
              "      <td>160</td>\n",
              "      <td>outros</td>\n",
              "    </tr>\n",
              "    <tr>\n",
              "      <th>15</th>\n",
              "      <td>15</td>\n",
              "      <td>0</td>\n",
              "      <td>2020-03-30 19:22:45</td>\n",
              "      <td>0</td>\n",
              "      <td>60</td>\n",
              "      <td>pt</td>\n",
              "      <td>NaN</td>\n",
              "      <td>NaN</td>\n",
              "      <td>NaN</td>\n",
              "      <td>NaN</td>\n",
              "      <td>NaN</td>\n",
              "      <td>@bbcbrasil @cavmota A pergunta que não quer ca...</td>\n",
              "      <td>170</td>\n",
              "      <td>tratamento</td>\n",
              "    </tr>\n",
              "    <tr>\n",
              "      <th>16</th>\n",
              "      <td>16</td>\n",
              "      <td>0</td>\n",
              "      <td>2020-03-18 17:15:18</td>\n",
              "      <td>0</td>\n",
              "      <td>181</td>\n",
              "      <td>pt</td>\n",
              "      <td>NaN</td>\n",
              "      <td>NaN</td>\n",
              "      <td>NaN</td>\n",
              "      <td>NaN</td>\n",
              "      <td>NaN</td>\n",
              "      <td>Você iria na festa de aniversário de @jairbols...</td>\n",
              "      <td>176</td>\n",
              "      <td>pessoa</td>\n",
              "    </tr>\n",
              "    <tr>\n",
              "      <th>17</th>\n",
              "      <td>17</td>\n",
              "      <td>0</td>\n",
              "      <td>2020-04-06 17:42:38</td>\n",
              "      <td>0</td>\n",
              "      <td>1220</td>\n",
              "      <td>pt</td>\n",
              "      <td>NaN</td>\n",
              "      <td>NaN</td>\n",
              "      <td>NaN</td>\n",
              "      <td>NaN</td>\n",
              "      <td>NaN</td>\n",
              "      <td>É um culto à personalidade né?</td>\n",
              "      <td>181</td>\n",
              "      <td>outros</td>\n",
              "    </tr>\n",
              "    <tr>\n",
              "      <th>18</th>\n",
              "      <td>18</td>\n",
              "      <td>0</td>\n",
              "      <td>2020-03-23 17:08:01</td>\n",
              "      <td>1</td>\n",
              "      <td>10520</td>\n",
              "      <td>pt</td>\n",
              "      <td>NaN</td>\n",
              "      <td>NaN</td>\n",
              "      <td>NaN</td>\n",
              "      <td>NaN</td>\n",
              "      <td>NaN</td>\n",
              "      <td>Qual é a necessidade disso?</td>\n",
              "      <td>185</td>\n",
              "      <td>outros</td>\n",
              "    </tr>\n",
              "    <tr>\n",
              "      <th>19</th>\n",
              "      <td>19</td>\n",
              "      <td>0</td>\n",
              "      <td>2020-03-23 17:08:01</td>\n",
              "      <td>1</td>\n",
              "      <td>10520</td>\n",
              "      <td>pt</td>\n",
              "      <td>NaN</td>\n",
              "      <td>NaN</td>\n",
              "      <td>NaN</td>\n",
              "      <td>NaN</td>\n",
              "      <td>NaN</td>\n",
              "      <td>Até uma pandamia é motivo pra fazerem palanque...</td>\n",
              "      <td>185</td>\n",
              "      <td>doenca</td>\n",
              "    </tr>\n",
              "  </tbody>\n",
              "</table>\n",
              "</div>"
            ],
            "text/plain": [
              "    Unnamed: 0  Unnamed: 0.1  ... id_origem      classe\n",
              "0            0             0  ...         0      pessoa\n",
              "1            1             0  ...         3      doenca\n",
              "2            2             0  ...        38      outros\n",
              "3            3             0  ...        45      outros\n",
              "4            4             0  ...        57      outros\n",
              "5            5             0  ...        73      doenca\n",
              "6            6             0  ...        77      doenca\n",
              "7            7             0  ...       116      pessoa\n",
              "8            8             0  ...       118  tratamento\n",
              "9            9             0  ...       119      doenca\n",
              "10          10             0  ...       128      outros\n",
              "11          11             0  ...       136      doenca\n",
              "12          12             0  ...       147      doenca\n",
              "13          13             0  ...       154      pessoa\n",
              "14          14             0  ...       160      outros\n",
              "15          15             0  ...       170  tratamento\n",
              "16          16             0  ...       176      pessoa\n",
              "17          17             0  ...       181      outros\n",
              "18          18             0  ...       185      outros\n",
              "19          19             0  ...       185      doenca\n",
              "\n",
              "[20 rows x 14 columns]"
            ]
          },
          "metadata": {
            "tags": []
          },
          "execution_count": 15
        }
      ]
    },
    {
      "cell_type": "markdown",
      "metadata": {
        "id": "gVy63emKcSYv"
      },
      "source": [
        ""
      ]
    },
    {
      "cell_type": "markdown",
      "metadata": {
        "id": "L2Xp2Qi9hfCQ"
      },
      "source": [
        "Exibindo um Gráfico de Barras comparando os totais de tweets das diversas classes de perguntas\n"
      ]
    },
    {
      "cell_type": "code",
      "metadata": {
        "id": "BGnoX0A9cQs-",
        "outputId": "1f6cc48c-ceee-4f2e-c252-dc2bf4f10cd9",
        "colab": {
          "base_uri": "https://localhost:8080/",
          "height": 374
        }
      },
      "source": [
        "# Exibindo um gráfico de barras dos totais de tweets por classe\n",
        "classes = ['tratamento','pessoa','entidade','doenca','outros']\n",
        "\n",
        "total_perguntas = duvidasDB.groupby(['classe'])['classe'].count()\n",
        "\n",
        "show = pd.DataFrame([total_perguntas], columns=classes)\n",
        "show.plot(kind= 'bar',figsize=(10,5),title='Total de tweets nas classes mais frequentes')"
      ],
      "execution_count": 7,
      "outputs": [
        {
          "output_type": "execute_result",
          "data": {
            "text/plain": [
              "<matplotlib.axes._subplots.AxesSubplot at 0x7f9028cccf28>"
            ]
          },
          "metadata": {
            "tags": []
          },
          "execution_count": 7
        },
        {
          "output_type": "display_data",
          "data": {
            "image/png": "[encoded data removed]",
            "text/plain": [
              "<Figure size 720x360 with 1 Axes>"
            ]
          },
          "metadata": {
            "tags": [],
            "needs_background": "light"
          }
        }
      ]
    },
    {
      "cell_type": "code",
      "metadata": {
        "id": "dCq9NwNow2Fo",
        "outputId": "6ed4eb90-bcd8-418e-987b-17c99316dd7e",
        "colab": {
          "base_uri": "https://localhost:8080/",
          "height": 397
        }
      },
      "source": [
        "# Exibindo um gráfico de barras dos totais de seguidores atingidos por classe\n",
        "total_seguidores = duvidasDB.groupby(['classe'])['seguidores'].sum()\n",
        "\n",
        "show = pd.DataFrame([total_seguidores], columns=classes)\n",
        "show.plot(kind= 'bar',figsize=(10,5),title='Total de seguidores atingidos nas classes mais frequentes')"
      ],
      "execution_count": null,
      "outputs": [
        {
          "output_type": "execute_result",
          "data": {
            "text/plain": [
              "<matplotlib.axes._subplots.AxesSubplot at 0x7f4897dbc828>"
            ]
          },
          "metadata": {
            "tags": []
          },
          "execution_count": 20
        },
        {
          "output_type": "display_data",
          "data": {
            "image/png": "[encoded data removed]",
            "text/plain": [
              "<Figure size 720x360 with 1 Axes>"
            ]
          },
          "metadata": {
            "tags": [],
            "needs_background": "light"
          }
        }
      ]
    },
    {
      "cell_type": "code",
      "metadata": {
        "id": "qoi85VgFF_RI",
        "outputId": "b6dff9b9-d9ac-4e35-f4d6-311d8662c0e6",
        "colab": {
          "base_uri": "https://localhost:8080/",
          "height": 606
        }
      },
      "source": [
        "from matplotlib import pyplot as plt\n",
        "duvidasDB['data_inversa'] = pd.to_datetime(duvidasDB['data'],yearfirst=True, format='%Y-%m-%d')\n",
        "# Agrupar os dados com base na nova coluna, criando um dataframe com os dados agrupados\n",
        "dados_tratamento = duvidasDB[duvidasDB['classe'] == 'tratamento']\n",
        "dados_tratamento = dados_tratamento['data_inversa'].groupby(dados_tratamento['data_inversa'].dt.to_period('M')).agg('count').to_frame()\n",
        "dados_tratamento.columns = ['tratamento']\n",
        "\n",
        "dados_doenca = duvidasDB[duvidasDB['classe'] == 'doenca']\n",
        "dados_doenca = dados_doenca['data_inversa'].groupby(dados_doenca['data_inversa'].dt.to_period('M')).agg('count').to_frame()\n",
        "dados_doenca.columns = ['doenca']\n",
        "\n",
        "dados_pessoa = duvidasDB[duvidasDB['classe'] == 'pessoa']\n",
        "dados_pessoa = dados_pessoa['data_inversa'].groupby(dados_pessoa['data_inversa'].dt.to_period('M')).agg('count').to_frame()\n",
        "dados_pessoa.columns = ['pessoa']\n",
        "\n",
        "dados_entidade = duvidasDB[duvidasDB['classe'] == 'entidade']\n",
        "dados_entidade = dados_entidade['data_inversa'].groupby(dados_entidade['data_inversa'].dt.to_period('M')).agg('count').to_frame()\n",
        "dados_entidade.columns = ['entidade']\n",
        "\n",
        "dados_outros = duvidasDB[duvidasDB['classe'] == 'outros']\n",
        "dados_outros = dados_outros['data_inversa'].groupby(dados_outros['data_inversa'].dt.to_period('M')).agg('count').to_frame()\n",
        "dados_outros.columns = ['outros']\n",
        "\n",
        "duvidasDB = duvidasDB.drop(columns=['data_inversa'])\n",
        "\n",
        "\n",
        "# Cria eixo x para produto A e produto B com uma separação de 0.25 entre as barras\n",
        "x1 =  np.arange(len(dados_tratamento))\n",
        "x2 = [x + 0.25 for x in x1]\n",
        "x3 = [x + 0.25 for x in x2]\n",
        "x4 = [x + 0.25 for x in x3]\n",
        "x5 = [x + 0.25 for x in x4]\n",
        "\n",
        "# Plota as barras\n",
        "plt.bar(x1, dados_tratamento['tratamento'], width=0.25, label = 'tratamento', color = 'b')\n",
        "plt.bar(x2, dados_doenca['doenca'], width=0.25, label = 'doenca', color = 'y')\n",
        "plt.bar(x3, dados_pessoa['pessoa'], width=0.25, label = 'pessoa', color = 'g')\n",
        "plt.bar(x4, dados_entidade['entidade'], width=0.25, label = 'entidade', color = 'r')\n",
        "plt.bar(x5, dados_outros['outros'], width=0.25, label = 'outros', color = '#d65f5f')\n",
        "\n",
        "# Mostrar os primeiros registros do dataframe de valores agregados por dia\n",
        "# plt.plot(dados_tratamento,color='red')\n",
        "# plt.plot(dados_doenca,color='blue')\n",
        "\n",
        "# coloca o nome dos meses como label do eixo x\n",
        "meses = ['Janeiro','Fevereiro','Marco', 'Abril','Maio','Junho','Julho']\n",
        "plt.xticks([x + 0.25 for x in range(len(dados_tratamento))], meses )\n",
        "\n",
        "plt.rcParams['figure.figsize'] = (15,10)\n",
        "\n",
        "# inseri uma legenda no gráfico\n",
        "plt.legend()\n",
        "\n",
        "plt.title(\"Quantidade de tweets mensalmente por classe\")\n",
        "\n",
        "plt.show()"
      ],
      "execution_count": null,
      "outputs": [
        {
          "output_type": "display_data",
          "data": {
            "image/png": "[encoded data removed]",
            "text/plain": [
              "<Figure size 1080x720 with 1 Axes>"
            ]
          },
          "metadata": {
            "tags": [],
            "needs_background": "light"
          }
        }
      ]
    },
    {
      "cell_type": "markdown",
      "metadata": {
        "id": "wRIQBfCPojxj"
      },
      "source": [
        "Exibindo os dados georeferenciados"
      ]
    },
    {
      "cell_type": "code",
      "metadata": {
        "id": "9SR_icncpH2B",
        "outputId": "5105be55-df3e-4de5-fc28-afb84cdd9192",
        "colab": {
          "base_uri": "https://localhost:8080/",
          "height": 470
        }
      },
      "source": [
        "!pip install geopandas"
      ],
      "execution_count": null,
      "outputs": [
        {
          "output_type": "stream",
          "text": [
            "Collecting geopandas\n",
            "\u001b[?25l  Downloading https://files.pythonhosted.org/packages/f7/a4/e66aafbefcbb717813bf3a355c8c4fc3ed04ea1dd7feb2920f2f4f868921/geopandas-0.8.1-py2.py3-none-any.whl (962kB)\n",
            "\u001b[K     |████████████████████████████████| 972kB 3.4MB/s \n",
            "\u001b[?25hRequirement already satisfied: pandas>=0.23.0 in /usr/local/lib/python3.6/dist-packages (from geopandas) (1.1.2)\n",
            "Collecting fiona\n",
            "\u001b[?25l  Downloading https://files.pythonhosted.org/packages/36/8b/e8b2c11bed5373c8e98edb85ce891b09aa1f4210fd451d0fb3696b7695a2/Fiona-1.8.17-cp36-cp36m-manylinux1_x86_64.whl (14.8MB)\n",
            "\u001b[K     |████████████████████████████████| 14.8MB 298kB/s \n",
            "\u001b[?25hCollecting pyproj>=2.2.0\n",
            "\u001b[?25l  Downloading https://files.pythonhosted.org/packages/e5/c3/071e080230ac4b6c64f1a2e2f9161c9737a2bc7b683d2c90b024825000c0/pyproj-2.6.1.post1-cp36-cp36m-manylinux2010_x86_64.whl (10.9MB)\n",
            "\u001b[K     |████████████████████████████████| 10.9MB 18.9MB/s \n",
            "\u001b[?25hRequirement already satisfied: shapely in /usr/local/lib/python3.6/dist-packages (from geopandas) (1.7.1)\n",
            "Requirement already satisfied: numpy>=1.15.4 in /usr/local/lib/python3.6/dist-packages (from pandas>=0.23.0->geopandas) (1.18.5)\n",
            "Requirement already satisfied: pytz>=2017.2 in /usr/local/lib/python3.6/dist-packages (from pandas>=0.23.0->geopandas) (2018.9)\n",
            "Requirement already satisfied: python-dateutil>=2.7.3 in /usr/local/lib/python3.6/dist-packages (from pandas>=0.23.0->geopandas) (2.8.1)\n",
            "Requirement already satisfied: attrs>=17 in /usr/local/lib/python3.6/dist-packages (from fiona->geopandas) (20.2.0)\n",
            "Collecting click-plugins>=1.0\n",
            "  Downloading https://files.pythonhosted.org/packages/e9/da/824b92d9942f4e472702488857914bdd50f73021efea15b4cad9aca8ecef/click_plugins-1.1.1-py2.py3-none-any.whl\n",
            "Collecting cligj>=0.5\n",
            "  Downloading https://files.pythonhosted.org/packages/e4/be/30a58b4b0733850280d01f8bd132591b4668ed5c7046761098d665ac2174/cligj-0.5.0-py3-none-any.whl\n",
            "Collecting munch\n",
            "  Downloading https://files.pythonhosted.org/packages/cc/ab/85d8da5c9a45e072301beb37ad7f833cd344e04c817d97e0cc75681d248f/munch-2.5.0-py2.py3-none-any.whl\n",
            "Requirement already satisfied: click<8,>=4.0 in /usr/local/lib/python3.6/dist-packages (from fiona->geopandas) (7.1.2)\n",
            "Requirement already satisfied: six>=1.7 in /usr/local/lib/python3.6/dist-packages (from fiona->geopandas) (1.15.0)\n",
            "Installing collected packages: click-plugins, cligj, munch, fiona, pyproj, geopandas\n",
            "Successfully installed click-plugins-1.1.1 cligj-0.5.0 fiona-1.8.17 geopandas-0.8.1 munch-2.5.0 pyproj-2.6.1.post1\n"
          ],
          "name": "stdout"
        }
      ]
    },
    {
      "cell_type": "code",
      "metadata": {
        "id": "jkuUIcPIohZB",
        "outputId": "e5b91e4b-16fb-4a63-a13d-8e56ed6ec677",
        "colab": {
          "base_uri": "https://localhost:8080/",
          "height": 452
        }
      },
      "source": [
        "\n",
        "from shapely.geometry import Point\n",
        "import geopandas as gpd\n",
        "from geopandas import GeoDataFrame\n",
        "\n",
        "geometry = [Point(xy) for xy in zip(duvidasDB['latitude'], duvidasDB['longitude'])]\n",
        "gdf = GeoDataFrame(duvidasDB, geometry=geometry)   \n",
        "\n",
        "world = gpd.read_file(gpd.datasets.get_path('naturalearth_lowres'))\n",
        "gdf.plot(ax=world.plot(figsize=(15, 9)), marker='o', color='red', markersize=15);"
      ],
      "execution_count": null,
      "outputs": [
        {
          "output_type": "display_data",
          "data": {
            "image/png": "[encoded data removed]",
            "text/plain": [
              "<Figure size 1080x648 with 1 Axes>"
            ]
          },
          "metadata": {
            "tags": [],
            "needs_background": "light"
          }
        }
      ]
    },
    {
      "cell_type": "code",
      "metadata": {
        "id": "ISNTLU7L0HVK",
        "outputId": "8538e4b8-b517-4d1b-8925-7dc628f52854",
        "colab": {
          "base_uri": "https://localhost:8080/",
          "height": 537
        }
      },
      "source": [
        "# restringindo para o Brasil\n",
        "\n",
        "duvidasDB_cidades = duvidasDB[duvidasDB['pais'] == 'Brazil']\n",
        "\n",
        "geometry = [Point(xy) for xy in zip(duvidasDB_cidades['latitude'], duvidasDB_cidades['longitude'])]\n",
        "gdf = GeoDataFrame(duvidasDB_cidades, geometry=geometry)   \n",
        "\n",
        "ax = world[world.continent == 'South America'].plot(\n",
        "    color='white', edgecolor='black', figsize=(15,9))\n",
        "gdf.plot(ax=ax, marker='o', color='red');"
      ],
      "execution_count": null,
      "outputs": [
        {
          "output_type": "display_data",
          "data": {
            "image/png": "[encoded data removed]",
            "text/plain": [
              "<Figure size 1080x648 with 1 Axes>"
            ]
          },
          "metadata": {
            "tags": [],
            "needs_background": "light"
          }
        }
      ]
    },
    {
      "cell_type": "code",
      "metadata": {
        "id": "76sehSw1zg8W",
        "outputId": "24d84ac4-59cc-43a5-ef8b-89e497f0e3c5",
        "colab": {
          "base_uri": "https://localhost:8080/",
          "height": 904
        }
      },
      "source": [
        "# Segunda forma de classificação usando uma lista de palavras chaves e os tokens gerados pela biblioteca NLTK\n",
        "\n",
        "# if que verifica se já existe arquivo de dúvidas classificadas. Se  existir o arquivo é lido\n",
        "if os.path.exists('/content/drive/Shared drives/modulo02/duvidasDB-classificadas-2.csv'):\n",
        "   duvidasDB = pd.read_csv('/content/drive/Shared drives/modulo02/duvidasDB-classificadas-2.csv')\n",
        "\n",
        "# se não existir, ele é criado.\n",
        "else :\n",
        "   # Seleciona palavras chaves para a seleção do grupo da pergunta\n",
        "   tratamento = ['tomar', 'toma', 'tomam', 'tomou', 'tomaram', 'receitar', 'receita', 'receitam', 'receitou', 'receitaram', 'beber', 'bebe', 'bebem', 'bebeu', 'beberam', 'tamiflu', 'cloroquina', 'hidroxicloroquina', 'azitromicina', 'ivermectina']\n",
        "   pessoa      = ['governador', 'prefeito', 'presidente', 'secretario', 'senador', 'senadora' ,'deputado', 'vereador', 'senhor', 'senhora', 'sr', 'sra', 'bolsonaro', 'dória', 'doria', 'wilson', 'witzel', 'jairbolsonaro', 'lula', 'mandeta', 'mandetta', 'moro', 'teich', 'pazuello', 'pazuelo']\n",
        "   entidade    = ['governo', 'prefeitura', 'secretaria', 'empresa', 'stf', 'globo', 'record', 'tribunal']\n",
        "   doenca      = ['pandemia', 'coronavírus', 'covid', 'covid19', 'coronavirus', 'covid-19', 'sars-cov-2', 'corona', 'gripe', 'pandamia']\n",
        "\n",
        "   # recuperando o DataFrame\n",
        "   if duvidasDB is None or (isinstance(duvidasDB, pd.DataFrame) and duvidasDB.empty) :\n",
        "      duvidasDB = pd.read_csv('/content/drive/Shared drives/modulo02/duvidasDB.csv')\n",
        "\n",
        "   #Selecionando as palavras a serem descartadas\n",
        "   stopwords = set(stopwords.words('portuguese') + list(punctuation))\n",
        "\n",
        "   tagged_sents = nltk.corpus.mac_morpho.tagged_sents()\n",
        "\n",
        "   unigram_tagger = nltk.tag.UnigramTagger(tagged_sents)   \n",
        "\n",
        "   j = 0\n",
        "\n",
        "   for index, row in duvidasDB.iterrows():\n",
        "       # extrai o texto contendo a pergunta\n",
        "\n",
        "       if index >= 50:\n",
        "          break\n",
        "\n",
        "       texto = duvidasDB.loc[index,'pergunta']\n",
        "       texto = texto.lower()\n",
        " \n",
        "       palavras = word_tokenize(texto)  \n",
        "       palavras_sem_stopwords = [palavra for palavra in palavras if palavra not in stopwords]\n",
        "\n",
        "       tokens = unigram_tagger.tag(palavras_sem_stopwords)    \n",
        "\n",
        "       classe = 'outros'\n",
        "       # 1: verificar com base na presença na lista\n",
        "       for pal in palavras_sem_stopwords:\n",
        "         if pal in tratamento:\n",
        "           classe = 'tratamento'\n",
        "           break\n",
        "         if pal in pessoa:\n",
        "           classe = 'pessoa'\n",
        "           break\n",
        "         if pal in entidade:\n",
        "           classe = 'entidade'\n",
        "           break\n",
        "         if pal in doenca:\n",
        "           classe = 'doenca'\n",
        "           break\n",
        "    \n",
        "       duvidasDB.loc[index,'classe'] = classe\n",
        "       # duvidasDB.loc[index,'tokens'] = tokens\n",
        "       print(tokens)\n",
        "\n",
        "  # duvidasDB.to_csv('/content/drive/Shared drives/modulo02/duvidasDB-classificadas-2.csv')\n",
        "\n",
        "# Fim do if   "
      ],
      "execution_count": null,
      "outputs": [
        {
          "output_type": "stream",
          "text": [
            "[('bolsonarosp', None), ('cade', None), ('fundão', 'N'), ('deputado', 'N')]\n",
            "[('fumaça', 'N'), ('cigarro', 'N'), ('pode', 'VAUX'), ('propagar', None), ('coronavírus', None)]\n",
            "[('ipratesmd', None), ('dr_pampers', None), ('corremos', 'V'), ('risco', 'N'), ('termos', 'N'), ('piolhos', None), ('super', 'ADJ'), ('resistentes', 'ADJ')]\n",
            "[('prioridade', 'N')]\n",
            "[('tal', 'PROADJ'), ('notícia', 'N'), ('boa', 'ADJ'), ('indo', 'V'), ('contramão', 'N'), ('mídia', 'N'), ('corrupta', None), ('fazendo', 'V'), ('tocando', 'V'), ('terror', 'N'), ('população', 'N')]\n",
            "[('josemedeirosmt', None), ('algum', 'PROADJ'), ('tipo', 'N'), ('aleatório', 'ADJ'), ('demência', 'N'), ('provocando', 'V'), ('coronavírus', None)]\n",
            "[('``', None), ('nova', 'ADJ'), ('york', None), ('novo', 'ADJ'), ('epicentro', 'N'), ('pandemia', 'N'), ('corona', None), ('vírus', 'N'), (\"''\", None), ('ta', None), ('agora', 'ADV'), ('pergunto', 'V'), ('cadê', 'ADV'), ('vingadores', None)]\n",
            "[('mitags', None), ('bolsonaro', None), ('fez', 'V'), ('propaganda', 'N')]\n",
            "[('jeanscorrea7', None), ('deu', 'V'), ('entender', 'V'), ('tamiflu', None), ('melhor', 'ADJ'), ('neh', None)]\n",
            "[('perguntacorona', None), ('quero', 'V'), ('saber', 'V'), ('covid', None), ('cura', 'N')]\n",
            "[('elmundoes', None), ('eres', None), ('republicano', 'ADJ')]\n",
            "[('chuvinha', None), ('boa', 'ADJ'), ('pegar', 'V'), ('resfriado', 'PCP'), ('confundir', 'V'), ('covid-19', None), ('hem', 'IN')]\n",
            "[('pandemia', 'N')]\n",
            "[('cadê', 'ADV'), ('polícia', 'N'), ('dória', None), ('prendia', 'V'), ('velhos', 'ADJ'), ('mulheres', 'N'), ('trabalhadores', 'N'), ('pandemia', 'N')]\n",
            "[('paulomathias', None), ('pergunta', 'N'), ('pra', 'PREP'), ('pq', None), ('cracolândia', None), ('pleno', 'ADJ'), ('vapor', 'N')]\n",
            "[('bbcbrasil', None), ('cavmota', None), ('pergunta', 'N'), ('quer', 'V'), ('calar', 'V'), ('faz', 'V'), ('uso', 'N'), ('contínuo', 'ADJ'), ('hidroxicloroquina', None), ('imune', 'ADJ'), ('vírus', 'N')]\n",
            "[('iria', 'VAUX'), ('festa', 'N'), ('aniversário', 'N'), ('jairbolsonaro', None)]\n",
            "[('culto', 'N'), ('personalidade', 'N'), ('né', 'IN')]\n",
            "[('necessidade', 'N'), ('disso', 'ADV')]\n",
            "[('pandamia', None), ('motivo', 'N'), ('pra', 'PREP'), ('fazerem', 'V'), ('palanque', 'N'), ('pra', 'PREP'), ('militância', 'N')]\n",
            "[('problemas', 'N'), ('paraíso', 'N'), ('cloroquina', None)]\n",
            "[('treta', None), ('dados', 'N'), ('fraudados', None), ('estudo', 'N'), ('publicado', 'PCP'), ('lancet', None)]\n",
            "[('hotel', 'N'), ('desaba', 'V'), ('china', None), ('70', 'NUM'), ('pessoas', 'N'), ('quarentena', None), ('coronavírus', None), ('peido', None), ('pra', 'PREP'), ('cagado', None)]\n",
            "[('ttmionzinho', None), ('infectologista', 'N'), ('``', None), ('epidemiologista', None), (\"''\", None)]\n",
            "[('sério', 'ADJ'), ('vcs', None), ('acham', 'V'), ('legal', 'ADJ'), ('fazer', 'V'), ('atividade', 'N'), ('física', 'ADJ'), ('ambiente', 'N'), ('fechado', 'PCP'), ('abafado', 'PCP'), ('plena', 'ADJ'), ('época', 'N'), ('quarentena', None), ('…', None), ('https', None), ('//t.co/xnqhvk3n7b', None)]\n",
            "[('muita', 'PROADJ'), ('coisa', 'N'), ('acontecendo', 'V'), ('últimos', 'ADJ'), ('dias', 'N'), ('pasmem', None), ('pessoas', 'N'), ('foco', 'N'), ('negras', 'ADJ')]\n",
            "[('tão', 'ADV'), ('passados', 'PCP')]\n",
            "[('ainda', 'ADV'), ('entenderam', 'V'), ('plano', 'N')]\n",
            "[('beualin', None), ('véi', None)]\n",
            "[('meio', 'N'), ('pandemia', 'N')]\n",
            "[('vão', 'VAUX'), ('buscar', 'V'), ('17', 'NUM'), ('portugueses', 'N'), ('china', None), ('sequer', 'PDEN'), ('vão', 'VAUX'), ('fazer', 'V'), ('quarentena', None)]\n",
            "[('tudo', 'PROSUB'), ('doido', 'ADJ')]\n",
            "[('veramagalhaes', None), ('verba', 'N'), ('792k', None), ('fale', 'V'), ('sobre', 'PREP'), ('cloroquina', None)]\n",
            "[('consegue', 'V')]\n",
            "[('vc', None), ('quer', 'V'), ('aconteça', 'V'), ('distanciamento', 'N'), ('social', 'ADJ'), ('central', 'ADJ'), ('brasil', 'NPROP'), ('hora', 'N'), ('rush', 'N|EST')]\n",
            "[('manoooo', None), ('jurava', None), ('tava', 'V'), ('falando', 'V'), ('dessa', None), ('cervejaa', None), ('to', 'NPROP'), ('voando', 'V'), ('porra', 'IN'), ('corona', None), ('vírus', 'N'), ('então', 'ADV')]\n",
            "[('janainadobrasil', None), ('sra', None), ('pode', 'VAUX'), ('ir', 'V'), ('catar', 'V|+'), ('coquinhos', None), ('pf', None)]\n",
            "[('rede', 'N'), ('redetelecine', None), ('aberta', 'PCP')]\n",
            "[('ia', 'VAUX'), ('manter', 'V'), ('liberada', 'PCP'), ('pandemia', 'N')]\n",
            "[('flaviofachel', None), ('fachel', None), ('cadê', 'ADV'), ('previsão', 'N'), ('tempo', 'N'), ('trânsito', 'N'), ('cidade', 'N')]\n",
            "[('ops', 'IN'), ('...', '...'), ('bandeira', 'N'), ('mudou', 'V'), ('cor', 'N')]\n",
            "[('gilmarmendes', None), ('ué', 'IN')]\n",
            "[('riot', None), ('fazendo', 'V'), ('clash', None), ('data', 'N'), ('carnaval', 'N'), ('...', '...'), ('escolha', 'N'), ('simples', 'ADJ'), ('pode', 'VAUX'), ('contaminar', 'V'), ('corona', None), ('virus', None)]\n",
            "[('coronavírus', None), ('invadiu', 'V'), ('vinheta', None), ('jornal', 'N'), ('band', None)]\n",
            "[('lucasrohan', None), ('assim', 'ADV')]\n",
            "[('mudou', 'V'), ('metodologia', 'N')]\n",
            "[('descobertas', 'N'), ('outras', 'PROADJ'), ('prováveis', 'ADJ'), ('mortes', 'N'), ('covid', None)]\n",
            "[('serio', None), ('gente', 'N'), ('furando', 'V|+'), ('quarentena', None), ('pra', 'PREP'), ('ver', 'V'), ('homi', None)]\n",
            "[('renata', None), ('vai', 'VAUX'), ('tomar', 'V'), ('cloroquina', None), ('william', None), ('bonner', None)]\n",
            "[('acho', 'V'), ('né', 'IN')]\n"
          ],
          "name": "stdout"
        }
      ]
    },
    {
      "cell_type": "code",
      "metadata": {
        "id": "eBF6obuECjDs"
      },
      "source": [
        "duvidasDB.head(20)"
      ],
      "execution_count": null,
      "outputs": []
    },
    {
      "cell_type": "markdown",
      "metadata": {
        "id": "7IbRrdnYhxtH"
      },
      "source": [
        "#############################################################################"
      ]
    },
    {
      "cell_type": "markdown",
      "metadata": {
        "id": "fXM7YgYyPKCR"
      },
      "source": [
        "## 2.1 Doença"
      ]
    },
    {
      "cell_type": "code",
      "metadata": {
        "id": "qa9GKD9QgMH2",
        "outputId": "1c063ae6-d159-4986-b0d8-be8a6c9e288b",
        "colab": {
          "base_uri": "https://localhost:8080/",
          "height": 111
        }
      },
      "source": [
        "dt = pd.read_csv('/content/drive/Shared drives/modulo02/duvidasDB_cleaned4.csv',index_col=0)\n",
        "dt.columns = ['texto']\n",
        "questions = list(dt.iloc[:,0])\n",
        "all_questions = \" \".join(questions)"
      ],
      "execution_count": null,
      "outputs": [
        {
          "output_type": "execute_result",
          "data": {
            "text/html": [
              "<div>\n",
              "<style scoped>\n",
              "    .dataframe tbody tr th:only-of-type {\n",
              "        vertical-align: middle;\n",
              "    }\n",
              "\n",
              "    .dataframe tbody tr th {\n",
              "        vertical-align: top;\n",
              "    }\n",
              "\n",
              "    .dataframe thead th {\n",
              "        text-align: right;\n",
              "    }\n",
              "</style>\n",
              "<table border=\"1\" class=\"dataframe\">\n",
              "  <thead>\n",
              "    <tr style=\"text-align: right;\">\n",
              "      <th></th>\n",
              "      <th>texto</th>\n",
              "    </tr>\n",
              "  </thead>\n",
              "  <tbody>\n",
              "    <tr>\n",
              "      <th>0</th>\n",
              "      <td>fundir deputar</td>\n",
              "    </tr>\n",
              "    <tr>\n",
              "      <th>1</th>\n",
              "      <td>fumaa cigarrar poder propagar coronavirus</td>\n",
              "    </tr>\n",
              "  </tbody>\n",
              "</table>\n",
              "</div>"
            ],
            "text/plain": [
              "                                       texto\n",
              "0                             fundir deputar\n",
              "1  fumaa cigarrar poder propagar coronavirus"
            ]
          },
          "metadata": {
            "tags": []
          },
          "execution_count": 86
        }
      ]
    },
    {
      "cell_type": "markdown",
      "metadata": {
        "id": "28qDph3pleoP"
      },
      "source": [
        "\n",
        "*   Podemos determinar a localização de uma palavra no texto , calculando assim sua frequência. Portanto, essas informações posicionais podem ser exibidas usando um gráfico de dispersão. \n",
        "*   Cada faixa representa uma instância de uma palavra e cada linha representa texto inteiro."
      ]
    },
    {
      "cell_type": "code",
      "metadata": {
        "id": "Jf9yA0hthkYX",
        "outputId": "22f349d2-2c34-4b7e-a260-03afc6b829d1",
        "colab": {
          "base_uri": "https://localhost:8080/",
          "height": 295
        }
      },
      "source": [
        "import nltk.corpus  \n",
        "from nltk.text import Text  \n",
        "from nltk.tokenize import sent_tokenize, word_tokenize\n",
        "\n",
        "tokens = word_tokenize(all_questions, language='portuguese')\n",
        "texts = Text(tokens)\n",
        "texts.dispersion_plot([\"coronavirus\", \"remédio\", \"infectar\", \"cloroquina\"])"
      ],
      "execution_count": null,
      "outputs": [
        {
          "output_type": "display_data",
          "data": {
            "image/png": "[encoded data removed]",
            "text/plain": [
              "<Figure size 432x288 with 1 Axes>"
            ]
          },
          "metadata": {
            "tags": [],
            "needs_background": "light"
          }
        }
      ]
    },
    {
      "cell_type": "code",
      "metadata": {
        "id": "SieMY06_k2BU",
        "outputId": "e9fae6ab-5eac-43cb-9f0a-42798f3e37d8",
        "colab": {
          "base_uri": "https://localhost:8080/",
          "height": 51
        }
      },
      "source": [
        "texts2= Text(tokens)\n",
        "texts2.similar('coronavirus')\n",
        "#texts2 = texts2.common_contexts(['coronavirus','quarentenar','pandemia','cloroquina','virus','covid','ser'])"
      ],
      "execution_count": null,
      "outputs": [
        {
          "output_type": "stream",
          "text": [
            "pandemia covid quarentenar ir cloroquina gente fazer saber virus poder\n",
            "ser querer algum agora covi brasil dia pessoa acabar bolsonaro\n"
          ],
          "name": "stdout"
        }
      ]
    },
    {
      "cell_type": "code",
      "metadata": {
        "id": "Yi8ZUBdSsAuH",
        "outputId": "4d52eba8-b64d-4783-d52b-477f90d14d7e",
        "colab": {
          "base_uri": "https://localhost:8080/",
          "height": 68
        }
      },
      "source": [
        "texts2.similar('cloroquina')"
      ],
      "execution_count": null,
      "outputs": [
        {
          "output_type": "stream",
          "text": [
            "coronavirus hidroxicloroquina pandemia quarentenar ir saber covid\n",
            "gente fazer ser virus querer algum dizer agora poder brasil bolsonaro\n",
            "usar ivermectina\n"
          ],
          "name": "stdout"
        }
      ]
    },
    {
      "cell_type": "code",
      "metadata": {
        "id": "YJiOm89zgSK1",
        "outputId": "3c5c9aab-7390-405e-eb06-f641a2a7286f",
        "colab": {
          "base_uri": "https://localhost:8080/",
          "height": 34
        }
      },
      "source": [
        "from nltk.probability import FreqDist\n",
        "\n",
        "fdist = FreqDist([w.lower() for w in all_questions.split()])\n",
        "for sentence in nltk.tokenize.sent_tokenize(all_questions):\n",
        "  for word in nltk.tokenize.word_tokenize(sentence):\n",
        "    fdist[word] += 1\n",
        "\n",
        "result = []\n",
        "for w in set(questions):\n",
        "  #print(\"\\n>>{} -->{} ==>{}\".format(w,len(w),fdist[w]))\n",
        "  if len(w) > 7 and fdist[w] > 200:\n",
        "    result.append((w,fdist[w]))\n",
        "\n",
        "result = sorted(result,key=lambda dist: dist[1],reverse=True)\n",
        "print(\"tamanho=>{}\".format(len(result)))"
      ],
      "execution_count": null,
      "outputs": [
        {
          "output_type": "stream",
          "text": [
            "tamanho=>198\n"
          ],
          "name": "stdout"
        }
      ]
    },
    {
      "cell_type": "code",
      "metadata": {
        "id": "yMbG7IjLeyCB",
        "outputId": "40795262-b9eb-4ecf-abd8-7dfccce90da4",
        "colab": {
          "base_uri": "https://localhost:8080/",
          "height": 1000
        }
      },
      "source": [
        "list(fdist.most_common())"
      ],
      "execution_count": null,
      "outputs": [
        {
          "output_type": "execute_result",
          "data": {
            "text/plain": [
              "[('coronavirus', 80088),\n",
              " ('quarentenar', 30676),\n",
              " ('pandemia', 30598),\n",
              " ('ir', 30242),\n",
              " ('cloroquina', 25755),\n",
              " ('fazer', 21734),\n",
              " ('social', 20911),\n",
              " ('virus', 19300),\n",
              " ('isolamento', 17130),\n",
              " ('saber', 15632),\n",
              " ('poder', 14644),\n",
              " ('querer', 13936),\n",
              " ('algum', 12924),\n",
              " ('gente', 10988),\n",
              " ('covid', 10525),\n",
              " ('ser', 10361),\n",
              " ('ficar', 10136),\n",
              " ('dia', 9848),\n",
              " ('usar', 9392),\n",
              " ('pessoa', 9382),\n",
              " ('agora', 8946),\n",
              " ('casar', 8934),\n",
              " ('ver', 8585),\n",
              " ('dizer', 8329),\n",
              " ('tomar', 8326),\n",
              " ('esto', 8279),\n",
              " ('falar', 8247),\n",
              " ('sobrar', 8144),\n",
              " ('achar', 8098),\n",
              " ('todo', 7938),\n",
              " ('vocs', 7711),\n",
              " ('hidroxicloroquina', 7583),\n",
              " ('brasil', 7548),\n",
              " ('ter', 6894),\n",
              " ('acabar', 6614),\n",
              " ('bolsonaro', 6587),\n",
              " ('morrer', 6478),\n",
              " ('dar', 5862),\n",
              " ('lockdown', 5809),\n",
              " ('onde', 5745),\n",
              " ('ainda', 5576),\n",
              " ('mundo', 5533),\n",
              " ('so', 5379),\n",
              " ('pegar', 5016),\n",
              " ('mear', 5012),\n",
              " ('porque', 5003),\n",
              " ('distanciamento', 4981),\n",
              " ('tudo', 4853),\n",
              " ('cad', 4852),\n",
              " ('contra', 4810),\n",
              " ('curar', 4806),\n",
              " ('passar', 4687),\n",
              " ('dessar', 4550),\n",
              " ('aqui', 4470),\n",
              " ('estar', 4408),\n",
              " ('nessa', 4398),\n",
              " ('presidente', 4327),\n",
              " ('at', 4320),\n",
              " ('novo', 4291),\n",
              " ('pensar', 4166),\n",
              " ('sair', 4162),\n",
              " ('vir', 4156),\n",
              " ('tempo', 4156),\n",
              " ('bom', 4152),\n",
              " ('causar', 4118),\n",
              " ('ento', 4108),\n",
              " ('saude', 4063),\n",
              " ('assim', 4058),\n",
              " ('morte', 4016),\n",
              " ('perguntar', 3942),\n",
              " ('bem', 3876),\n",
              " ('entender', 3842),\n",
              " ('combater', 3826),\n",
              " ('caro', 3748),\n",
              " ('j', 3716),\n",
              " ('outro', 3697),\n",
              " ('chegar', 3686),\n",
              " ('hoje', 3657),\n",
              " ('matar', 3606),\n",
              " ('quanto', 3526),\n",
              " ('coisa', 3436),\n",
              " ('ministrar', 3436),\n",
              " ('covi', 3429),\n",
              " ('povo', 3426),\n",
              " ('dever', 3328),\n",
              " ('srio', 3228),\n",
              " ('caso', 3216),\n",
              " ('ano', 3166),\n",
              " ('chino', 3066),\n",
              " ('contar', 2950),\n",
              " ('governar', 2932),\n",
              " ('tambm', 2892),\n",
              " ('nao', 2862),\n",
              " ('voc', 2860),\n",
              " ('vidar', 2810),\n",
              " ('ajudar', 2798),\n",
              " ('acontecer', 2728),\n",
              " ('trabalhar', 2690),\n",
              " ('pas', 2603),\n",
              " ('parar', 2592),\n",
              " ('falir', 2568),\n",
              " ('p', 2509),\n",
              " ('durante', 2506),\n",
              " ('testar', 2498),\n",
              " ('azitromicina', 2498),\n",
              " ('voltar', 2494),\n",
              " ('existir', 2492),\n",
              " ('deixar', 2478),\n",
              " ('quantum', 2468),\n",
              " ('tanto', 2446),\n",
              " ('nado', 2436),\n",
              " ('coronavrus', 2417),\n",
              " ('conseguir', 2388),\n",
              " ('qu', 2360),\n",
              " ('t', 2340),\n",
              " ('tal', 2300),\n",
              " ('antar', 2290),\n",
              " ('pq', 2289),\n",
              " ('amigo', 2263),\n",
              " ('primeiro', 2246),\n",
              " ('brasileiro', 2232),\n",
              " ('l', 2228),\n",
              " ('senhor', 2222),\n",
              " ('d', 2202),\n",
              " ('vacinar', 2192),\n",
              " ('manir', 2176),\n",
              " ('viver', 2106),\n",
              " ('imaginar', 2102),\n",
              " ('deus', 2091),\n",
              " ('esperar', 2032),\n",
              " ('medo', 2030),\n",
              " ('comprar', 2018),\n",
              " ('pedir', 2006),\n",
              " ('pleno', 1988),\n",
              " ('virar', 1976),\n",
              " ('tratamento', 1948),\n",
              " ('porra', 1942),\n",
              " ('hospital', 1938),\n",
              " ('h', 1933),\n",
              " ('liberar', 1920),\n",
              " ('chamar', 1918),\n",
              " ('funcionar', 1902),\n",
              " ('acreditar', 1884),\n",
              " ('ai', 1876),\n",
              " ('partir', 1876),\n",
              " ('ouvir', 1856),\n",
              " ('mal', 1832),\n",
              " ('oms', 1824),\n",
              " ('verdade', 1807),\n",
              " ('certar', 1802),\n",
              " ('c', 1793),\n",
              " ('sintoma', 1792),\n",
              " ('tirar', 1780),\n",
              " ('ruir', 1778),\n",
              " ('mandar', 1756),\n",
              " ('nesse', 1752),\n",
              " ('governador', 1727),\n",
              " ('vcs', 1726),\n",
              " ('crise', 1712),\n",
              " ('ningum', 1696),\n",
              " ('pessoal', 1694),\n",
              " ('morto', 1694),\n",
              " ('pai', 1693),\n",
              " ('ler', 1692),\n",
              " ('entrar', 1692),\n",
              " ('tipo', 1678),\n",
              " ('s', 1667),\n",
              " ('colocar', 1667),\n",
              " ('gostar', 1652),\n",
              " ('sentir', 1612),\n",
              " ('carnaval', 1607),\n",
              " ('preocupar', 1588),\n",
              " ('infectar', 1580),\n",
              " ('melhor', 1566),\n",
              " ('lembrar', 1562),\n",
              " ('merda', 1544),\n",
              " ('remédio', 1538),\n",
              " ('precisar', 1530),\n",
              " ('estudar', 1528),\n",
              " ('tava', 1522),\n",
              " ('problema', 1518),\n",
              " ('dinheiro', 1515),\n",
              " ('levar', 1514),\n",
              " ('respeitar', 1508),\n",
              " ('corona', 1504),\n",
              " ('ivermectina', 1502),\n",
              " ('doena', 1496),\n",
              " ('fundir', 1466),\n",
              " ('fechar', 1464),\n",
              " ('dois', 1464),\n",
              " ('ok', 1464),\n",
              " ('mscara', 1463),\n",
              " ('efeito', 1456),\n",
              " ('médico', 1450),\n",
              " ('oi', 1436),\n",
              " ('explicar', 1422),\n",
              " ('horar', 1420),\n",
              " ('momento', 1411),\n",
              " ('tratar', 1408),\n",
              " ('favor', 1401),\n",
              " ('paciente', 1382),\n",
              " ('falto', 1380),\n",
              " ('defender', 1376),\n",
              " ('mil', 1366),\n",
              " ('continuar', 1364),\n",
              " ('riscar', 1362),\n",
              " ('filho', 1355),\n",
              " ('cancelar', 1348),\n",
              " ('galera', 1338),\n",
              " ('nunca', 1334),\n",
              " ('fim', 1328),\n",
              " ('errar', 1322),\n",
              " ('gripar', 1320),\n",
              " ('cidade', 1313),\n",
              " ('realmente', 1310),\n",
              " ('confirmar', 1308),\n",
              " ('sim', 1308),\n",
              " ('real', 1283),\n",
              " ('furar', 1278),\n",
              " ('vc', 1272),\n",
              " ('culpar', 1266),\n",
              " ('mandetta', 1259),\n",
              " ('sera', 1226),\n",
              " ('preciso', 1223),\n",
              " ('medir', 1214),\n",
              " ('semana', 1212),\n",
              " ('mudar', 1200),\n",
              " ('jogar', 1198),\n",
              " ('conhecer', 1198),\n",
              " ('ns', 1178),\n",
              " ('andar', 1176),\n",
              " ('algo', 1168),\n",
              " ('mundial', 1162),\n",
              " ('nmero', 1156),\n",
              " ('noo', 1156),\n",
              " ('dvida', 1156),\n",
              " ('perder', 1152),\n",
              " ('assistir', 1142),\n",
              " ('populao', 1141),\n",
              " ('famlia', 1123),\n",
              " ('nome', 1122),\n",
              " ('comer', 1120),\n",
              " ('ps', 1118),\n",
              " ('itlia', 1116),\n",
              " ('criar', 1106),\n",
              " ('exame', 1100),\n",
              " ('rolar', 1098),\n",
              " ('salvar', 1098),\n",
              " ('maior', 1098),\n",
              " ('eua', 1096),\n",
              " ('pego', 1092),\n",
              " ('desde', 1090),\n",
              " ('live', 1090),\n",
              " ('demitir', 1088),\n",
              " ('receber', 1088),\n",
              " ('festa', 1084),\n",
              " ('namorar', 1083),\n",
              " ('olhar', 1072),\n",
              " ('teste', 1064),\n",
              " ('vez', 1052),\n",
              " ('manter', 1050),\n",
              " ('epidemiar', 1050),\n",
              " ('disso', 1036),\n",
              " ('mês', 1034),\n",
              " ('tbm', 1029),\n",
              " ('nenhum', 1028),\n",
              " ('caralho', 1022),\n",
              " ('abrir', 1016),\n",
              " ('suspeito', 1012),\n",
              " ('aumentar', 1008),\n",
              " ('situao', 1006),\n",
              " ('direito', 996),\n",
              " ('surtir', 992),\n",
              " ('amar', 992),\n",
              " ('seguir', 990),\n",
              " ('possvel', 986),\n",
              " ('gripezinha', 985),\n",
              " ('menos', 980),\n",
              " ('comigo', 976),\n",
              " ('sp', 968),\n",
              " ('amigar', 966),\n",
              " ('relao', 965),\n",
              " ('feliz', 957),\n",
              " ('cuidar', 948),\n",
              " ('economia', 948),\n",
              " ('aula', 948),\n",
              " ('hj', 946),\n",
              " ('grande', 944),\n",
              " ('mim', 941),\n",
              " ('pouco', 939),\n",
              " ('ganhar', 932),\n",
              " ('apoiar', 922),\n",
              " ('cu', 920),\n",
              " ('resultar', 918),\n",
              " ('trump', 913),\n",
              " ('formar', 912),\n",
              " ('pases', 908),\n",
              " ('mostrar', 908),\n",
              " ('cabea', 900),\n",
              " ('esconder', 896),\n",
              " ('notcia', 894),\n",
              " ('responder', 894),\n",
              " ('morar', 890),\n",
              " ('filhar', 888),\n",
              " ('parecer', 886),\n",
              " ('protocolo', 886),\n",
              " ('ligar', 880),\n",
              " ('cervejar', 878),\n",
              " ('pagar', 878),\n",
              " ('vdeo', 876),\n",
              " ('contaminar', 872),\n",
              " ('quebrar', 868),\n",
              " ('decretar', 860),\n",
              " ('logo', 854),\n",
              " ('beber', 852),\n",
              " ('poca', 850),\n",
              " ('rir', 850),\n",
              " ('paulo', 848),\n",
              " ('mentir', 846),\n",
              " ('globo', 844),\n",
              " ('pra', 843),\n",
              " ('normal', 841),\n",
              " ('esquecer', 840),\n",
              " ('guerra', 838),\n",
              " ('apenas', 834),\n",
              " ('burro', 828),\n",
              " ('amor', 824),\n",
              " ('descobrir', 822),\n",
              " ('bbb', 822),\n",
              " ('eleitoral', 820),\n",
              " ('doente', 820),\n",
              " ('resolver', 820),\n",
              " ('valer', 814),\n",
              " ('haver', 812),\n",
              " ('pesquisar', 810),\n",
              " ('servir', 808),\n",
              " ('positivar', 806),\n",
              " ('cincia', 798),\n",
              " ('cair', 798),\n",
              " ('significar', 796),\n",
              " ('bora', 794),\n",
              " ('uip', 790),\n",
              " ('perceber', 784),\n",
              " ('grupar', 782),\n",
              " ('nmeros', 778),\n",
              " ('perto', 778),\n",
              " ('sempre', 774),\n",
              " ('histria', 772),\n",
              " ('mdia', 769),\n",
              " ('sobreviver', 768),\n",
              " ('tentar', 768),\n",
              " ('escola', 768),\n",
              " ('lcool', 766),\n",
              " ('evitar', 766),\n",
              " ('fake', 764),\n",
              " ('menino', 760),\n",
              " ('q', 759),\n",
              " ('mdicos', 756),\n",
              " ('foto', 752),\n",
              " ('preparar', 752),\n",
              " ('chim', 748),\n",
              " ('acordar', 747),\n",
              " ('v', 745),\n",
              " ('mulher', 739),\n",
              " ('perodo', 738),\n",
              " ('medicamentar', 734),\n",
              " ('proteger', 732),\n",
              " ('gua', 724),\n",
              " ('louco', 724),\n",
              " ('mo', 724),\n",
              " ('comear', 724),\n",
              " ('divulgar', 724),\n",
              " ('dr', 724),\n",
              " ('postar', 722),\n",
              " ('prefeito', 716),\n",
              " ('aonde', 714),\n",
              " ('empresar', 710),\n",
              " ('dengue', 706),\n",
              " ('encontrar', 704),\n",
              " ('tm', 704),\n",
              " ('diferena', 698),\n",
              " ('bater', 696),\n",
              " ('lugar', 696),\n",
              " ('ah', 696),\n",
              " ('ms', 694),\n",
              " ('tb', 692),\n",
              " ('rus', 692),\n",
              " ('provar', 690),\n",
              " ('motivar', 688),\n",
              " ('news', 687),\n",
              " ('picar', 686),\n",
              " ('milhes', 686),\n",
              " ('trazer', 686),\n",
              " ('nicar', 686),\n",
              " ('aps', 683),\n",
              " ('mscaras', 680),\n",
              " ('vender', 676),\n",
              " ('informar', 671),\n",
              " ('desculpar', 670),\n",
              " ('declarar', 668),\n",
              " ('cada', 664),\n",
              " ('difcil', 662),\n",
              " ('rt', 656),\n",
              " ('espalhar', 654),\n",
              " ('manifestao', 654),\n",
              " ('saudade', 652),\n",
              " ('alguem', 648),\n",
              " ('dentro', 647),\n",
              " ('comeou', 644),\n",
              " ('importante', 644),\n",
              " ('gel', 642),\n",
              " ('receitar', 642),\n",
              " ('lutar', 642),\n",
              " ('igual', 636),\n",
              " ('quase', 634),\n",
              " ('vontade', 634),\n",
              " ('ontem', 634),\n",
              " ('planar', 630),\n",
              " ('sus', 630),\n",
              " ('notcias', 628),\n",
              " ('beijar', 626),\n",
              " ('gnt', 626),\n",
              " ('interessar', 626),\n",
              " ('calar', 625),\n",
              " ('marcar', 624),\n",
              " ('ol', 624),\n",
              " ('adiantar', 622),\n",
              " ('deputar', 620),\n",
              " ('lidar', 620),\n",
              " ('stf', 620),\n",
              " ('vezar', 618),\n",
              " ('acaso', 614),\n",
              " ('ruim', 614),\n",
              " ('lula', 612),\n",
              " ('ar', 612),\n",
              " ('puta', 612),\n",
              " ('msm', 610),\n",
              " ('homem', 607),\n",
              " ('doar', 604),\n",
              " ('opinio', 604),\n",
              " ('foder', 604),\n",
              " ('velho', 602),\n",
              " ('imune', 602),\n",
              " ('questo', 600),\n",
              " ('cs', 600),\n",
              " ('esquerdo', 598),\n",
              " ('tv', 598),\n",
              " ('frio', 596),\n",
              " ('aparecer', 594),\n",
              " ('aguentar', 593),\n",
              " ('amanh', 592),\n",
              " ('est', 589),\n",
              " ('avisar', 588),\n",
              " ('noite', 588),\n",
              " ('cabelar', 584),\n",
              " ('transmitir', 584),\n",
              " ('lado', 582),\n",
              " ('ta', 580),\n",
              " ('impresso', 580),\n",
              " ('gado', 580),\n",
              " ('mercar', 580),\n",
              " ('campanha', 578),\n",
              " ('livrar', 578),\n",
              " ('incio', 576),\n",
              " ('portar', 576),\n",
              " ('chorar', 570),\n",
              " ('negar', 568),\n",
              " ('correr', 564),\n",
              " ('tamiflu', 564),\n",
              " ('afinal', 559),\n",
              " ('assunto', 558),\n",
              " ('porqu', 552),\n",
              " ('poltica', 551),\n",
              " ('chinês', 550),\n",
              " ('gravar', 550),\n",
              " ('contrair', 544),\n",
              " ('irar', 544),\n",
              " ('unir', 542),\n",
              " ('imprensar', 542),\n",
              " ('pobre', 538),\n",
              " ('aglomerao', 538),\n",
              " ('portugal', 538),\n",
              " ('votar', 532),\n",
              " ('soluo', 532),\n",
              " ('fato', 530),\n",
              " ('piar', 528),\n",
              " ('lavar', 528),\n",
              " ('final', 526),\n",
              " ('oq', 526),\n",
              " ('alm', 526),\n",
              " ('doido', 525),\n",
              " ('cortar', 524),\n",
              " ('viajar', 522),\n",
              " ('bito', 522),\n",
              " ('estudo', 520),\n",
              " ('isolar', 520),\n",
              " ('sonhar', 520),\n",
              " ('proibir', 518),\n",
              " ('aprender', 518),\n",
              " ('demais', 516),\n",
              " ('pontar', 516),\n",
              " ('enfrentar', 514),\n",
              " ('obrigar', 514),\n",
              " ('ocar', 514),\n",
              " ('melhorar', 512),\n",
              " ('idear', 512),\n",
              " ('escrever', 512),\n",
              " ('comorbidade', 508),\n",
              " ('fome', 506),\n",
              " ('cumprir', 504),\n",
              " ('negcio', 504),\n",
              " ('comemorar', 504),\n",
              " ('daqui', 502),\n",
              " ('dor', 500),\n",
              " ('eficaz', 500),\n",
              " ('informao', 498),\n",
              " ('vergonha', 498),\n",
              " ('qualquer', 496),\n",
              " ('dps', 494),\n",
              " ('sero', 494),\n",
              " ('demorar', 494),\n",
              " ('idiota', 492),\n",
              " ('twitter', 492),\n",
              " ('embora', 492),\n",
              " ('david', 491),\n",
              " ('faa', 489),\n",
              " ('escolher', 488),\n",
              " ('dormir', 488),\n",
              " ('sofrer', 488),\n",
              " ('the', 488),\n",
              " ('to', 486),\n",
              " ('custar', 486),\n",
              " ('certeza', 486),\n",
              " ('fao', 486),\n",
              " ('considerar', 486),\n",
              " ('papar', 486),\n",
              " ('concordar', 486),\n",
              " ('pt', 486),\n",
              " ('soltar', 484),\n",
              " ('terra', 482),\n",
              " ('recuperar', 482),\n",
              " ('trs', 482),\n",
              " ('mos', 482),\n",
              " ('matria', 481),\n",
              " ('ja', 480),\n",
              " ('internet', 479),\n",
              " ('maio', 478),\n",
              " ('aproveitar', 478),\n",
              " ('razo', 477),\n",
              " ('importar', 476),\n",
              " ('n', 476),\n",
              " ('juntar', 476),\n",
              " ('federal', 472),\n",
              " ('neste', 472),\n",
              " ('idoso', 472),\n",
              " ('aniversrio', 468),\n",
              " ('tio', 468),\n",
              " ('colateral', 466),\n",
              " ('produzir', 466),\n",
              " ('pois', 465),\n",
              " ('comunista', 464),\n",
              " ('redar', 462),\n",
              " ('alto', 460),\n",
              " ('nesta', 458),\n",
              " ('trocar', 456),\n",
              " ('jornalista', 452),\n",
              " ('x', 450),\n",
              " ('enquanto', 450),\n",
              " ('nisso', 450),\n",
              " ('nacional', 448),\n",
              " ('iriar', 444),\n",
              " ('cmg', 442),\n",
              " ('recomendar', 442),\n",
              " ('crianas', 440),\n",
              " ('protestar', 438),\n",
              " ('atar', 438),\n",
              " ('comparar', 438),\n",
              " ('jornal', 436),\n",
              " ('u', 436),\n",
              " ('preveno', 436),\n",
              " ('prevenir', 435),\n",
              " ('diferente', 433),\n",
              " ('palavra', 432),\n",
              " ('voce', 431),\n",
              " ('prximo', 431),\n",
              " ('mental', 430),\n",
              " ('comprovar', 430),\n",
              " ('uai', 430),\n",
              " ('noticiar', 430),\n",
              " ('doenas', 429),\n",
              " ('chance', 428),\n",
              " ('futebol', 428),\n",
              " ('atacar', 428),\n",
              " ('utilizar', 424),\n",
              " ('janeiro', 424),\n",
              " ('dria', 422),\n",
              " ('comrcio', 422),\n",
              " ('profissional', 422),\n",
              " ('frente', 422),\n",
              " ('armar', 416),\n",
              " ('surgir', 416),\n",
              " ('torcer', 416),\n",
              " ('praia', 416),\n",
              " ('tao', 416),\n",
              " ('ebola', 414),\n",
              " ('reclamar', 414),\n",
              " ('seriar', 412),\n",
              " ('enfiar', 412),\n",
              " ('rol', 409),\n",
              " ('durar', 408),\n",
              " ('controlar', 408),\n",
              " ('al', 406),\n",
              " ('eficcia', 406),\n",
              " ('jeito', 406),\n",
              " ('segurar', 402),\n",
              " ('pblico', 402),\n",
              " ('filmar', 402),\n",
              " ('tornar', 400),\n",
              " ('respirador', 400),\n",
              " ('geral', 400),\n",
              " ('eis', 398),\n",
              " ('ansiedade', 398),\n",
              " ('parir', 398),\n",
              " ('quo', 396),\n",
              " ('manifestaes', 396),\n",
              " ('papel', 394),\n",
              " ('indicar', 392),\n",
              " ('bolsar', 390),\n",
              " ('doria', 390),\n",
              " ('europa', 390),\n",
              " ('futurar', 390),\n",
              " ('prever', 390),\n",
              " ('aceitar', 390),\n",
              " ('bocar', 388),\n",
              " ('diminuir', 388),\n",
              " ('jovem', 388),\n",
              " ('global', 388),\n",
              " ('faltar', 388),\n",
              " ('tardar', 386),\n",
              " ('respostar', 384),\n",
              " ('artigo', 382),\n",
              " ('marketing', 380),\n",
              " ('atrs', 380),\n",
              " ('apresentar', 378),\n",
              " ('total', 378),\n",
              " ('crime', 378),\n",
              " ('vtimas', 378),\n",
              " ('claro', 377),\n",
              " ('exemplo', 377),\n",
              " ('impedir', 374),\n",
              " ('pblica', 374),\n",
              " ('rico', 372),\n",
              " ('visitar', 372),\n",
              " ('inteirar', 370),\n",
              " ('diante', 370),\n",
              " ('informaes', 369),\n",
              " ('contgio', 368),\n",
              " ('vertical', 368),\n",
              " ('inventar', 368),\n",
              " ('polticos', 368),\n",
              " ('terminar', 368),\n",
              " ('corretar', 366),\n",
              " ('show', 366),\n",
              " ('santo', 366),\n",
              " ('dvidas', 365),\n",
              " ('fumar', 364),\n",
              " ('queiroz', 364),\n",
              " ('conter', 364),\n",
              " ('msica', 362),\n",
              " ('sumir', 360),\n",
              " ('entrevisto', 360),\n",
              " ('insistir', 360),\n",
              " ('comentar', 360),\n",
              " ('leito', 358),\n",
              " ('preferir', 358),\n",
              " ('lei', 356),\n",
              " ('rj', 356),\n",
              " ('adiar', 356),\n",
              " ('fonte', 354),\n",
              " ('junto', 354),\n",
              " ('meter', 352),\n",
              " ('segundar', 352),\n",
              " ('aberto', 350),\n",
              " ('montar', 350),\n",
              " ('salrio', 348),\n",
              " ('febre', 346),\n",
              " ('criticar', 346),\n",
              " ('empregar', 346),\n",
              " ('pronto', 346),\n",
              " ('vencer', 346),\n",
              " ('segundo', 346),\n",
              " ('curvo', 346),\n",
              " ('produo', 344),\n",
              " ('histeria', 344),\n",
              " ('tossir', 344),\n",
              " ('rpido', 342),\n",
              " ('salvo', 342),\n",
              " ('r', 341),\n",
              " ('duvidar', 340),\n",
              " ('preso', 340),\n",
              " ('tocar', 338),\n",
              " ('focar', 338),\n",
              " ('carro', 338),\n",
              " ('base', 338),\n",
              " ('estranhar', 338),\n",
              " ('bolar', 338),\n",
              " ('arrumar', 338),\n",
              " ('corpo', 336),\n",
              " ('sistema', 336),\n",
              " ('cansar', 336),\n",
              " ('fantasiar', 334),\n",
              " ('poltico', 334),\n",
              " ('brincadeira', 333),\n",
              " ('militar', 332),\n",
              " ('perigoso', 332),\n",
              " ('churrasco', 332),\n",
              " ('coronga', 332),\n",
              " ('caos', 332),\n",
              " ('humano', 332),\n",
              " ('srie', 330),\n",
              " ('internar', 330),\n",
              " ('bonito', 330),\n",
              " ('cheio', 329),\n",
              " ('necessidade', 328),\n",
              " ('pqp', 328),\n",
              " ('corrente', 326),\n",
              " ('animar', 326),\n",
              " ('restar', 324),\n",
              " ('destinar', 324),\n",
              " ('online', 322),\n",
              " ('medicar', 322),\n",
              " ('subir', 322),\n",
              " ('qdo', 320),\n",
              " ('kkkkk', 320),\n",
              " ('eai', 320),\n",
              " ('legal', 318),\n",
              " ('pnico', 318),\n",
              " ('igreja', 318),\n",
              " ('celular', 318),\n",
              " ('taxar', 318),\n",
              " ('contato', 318),\n",
              " ('temer', 316),\n",
              " ('ue', 316),\n",
              " ('baixo', 316),\n",
              " ('drogar', 314),\n",
              " ('dificuldade', 314),\n",
              " ('cobrar', 314),\n",
              " ('viagem', 312),\n",
              " ('fdp', 312),\n",
              " ('jair', 312),\n",
              " ('amg', 310),\n",
              " ('umar', 310),\n",
              " ('cientfica', 310),\n",
              " ('anunciar', 310),\n",
              " ('jurar', 308),\n",
              " ('milhar', 308),\n",
              " ('br', 308),\n",
              " ('uti', 308),\n",
              " ('decidir', 308),\n",
              " ('curtir', 308),\n",
              " ('cantar', 306),\n",
              " ('comea', 306),\n",
              " ('brincar', 306),\n",
              " ('piorar', 306),\n",
              " ('sacar', 306),\n",
              " ('derrubar', 304),\n",
              " ('imbecil', 304),\n",
              " ('mds', 304),\n",
              " ('feito', 304),\n",
              " ('bostar', 304),\n",
              " ('aes', 304),\n",
              " ('witzel', 304),\n",
              " ('programar', 302),\n",
              " ('fase', 302),\n",
              " ('impactar', 302),\n",
              " ('absurdo', 302),\n",
              " ('genocida', 302),\n",
              " ('evento', 302),\n",
              " ('entregar', 302),\n",
              " ('plano', 302),\n",
              " ('garantir', 302),\n",
              " ('cientista', 300),\n",
              " ('caminhar', 300),\n",
              " ('gastar', 298),\n",
              " ('apanhar', 298),\n",
              " ('talvez', 298),\n",
              " ('humanidade', 296),\n",
              " ('assinar', 296),\n",
              " ('triste', 296),\n",
              " ('reparar', 296),\n",
              " ('auxlio', 296),\n",
              " ('realidade', 296),\n",
              " ('malucar', 296),\n",
              " ('meme', 295),\n",
              " ('super', 294),\n",
              " ('botar', 294),\n",
              " ('mirar', 294),\n",
              " ('f', 293),\n",
              " ('negro', 292),\n",
              " ('planeta', 292),\n",
              " ('aprovar', 292),\n",
              " ('estao', 292),\n",
              " ('bh', 290),\n",
              " ('mt', 289),\n",
              " ('moer', 288),\n",
              " ('pros', 288),\n",
              " ('ceder', 288),\n",
              " ('trabalhador', 286),\n",
              " ('prxima', 286),\n",
              " ('engraado', 286),\n",
              " ('desejar', 286),\n",
              " ('peno', 286),\n",
              " ('pronunciamento', 285),\n",
              " ('datar', 284),\n",
              " ('possibilidade', 284),\n",
              " ('domingo', 284),\n",
              " ('especialista', 284),\n",
              " ('adivinho', 284),\n",
              " ('baixar', 284),\n",
              " ('massa', 284),\n",
              " ('vao', 284),\n",
              " ('ces', 284),\n",
              " ('comum', 282),\n",
              " ('academiar', 282),\n",
              " ('assumir', 282),\n",
              " ('dono', 282),\n",
              " ('maconha', 282),\n",
              " ('parente', 282),\n",
              " ('acompanhar', 282),\n",
              " ('suspender', 280),\n",
              " ('ocorrer', 280),\n",
              " ('zincar', 280),\n",
              " ('procurar', 278),\n",
              " ('discutir', 278),\n",
              " ('negativar', 278),\n",
              " ('publicar', 276),\n",
              " ('netflix', 276),\n",
              " ('lotar', 276),\n",
              " ('b', 276),\n",
              " ('comido', 276),\n",
              " ('conversar', 276),\n",
              " ('escutar', 274),\n",
              " ('centrar', 274),\n",
              " ('presar', 274),\n",
              " ('ensinar', 274),\n",
              " ('td', 274),\n",
              " ('coragem', 274),\n",
              " ('kkkk', 274),\n",
              " ('senador', 274),\n",
              " ('controlo', 274),\n",
              " ('cade', 273),\n",
              " ('somente', 272),\n",
              " ('retardar', 272),\n",
              " ('laboratrio', 271),\n",
              " ('cagar', 270),\n",
              " ('morcegar', 270),\n",
              " ('atual', 270),\n",
              " ('proceder', 270),\n",
              " ('abril', 270),\n",
              " ('reunio', 270),\n",
              " ('moral', 268),\n",
              " ('mdica', 266),\n",
              " ('desesperar', 266),\n",
              " ('permitir', 264),\n",
              " ('oh', 264),\n",
              " ('gato', 264),\n",
              " ('necessrio', 262),\n",
              " ('medicinar', 262),\n",
              " ('comeo', 262),\n",
              " ('opar', 262),\n",
              " ('iniciar', 262),\n",
              " ('po', 262),\n",
              " ('estocar', 262),\n",
              " ('agir', 262),\n",
              " ('tweet', 262),\n",
              " ('familiar', 262),\n",
              " ('buscar', 260),\n",
              " ('fcil', 260),\n",
              " ('devir', 260),\n",
              " ('protesto', 260),\n",
              " ('banco', 260),\n",
              " ('importncia', 258),\n",
              " ('congresso', 258),\n",
              " ('brigar', 258),\n",
              " ('exrcito', 258),\n",
              " ('jesus', 258),\n",
              " ('ministro', 257),\n",
              " ('propaganda', 256),\n",
              " ('japo', 256),\n",
              " ('voces', 256),\n",
              " ('nvel', 256),\n",
              " ('resenhar', 256),\n",
              " ('agradecer', 256),\n",
              " ('diabo', 256),\n",
              " ('vrios', 255),\n",
              " ('cientfico', 254),\n",
              " ('preocupao', 254),\n",
              " ('filar', 254),\n",
              " ('enviar', 254),\n",
              " ('pau', 254),\n",
              " ('suficiente', 254),\n",
              " ('fugir', 252),\n",
              " ('discursar', 252),\n",
              " ('americano', 252),\n",
              " ('reduzir', 252),\n",
              " ('shopping', 252),\n",
              " ('teoria', 252),\n",
              " ('mensagem', 252),\n",
              " ('questionar', 252),\n",
              " ('combinar', 252),\n",
              " ('nesses', 252),\n",
              " ('golpe', 251),\n",
              " ('atingir', 250),\n",
              " ('desenhar', 250),\n",
              " ('humanar', 250),\n",
              " ('ignorar', 250),\n",
              " ('down', 250),\n",
              " ('debater', 250),\n",
              " ('joo', 250),\n",
              " ('qnd', 250),\n",
              " ('caixa', 250),\n",
              " ('malria', 250),\n",
              " ('cnn', 249),\n",
              " ('jogo', 249),\n",
              " ('basear', 248),\n",
              " ('farmcias', 248),\n",
              " ('turma', 248),\n",
              " ('vdd', 248),\n",
              " ('mudo', 246),\n",
              " ('certo', 246),\n",
              " ('contaminao', 246),\n",
              " ('cima', 246),\n",
              " ('serase', 244),\n",
              " ('orar', 244),\n",
              " ('onda', 244),\n",
              " ('medicamento', 244),\n",
              " ('norte', 244),\n",
              " ('vestir', 242),\n",
              " ('pautar', 242),\n",
              " ('faculdade', 242),\n",
              " ('novamente', 242),\n",
              " ('desempregar', 242),\n",
              " ('lixar', 242),\n",
              " ('criana', 242),\n",
              " ('dlar', 241),\n",
              " ('ex', 241),\n",
              " ('ditadura', 240),\n",
              " ('poxa', 240),\n",
              " ('basto', 240),\n",
              " ('autorizar', 240),\n",
              " ('espirrar', 240),\n",
              " ('reunir', 240),\n",
              " ('lock', 240),\n",
              " ('dosar', 238),\n",
              " ('realizar', 238),\n",
              " ('atestar', 238),\n",
              " ('nibio', 238),\n",
              " ('quartar', 238),\n",
              " ('simples', 236),\n",
              " ('desta', 236),\n",
              " ('afirmar', 236),\n",
              " ('recusar', 236),\n",
              " ('roupar', 236),\n",
              " ('admitir', 236),\n",
              " ('polcia', 234),\n",
              " ('maro', 234),\n",
              " ('bairro', 234),\n",
              " ('partidrio', 232),\n",
              " ('bandido', 232),\n",
              " ('atender', 232),\n",
              " ('coincidncia', 232),\n",
              " ('teich', 232),\n",
              " ('ltimas', 232),\n",
              " ('jogador', 232),\n",
              " ('frase', 230),\n",
              " ('loja', 230),\n",
              " ('general', 230),\n",
              " ('roubar', 230),\n",
              " ('gerar', 230),\n",
              " ('essencial', 228),\n",
              " ('valor', 228),\n",
              " ('sao', 228),\n",
              " ('milho', 228),\n",
              " ('linha', 228),\n",
              " ('jejum', 228),\n",
              " ('apocalipse', 228),\n",
              " ('minar', 228),\n",
              " ('impeachment', 226),\n",
              " ('medicao', 226),\n",
              " ('p/', 226),\n",
              " ('folhar', 226),\n",
              " ('peste', 226),\n",
              " ('aviar', 226),\n",
              " ('querido', 226),\n",
              " ('instagram', 224),\n",
              " ('nascer', 224),\n",
              " ('confiar', 224),\n",
              " ('exagerar', 224),\n",
              " ('beleza', 224),\n",
              " ('infeco', 224),\n",
              " ...]"
            ]
          },
          "metadata": {
            "tags": []
          },
          "execution_count": 112
        }
      ]
    },
    {
      "cell_type": "code",
      "metadata": {
        "id": "800YorMaeFmR"
      },
      "source": [
        "# from nltk.probability import FreqDist\n",
        "\n",
        "# texto = [\"eu gosto de carro\",\" as vezes o carro quebra\",\"eu gosto de bolo \",\" bolo engorda\"]\n",
        "# texto = \" \".join(texto)\n",
        "# fdist = FreqDist([w.lower() for w in texto.split()])\n",
        "# for sentence in nltk.tokenize.sent_tokenize(texto):\n",
        "#   for word in nltk.tokenize.word_tokenize(sentence):\n",
        "#     fdist[word] += 1\n",
        "\n",
        "# fdist"
      ],
      "execution_count": null,
      "outputs": []
    },
    {
      "cell_type": "markdown",
      "metadata": {
        "id": "TZTc9V2kPOyO"
      },
      "source": [
        "## 2.2 Medicamento"
      ]
    },
    {
      "cell_type": "markdown",
      "metadata": {
        "id": "MJSkVibOPSe1"
      },
      "source": [
        "## 2.3 Organizações"
      ]
    },
    {
      "cell_type": "markdown",
      "metadata": {
        "id": "3r2DX_jSPVPl"
      },
      "source": [
        "## 2.4 Pessoas"
      ]
    },
    {
      "cell_type": "code",
      "metadata": {
        "id": "gDuWs1dMFcmU",
        "outputId": "e9ba9ffc-f00f-4182-acf4-c95f43908f7f",
        "colab": {
          "base_uri": "https://localhost:8080/",
          "height": 138
        }
      },
      "source": [
        "total_perguntas.head()"
      ],
      "execution_count": 8,
      "outputs": [
        {
          "output_type": "execute_result",
          "data": {
            "text/plain": [
              "classe\n",
              "doenca         59963\n",
              "entidade        2009\n",
              "outros        107914\n",
              "pessoa         11178\n",
              "tratamento     17194\n",
              "Name: classe, dtype: int64"
            ]
          },
          "metadata": {
            "tags": []
          },
          "execution_count": 8
        }
      ]
    },
    {
      "cell_type": "code",
      "metadata": {
        "id": "N-Ne6CKDD8bQ",
        "outputId": "2378aa1d-a3d7-4f0e-844c-464e4c292e1d",
        "colab": {
          "base_uri": "https://localhost:8080/",
          "height": 597
        }
      },
      "source": [
        "# import seaborn as sns\n",
        "# sns.set_theme(style=\"darkgrid\")\n",
        "\n",
        "# Load an example dataset with long-form data\n",
        "\n",
        "# Plot the responses for different events and regions\n",
        "# sns.lineplot(x=\"data_inversa\", y=\"cont_tweets\",\n",
        "#             data=dados_sumario)"
      ],
      "execution_count": 11,
      "outputs": [
        {
          "output_type": "error",
          "ename": "TypeError",
          "evalue": "ignored",
          "traceback": [
            "\u001b[0;31m---------------------------------------------------------------------------\u001b[0m",
            "\u001b[0;31mTypeError\u001b[0m                                 Traceback (most recent call last)",
            "\u001b[0;32m<ipython-input-11-0b1330d5fef0>\u001b[0m in \u001b[0;36m<module>\u001b[0;34m()\u001b[0m\n\u001b[1;32m      6\u001b[0m \u001b[0;31m# Plot the responses for different events and regions\u001b[0m\u001b[0;34m\u001b[0m\u001b[0;34m\u001b[0m\u001b[0;34m\u001b[0m\u001b[0m\n\u001b[1;32m      7\u001b[0m sns.lineplot(x=\"data_inversa\", y=\"cont_tweets\",\n\u001b[0;32m----> 8\u001b[0;31m              data=dados_sumario)\n\u001b[0m",
            "\u001b[0;32m/usr/local/lib/python3.6/dist-packages/seaborn/_decorators.py\u001b[0m in \u001b[0;36minner_f\u001b[0;34m(*args, **kwargs)\u001b[0m\n\u001b[1;32m     44\u001b[0m             )\n\u001b[1;32m     45\u001b[0m         \u001b[0mkwargs\u001b[0m\u001b[0;34m.\u001b[0m\u001b[0mupdate\u001b[0m\u001b[0;34m(\u001b[0m\u001b[0;34m{\u001b[0m\u001b[0mk\u001b[0m\u001b[0;34m:\u001b[0m \u001b[0marg\u001b[0m \u001b[0;32mfor\u001b[0m \u001b[0mk\u001b[0m\u001b[0;34m,\u001b[0m \u001b[0marg\u001b[0m \u001b[0;32min\u001b[0m \u001b[0mzip\u001b[0m\u001b[0;34m(\u001b[0m\u001b[0msig\u001b[0m\u001b[0;34m.\u001b[0m\u001b[0mparameters\u001b[0m\u001b[0;34m,\u001b[0m \u001b[0margs\u001b[0m\u001b[0;34m)\u001b[0m\u001b[0;34m}\u001b[0m\u001b[0;34m)\u001b[0m\u001b[0;34m\u001b[0m\u001b[0;34m\u001b[0m\u001b[0m\n\u001b[0;32m---> 46\u001b[0;31m         \u001b[0;32mreturn\u001b[0m \u001b[0mf\u001b[0m\u001b[0;34m(\u001b[0m\u001b[0;34m**\u001b[0m\u001b[0mkwargs\u001b[0m\u001b[0;34m)\u001b[0m\u001b[0;34m\u001b[0m\u001b[0;34m\u001b[0m\u001b[0m\n\u001b[0m\u001b[1;32m     47\u001b[0m     \u001b[0;32mreturn\u001b[0m \u001b[0minner_f\u001b[0m\u001b[0;34m\u001b[0m\u001b[0;34m\u001b[0m\u001b[0m\n\u001b[1;32m     48\u001b[0m \u001b[0;34m\u001b[0m\u001b[0m\n",
            "\u001b[0;32m/usr/local/lib/python3.6/dist-packages/seaborn/relational.py\u001b[0m in \u001b[0;36mlineplot\u001b[0;34m(x, y, hue, size, style, data, palette, hue_order, hue_norm, sizes, size_order, size_norm, dashes, markers, style_order, units, estimator, ci, n_boot, seed, sort, err_style, err_kws, legend, ax, **kwargs)\u001b[0m\n\u001b[1;32m    694\u001b[0m     \u001b[0mp\u001b[0m\u001b[0;34m.\u001b[0m\u001b[0m_attach\u001b[0m\u001b[0;34m(\u001b[0m\u001b[0max\u001b[0m\u001b[0;34m)\u001b[0m\u001b[0;34m\u001b[0m\u001b[0;34m\u001b[0m\u001b[0m\n\u001b[1;32m    695\u001b[0m \u001b[0;34m\u001b[0m\u001b[0m\n\u001b[0;32m--> 696\u001b[0;31m     \u001b[0mp\u001b[0m\u001b[0;34m.\u001b[0m\u001b[0mplot\u001b[0m\u001b[0;34m(\u001b[0m\u001b[0max\u001b[0m\u001b[0;34m,\u001b[0m \u001b[0mkwargs\u001b[0m\u001b[0;34m)\u001b[0m\u001b[0;34m\u001b[0m\u001b[0;34m\u001b[0m\u001b[0m\n\u001b[0m\u001b[1;32m    697\u001b[0m     \u001b[0;32mreturn\u001b[0m \u001b[0max\u001b[0m\u001b[0;34m\u001b[0m\u001b[0;34m\u001b[0m\u001b[0m\n\u001b[1;32m    698\u001b[0m \u001b[0;34m\u001b[0m\u001b[0m\n",
            "\u001b[0;32m/usr/local/lib/python3.6/dist-packages/seaborn/relational.py\u001b[0m in \u001b[0;36mplot\u001b[0;34m(self, ax, kws)\u001b[0m\n\u001b[1;32m    520\u001b[0m                     \u001b[0max\u001b[0m\u001b[0;34m.\u001b[0m\u001b[0mplot\u001b[0m\u001b[0;34m(\u001b[0m\u001b[0mx\u001b[0m\u001b[0;34m[\u001b[0m\u001b[0mrows\u001b[0m\u001b[0;34m]\u001b[0m\u001b[0;34m,\u001b[0m \u001b[0my\u001b[0m\u001b[0;34m[\u001b[0m\u001b[0mrows\u001b[0m\u001b[0;34m]\u001b[0m\u001b[0;34m,\u001b[0m \u001b[0;34m**\u001b[0m\u001b[0mkws\u001b[0m\u001b[0;34m)\u001b[0m\u001b[0;34m\u001b[0m\u001b[0;34m\u001b[0m\u001b[0m\n\u001b[1;32m    521\u001b[0m             \u001b[0;32melse\u001b[0m\u001b[0;34m:\u001b[0m\u001b[0;34m\u001b[0m\u001b[0;34m\u001b[0m\u001b[0m\n\u001b[0;32m--> 522\u001b[0;31m                 \u001b[0mline\u001b[0m\u001b[0;34m,\u001b[0m \u001b[0;34m=\u001b[0m \u001b[0max\u001b[0m\u001b[0;34m.\u001b[0m\u001b[0mplot\u001b[0m\u001b[0;34m(\u001b[0m\u001b[0mx\u001b[0m\u001b[0;34m,\u001b[0m \u001b[0my\u001b[0m\u001b[0;34m,\u001b[0m \u001b[0;34m**\u001b[0m\u001b[0mkws\u001b[0m\u001b[0;34m)\u001b[0m\u001b[0;34m\u001b[0m\u001b[0;34m\u001b[0m\u001b[0m\n\u001b[0m\u001b[1;32m    523\u001b[0m \u001b[0;34m\u001b[0m\u001b[0m\n\u001b[1;32m    524\u001b[0m             \u001b[0;31m# --- Draw the confidence intervals\u001b[0m\u001b[0;34m\u001b[0m\u001b[0;34m\u001b[0m\u001b[0;34m\u001b[0m\u001b[0m\n",
            "\u001b[0;32m/usr/local/lib/python3.6/dist-packages/matplotlib/axes/_axes.py\u001b[0m in \u001b[0;36mplot\u001b[0;34m(self, scalex, scaley, data, *args, **kwargs)\u001b[0m\n\u001b[1;32m   1647\u001b[0m         \u001b[0mlines\u001b[0m \u001b[0;34m=\u001b[0m \u001b[0;34m[\u001b[0m\u001b[0;34m*\u001b[0m\u001b[0mself\u001b[0m\u001b[0;34m.\u001b[0m\u001b[0m_get_lines\u001b[0m\u001b[0;34m(\u001b[0m\u001b[0;34m*\u001b[0m\u001b[0margs\u001b[0m\u001b[0;34m,\u001b[0m \u001b[0mdata\u001b[0m\u001b[0;34m=\u001b[0m\u001b[0mdata\u001b[0m\u001b[0;34m,\u001b[0m \u001b[0;34m**\u001b[0m\u001b[0mkwargs\u001b[0m\u001b[0;34m)\u001b[0m\u001b[0;34m]\u001b[0m\u001b[0;34m\u001b[0m\u001b[0;34m\u001b[0m\u001b[0m\n\u001b[1;32m   1648\u001b[0m         \u001b[0;32mfor\u001b[0m \u001b[0mline\u001b[0m \u001b[0;32min\u001b[0m \u001b[0mlines\u001b[0m\u001b[0;34m:\u001b[0m\u001b[0;34m\u001b[0m\u001b[0;34m\u001b[0m\u001b[0m\n\u001b[0;32m-> 1649\u001b[0;31m             \u001b[0mself\u001b[0m\u001b[0;34m.\u001b[0m\u001b[0madd_line\u001b[0m\u001b[0;34m(\u001b[0m\u001b[0mline\u001b[0m\u001b[0;34m)\u001b[0m\u001b[0;34m\u001b[0m\u001b[0;34m\u001b[0m\u001b[0m\n\u001b[0m\u001b[1;32m   1650\u001b[0m         \u001b[0mself\u001b[0m\u001b[0;34m.\u001b[0m\u001b[0m_request_autoscale_view\u001b[0m\u001b[0;34m(\u001b[0m\u001b[0mscalex\u001b[0m\u001b[0;34m=\u001b[0m\u001b[0mscalex\u001b[0m\u001b[0;34m,\u001b[0m \u001b[0mscaley\u001b[0m\u001b[0;34m=\u001b[0m\u001b[0mscaley\u001b[0m\u001b[0;34m)\u001b[0m\u001b[0;34m\u001b[0m\u001b[0;34m\u001b[0m\u001b[0m\n\u001b[1;32m   1651\u001b[0m         \u001b[0;32mreturn\u001b[0m \u001b[0mlines\u001b[0m\u001b[0;34m\u001b[0m\u001b[0;34m\u001b[0m\u001b[0m\n",
            "\u001b[0;32m/usr/local/lib/python3.6/dist-packages/matplotlib/axes/_base.py\u001b[0m in \u001b[0;36madd_line\u001b[0;34m(self, line)\u001b[0m\n\u001b[1;32m   1848\u001b[0m             \u001b[0mline\u001b[0m\u001b[0;34m.\u001b[0m\u001b[0mset_clip_path\u001b[0m\u001b[0;34m(\u001b[0m\u001b[0mself\u001b[0m\u001b[0;34m.\u001b[0m\u001b[0mpatch\u001b[0m\u001b[0;34m)\u001b[0m\u001b[0;34m\u001b[0m\u001b[0;34m\u001b[0m\u001b[0m\n\u001b[1;32m   1849\u001b[0m \u001b[0;34m\u001b[0m\u001b[0m\n\u001b[0;32m-> 1850\u001b[0;31m         \u001b[0mself\u001b[0m\u001b[0;34m.\u001b[0m\u001b[0m_update_line_limits\u001b[0m\u001b[0;34m(\u001b[0m\u001b[0mline\u001b[0m\u001b[0;34m)\u001b[0m\u001b[0;34m\u001b[0m\u001b[0;34m\u001b[0m\u001b[0m\n\u001b[0m\u001b[1;32m   1851\u001b[0m         \u001b[0;32mif\u001b[0m \u001b[0;32mnot\u001b[0m \u001b[0mline\u001b[0m\u001b[0;34m.\u001b[0m\u001b[0mget_label\u001b[0m\u001b[0;34m(\u001b[0m\u001b[0;34m)\u001b[0m\u001b[0;34m:\u001b[0m\u001b[0;34m\u001b[0m\u001b[0;34m\u001b[0m\u001b[0m\n\u001b[1;32m   1852\u001b[0m             \u001b[0mline\u001b[0m\u001b[0;34m.\u001b[0m\u001b[0mset_label\u001b[0m\u001b[0;34m(\u001b[0m\u001b[0;34m'_line%d'\u001b[0m \u001b[0;34m%\u001b[0m \u001b[0mlen\u001b[0m\u001b[0;34m(\u001b[0m\u001b[0mself\u001b[0m\u001b[0;34m.\u001b[0m\u001b[0mlines\u001b[0m\u001b[0;34m)\u001b[0m\u001b[0;34m)\u001b[0m\u001b[0;34m\u001b[0m\u001b[0;34m\u001b[0m\u001b[0m\n",
            "\u001b[0;32m/usr/local/lib/python3.6/dist-packages/matplotlib/axes/_base.py\u001b[0m in \u001b[0;36m_update_line_limits\u001b[0;34m(self, line)\u001b[0m\n\u001b[1;32m   1870\u001b[0m         \u001b[0mFigures\u001b[0m \u001b[0mout\u001b[0m \u001b[0mthe\u001b[0m \u001b[0mdata\u001b[0m \u001b[0mlimit\u001b[0m \u001b[0mof\u001b[0m \u001b[0mthe\u001b[0m \u001b[0mgiven\u001b[0m \u001b[0mline\u001b[0m\u001b[0;34m,\u001b[0m \u001b[0mupdating\u001b[0m \u001b[0mself\u001b[0m\u001b[0;34m.\u001b[0m\u001b[0mdataLim\u001b[0m\u001b[0;34m.\u001b[0m\u001b[0;34m\u001b[0m\u001b[0;34m\u001b[0m\u001b[0m\n\u001b[1;32m   1871\u001b[0m         \"\"\"\n\u001b[0;32m-> 1872\u001b[0;31m         \u001b[0mpath\u001b[0m \u001b[0;34m=\u001b[0m \u001b[0mline\u001b[0m\u001b[0;34m.\u001b[0m\u001b[0mget_path\u001b[0m\u001b[0;34m(\u001b[0m\u001b[0;34m)\u001b[0m\u001b[0;34m\u001b[0m\u001b[0;34m\u001b[0m\u001b[0m\n\u001b[0m\u001b[1;32m   1873\u001b[0m         \u001b[0;32mif\u001b[0m \u001b[0mpath\u001b[0m\u001b[0;34m.\u001b[0m\u001b[0mvertices\u001b[0m\u001b[0;34m.\u001b[0m\u001b[0msize\u001b[0m \u001b[0;34m==\u001b[0m \u001b[0;36m0\u001b[0m\u001b[0;34m:\u001b[0m\u001b[0;34m\u001b[0m\u001b[0;34m\u001b[0m\u001b[0m\n\u001b[1;32m   1874\u001b[0m             \u001b[0;32mreturn\u001b[0m\u001b[0;34m\u001b[0m\u001b[0;34m\u001b[0m\u001b[0m\n",
            "\u001b[0;32m/usr/local/lib/python3.6/dist-packages/matplotlib/lines.py\u001b[0m in \u001b[0;36mget_path\u001b[0;34m(self)\u001b[0m\n\u001b[1;32m   1025\u001b[0m         \"\"\"\n\u001b[1;32m   1026\u001b[0m         \u001b[0;32mif\u001b[0m \u001b[0mself\u001b[0m\u001b[0;34m.\u001b[0m\u001b[0m_invalidy\u001b[0m \u001b[0;32mor\u001b[0m \u001b[0mself\u001b[0m\u001b[0;34m.\u001b[0m\u001b[0m_invalidx\u001b[0m\u001b[0;34m:\u001b[0m\u001b[0;34m\u001b[0m\u001b[0;34m\u001b[0m\u001b[0m\n\u001b[0;32m-> 1027\u001b[0;31m             \u001b[0mself\u001b[0m\u001b[0;34m.\u001b[0m\u001b[0mrecache\u001b[0m\u001b[0;34m(\u001b[0m\u001b[0;34m)\u001b[0m\u001b[0;34m\u001b[0m\u001b[0;34m\u001b[0m\u001b[0m\n\u001b[0m\u001b[1;32m   1028\u001b[0m         \u001b[0;32mreturn\u001b[0m \u001b[0mself\u001b[0m\u001b[0;34m.\u001b[0m\u001b[0m_path\u001b[0m\u001b[0;34m\u001b[0m\u001b[0;34m\u001b[0m\u001b[0m\n\u001b[1;32m   1029\u001b[0m \u001b[0;34m\u001b[0m\u001b[0m\n",
            "\u001b[0;32m/usr/local/lib/python3.6/dist-packages/matplotlib/lines.py\u001b[0m in \u001b[0;36mrecache\u001b[0;34m(self, always)\u001b[0m\n\u001b[1;32m    668\u001b[0m         \u001b[0;32mif\u001b[0m \u001b[0malways\u001b[0m \u001b[0;32mor\u001b[0m \u001b[0mself\u001b[0m\u001b[0;34m.\u001b[0m\u001b[0m_invalidx\u001b[0m\u001b[0;34m:\u001b[0m\u001b[0;34m\u001b[0m\u001b[0;34m\u001b[0m\u001b[0m\n\u001b[1;32m    669\u001b[0m             \u001b[0mxconv\u001b[0m \u001b[0;34m=\u001b[0m \u001b[0mself\u001b[0m\u001b[0;34m.\u001b[0m\u001b[0mconvert_xunits\u001b[0m\u001b[0;34m(\u001b[0m\u001b[0mself\u001b[0m\u001b[0;34m.\u001b[0m\u001b[0m_xorig\u001b[0m\u001b[0;34m)\u001b[0m\u001b[0;34m\u001b[0m\u001b[0;34m\u001b[0m\u001b[0m\n\u001b[0;32m--> 670\u001b[0;31m             \u001b[0mx\u001b[0m \u001b[0;34m=\u001b[0m \u001b[0m_to_unmasked_float_array\u001b[0m\u001b[0;34m(\u001b[0m\u001b[0mxconv\u001b[0m\u001b[0;34m)\u001b[0m\u001b[0;34m.\u001b[0m\u001b[0mravel\u001b[0m\u001b[0;34m(\u001b[0m\u001b[0;34m)\u001b[0m\u001b[0;34m\u001b[0m\u001b[0;34m\u001b[0m\u001b[0m\n\u001b[0m\u001b[1;32m    671\u001b[0m         \u001b[0;32melse\u001b[0m\u001b[0;34m:\u001b[0m\u001b[0;34m\u001b[0m\u001b[0;34m\u001b[0m\u001b[0m\n\u001b[1;32m    672\u001b[0m             \u001b[0mx\u001b[0m \u001b[0;34m=\u001b[0m \u001b[0mself\u001b[0m\u001b[0;34m.\u001b[0m\u001b[0m_x\u001b[0m\u001b[0;34m\u001b[0m\u001b[0;34m\u001b[0m\u001b[0m\n",
            "\u001b[0;32m/usr/local/lib/python3.6/dist-packages/matplotlib/cbook/__init__.py\u001b[0m in \u001b[0;36m_to_unmasked_float_array\u001b[0;34m(x)\u001b[0m\n\u001b[1;32m   1315\u001b[0m         \u001b[0;32mreturn\u001b[0m \u001b[0mnp\u001b[0m\u001b[0;34m.\u001b[0m\u001b[0mma\u001b[0m\u001b[0;34m.\u001b[0m\u001b[0masarray\u001b[0m\u001b[0;34m(\u001b[0m\u001b[0mx\u001b[0m\u001b[0;34m,\u001b[0m \u001b[0mfloat\u001b[0m\u001b[0;34m)\u001b[0m\u001b[0;34m.\u001b[0m\u001b[0mfilled\u001b[0m\u001b[0;34m(\u001b[0m\u001b[0mnp\u001b[0m\u001b[0;34m.\u001b[0m\u001b[0mnan\u001b[0m\u001b[0;34m)\u001b[0m\u001b[0;34m\u001b[0m\u001b[0;34m\u001b[0m\u001b[0m\n\u001b[1;32m   1316\u001b[0m     \u001b[0;32melse\u001b[0m\u001b[0;34m:\u001b[0m\u001b[0;34m\u001b[0m\u001b[0;34m\u001b[0m\u001b[0m\n\u001b[0;32m-> 1317\u001b[0;31m         \u001b[0;32mreturn\u001b[0m \u001b[0mnp\u001b[0m\u001b[0;34m.\u001b[0m\u001b[0masarray\u001b[0m\u001b[0;34m(\u001b[0m\u001b[0mx\u001b[0m\u001b[0;34m,\u001b[0m \u001b[0mfloat\u001b[0m\u001b[0;34m)\u001b[0m\u001b[0;34m\u001b[0m\u001b[0;34m\u001b[0m\u001b[0m\n\u001b[0m\u001b[1;32m   1318\u001b[0m \u001b[0;34m\u001b[0m\u001b[0m\n\u001b[1;32m   1319\u001b[0m \u001b[0;34m\u001b[0m\u001b[0m\n",
            "\u001b[0;32m/usr/local/lib/python3.6/dist-packages/numpy/core/_asarray.py\u001b[0m in \u001b[0;36masarray\u001b[0;34m(a, dtype, order)\u001b[0m\n\u001b[1;32m     83\u001b[0m \u001b[0;34m\u001b[0m\u001b[0m\n\u001b[1;32m     84\u001b[0m     \"\"\"\n\u001b[0;32m---> 85\u001b[0;31m     \u001b[0;32mreturn\u001b[0m \u001b[0marray\u001b[0m\u001b[0;34m(\u001b[0m\u001b[0ma\u001b[0m\u001b[0;34m,\u001b[0m \u001b[0mdtype\u001b[0m\u001b[0;34m,\u001b[0m \u001b[0mcopy\u001b[0m\u001b[0;34m=\u001b[0m\u001b[0;32mFalse\u001b[0m\u001b[0;34m,\u001b[0m \u001b[0morder\u001b[0m\u001b[0;34m=\u001b[0m\u001b[0morder\u001b[0m\u001b[0;34m)\u001b[0m\u001b[0;34m\u001b[0m\u001b[0;34m\u001b[0m\u001b[0m\n\u001b[0m\u001b[1;32m     86\u001b[0m \u001b[0;34m\u001b[0m\u001b[0m\n\u001b[1;32m     87\u001b[0m \u001b[0;34m\u001b[0m\u001b[0m\n",
            "\u001b[0;31mTypeError\u001b[0m: float() argument must be a string or a number, not 'Period'"
          ]
        },
        {
          "output_type": "display_data",
          "data": {
            "image/png": "[encoded data removed]",
            "text/plain": [
              "<Figure size 432x288 with 1 Axes>"
            ]
          },
          "metadata": {
            "tags": []
          }
        }
      ]
    },
    {
      "cell_type": "markdown",
      "metadata": {
        "id": "le3Zgm57nQIA"
      },
      "source": [
        "# 3 Visões"
      ]
    },
    {
      "cell_type": "markdown",
      "metadata": {
        "id": "5KCYV_hDPtlU"
      },
      "source": [
        "## 3.1 Temporal"
      ]
    },
    {
      "cell_type": "markdown",
      "metadata": {
        "id": "wEWMwe_RPhXU"
      },
      "source": [
        "## 3.2 Geográfica"
      ]
    },
    {
      "cell_type": "code",
      "metadata": {
        "id": "ZDFcirJW0kOT"
      },
      "source": [
        "# print(type(dados['texto']))"
      ],
      "execution_count": null,
      "outputs": []
    },
    {
      "cell_type": "code",
      "metadata": {
        "id": "GU2F-WiCb_65"
      },
      "source": [
        "# print(dados.count)"
      ],
      "execution_count": null,
      "outputs": []
    },
    {
      "cell_type": "code",
      "metadata": {
        "id": "at3vSsQGbkyh"
      },
      "source": [
        "# dados2 = dados.loc[dados.texto.str.find('?') >= 0 ]"
      ],
      "execution_count": null,
      "outputs": []
    },
    {
      "cell_type": "code",
      "metadata": {
        "id": "qI6kOlsKZMk9"
      },
      "source": [
        "# print(dados2.count)"
      ],
      "execution_count": null,
      "outputs": []
    },
    {
      "cell_type": "code",
      "metadata": {
        "id": "whAiICHub_nS"
      },
      "source": [
        "# dados2.head(10)"
      ],
      "execution_count": null,
      "outputs": []
    },
    {
      "cell_type": "markdown",
      "metadata": {
        "id": "ITE7gu9RKvkZ"
      },
      "source": [
        "Extrair as perguntas dos tweets que apresentam perguntas\n"
      ]
    },
    {
      "cell_type": "code",
      "metadata": {
        "id": "7j-mEmNbK2XP"
      },
      "source": [
        "# print(dados2.dtypes)"
      ],
      "execution_count": null,
      "outputs": []
    },
    {
      "cell_type": "code",
      "metadata": {
        "id": "Gm99KNYRXzHY"
      },
      "source": [
        "# # !pip install nltk\n",
        "\n",
        "# import nltk\n",
        "\n",
        "# from nltk import sent_tokenize\n",
        "\n",
        "# nltk.download('punkt')"
      ],
      "execution_count": null,
      "outputs": []
    },
    {
      "cell_type": "code",
      "metadata": {
        "id": "ml3h9AZLTuZq"
      },
      "source": [
        "\n",
        "#dados2['pergunta_extraida'] = sent_tokenize(dados2.texto.str)\n",
        "\n",
        "#print(dados2.dtypes)\n",
        "\n",
        "# print(type(dados2.texto.str.))"
      ],
      "execution_count": null,
      "outputs": []
    },
    {
      "cell_type": "markdown",
      "metadata": {
        "id": "KJhMGUH0oLY3"
      },
      "source": [
        "# 4 - Conclusões"
      ]
    },
    {
      "cell_type": "code",
      "metadata": {
        "id": "IarJhkokAPbz"
      },
      "source": [
        ""
      ],
      "execution_count": null,
      "outputs": []
    }
  ]
}